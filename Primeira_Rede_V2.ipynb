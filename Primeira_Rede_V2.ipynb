{
 "cells": [
  {
   "cell_type": "code",
   "execution_count": 536,
   "id": "22ae032c",
   "metadata": {},
   "outputs": [],
   "source": [
    "import numpy as np\n",
    "import matplotlib.pyplot as plt"
   ]
  },
  {
   "cell_type": "markdown",
   "id": "0809ea7e",
   "metadata": {},
   "source": [
    "# Construir sua primeira rede neural\n",
    "<img src=\"files/produto_interno.png\" width=\"200\" height=\"100\">\n",
    "A primeira etapa é definir o vetor de entrada"
   ]
  },
  {
   "cell_type": "code",
   "execution_count": 537,
   "id": "4dc747d7",
   "metadata": {},
   "outputs": [],
   "source": [
    "input_vector = [1.72, 1.23]"
   ]
  },
  {
   "cell_type": "markdown",
   "id": "2406e45f",
   "metadata": {},
   "source": [
    "A segunda consiste em escolher os pesos"
   ]
  },
  {
   "cell_type": "code",
   "execution_count": 538,
   "id": "966917f0",
   "metadata": {},
   "outputs": [],
   "source": [
    "weights_1 = [1.26, 0]\n",
    "weights_2 = [2.17, 0.32]"
   ]
  },
  {
   "cell_type": "markdown",
   "id": "390a6b69",
   "metadata": {},
   "source": [
    "Calcular o produto interno do vetor de entrada pelo pesos 1"
   ]
  },
  {
   "cell_type": "code",
   "execution_count": 539,
   "id": "add85556",
   "metadata": {},
   "outputs": [],
   "source": [
    "first_indexes_mult = input_vector[0] * weights_1[0]\n",
    "second_indexes_mult = input_vector[1] * weights_1[1]\n",
    "dot_product_1 = first_indexes_mult + second_indexes_mult"
   ]
  },
  {
   "cell_type": "code",
   "execution_count": 540,
   "id": "9b21f022",
   "metadata": {},
   "outputs": [
    {
     "name": "stdout",
     "output_type": "stream",
     "text": [
      "O produto da primeira entrada pelo peso é: 2.1672\n"
     ]
    }
   ],
   "source": [
    "print(f\"O produto da primeira entrada pelo peso é: {first_indexes_mult}\")"
   ]
  },
  {
   "cell_type": "code",
   "execution_count": 541,
   "id": "52c89471",
   "metadata": {},
   "outputs": [
    {
     "name": "stdout",
     "output_type": "stream",
     "text": [
      "O produto da primeira entrada pelo peso é: 0.0\n"
     ]
    }
   ],
   "source": [
    "print(f\"O produto da primeira entrada pelo peso é: {second_indexes_mult}\")"
   ]
  },
  {
   "cell_type": "code",
   "execution_count": 542,
   "id": "640d3178",
   "metadata": {},
   "outputs": [
    {
     "name": "stdout",
     "output_type": "stream",
     "text": [
      "O produto interno é: 2.1672\n"
     ]
    }
   ],
   "source": [
    "print(f\"O produto interno é: {dot_product_1}\")"
   ]
  },
  {
   "cell_type": "markdown",
   "id": "32e11117",
   "metadata": {},
   "source": [
    "### Repetir as operações usando numpy\n",
    "Importar a biblioteca numpy"
   ]
  },
  {
   "cell_type": "code",
   "execution_count": 543,
   "id": "ec0d2272",
   "metadata": {},
   "outputs": [],
   "source": [
    "import numpy as np"
   ]
  },
  {
   "cell_type": "markdown",
   "id": "8b9114df",
   "metadata": {},
   "source": [
    "Calcular o produto interno do vetor de entrada pelo pesos 1 usando numpy"
   ]
  },
  {
   "cell_type": "code",
   "execution_count": 544,
   "id": "02f3cc00",
   "metadata": {},
   "outputs": [],
   "source": [
    "dot_product_1 = np.dot(input_vector, weights_1)"
   ]
  },
  {
   "cell_type": "code",
   "execution_count": 545,
   "id": "8300df3e",
   "metadata": {},
   "outputs": [
    {
     "name": "stdout",
     "output_type": "stream",
     "text": [
      "O produto interno é: 2.1672\n"
     ]
    }
   ],
   "source": [
    "print(f\"O produto interno é: {dot_product_1}\")"
   ]
  },
  {
   "cell_type": "markdown",
   "id": "aa399170",
   "metadata": {},
   "source": [
    "Calcular o produto interno do vetor de entrada pelo pesos 2 usando numpy\n"
   ]
  },
  {
   "cell_type": "code",
   "execution_count": 546,
   "id": "5f959e4a",
   "metadata": {},
   "outputs": [],
   "source": [
    "dot_product_2 = np.dot(input_vector, weights_2)"
   ]
  },
  {
   "cell_type": "code",
   "execution_count": 547,
   "id": "11345f47",
   "metadata": {},
   "outputs": [
    {
     "name": "stdout",
     "output_type": "stream",
     "text": [
      "O produto interno é: 4.1259999999999994\n"
     ]
    }
   ],
   "source": [
    "print(f\"O produto interno é: {dot_product_2}\")"
   ]
  },
  {
   "cell_type": "markdown",
   "id": "459c6554",
   "metadata": {},
   "source": [
    "# Um problema de classificação\n",
    "\n",
    "| Vetor de Entrada | Alvo |\n",
    "| :- | -: |\n",
    "| [1.66, 1.56] | 1 |\n",
    "|   [2, 1.5]   | 0 |"
   ]
  },
  {
   "cell_type": "markdown",
   "id": "8423beb8",
   "metadata": {},
   "source": [
    "#### Envolvendo os vetores em matrizes NumPy"
   ]
  },
  {
   "cell_type": "code",
   "execution_count": 548,
   "id": "49ccf2b2",
   "metadata": {},
   "outputs": [],
   "source": [
    "input_vector = np.array([1.66, 1.56])\n",
    "weights_1 = np.array([1.45, -0.66])\n",
    "bias = np.array([0.0])"
   ]
  },
  {
   "cell_type": "markdown",
   "id": "d01f52c2",
   "metadata": {},
   "source": [
    "#### Definição da função sigmoide"
   ]
  },
  {
   "cell_type": "code",
   "execution_count": 549,
   "id": "ec583a2d",
   "metadata": {},
   "outputs": [],
   "source": [
    "def sigmoid(x):\n",
    "    return 1 / (1 + np.exp(-x))"
   ]
  },
  {
   "cell_type": "code",
   "execution_count": 550,
   "id": "59025578",
   "metadata": {},
   "outputs": [
    {
     "data": {
      "text/plain": [
       "<function matplotlib.pyplot.show(close=None, block=None)>"
      ]
     },
     "execution_count": 550,
     "metadata": {},
     "output_type": "execute_result"
    },
    {
     "data": {
      "image/png": "[encoded data removed]",
      "text/plain": [
       "<Figure size 432x288 with 1 Axes>"
      ]
     },
     "metadata": {
      "needs_background": "light"
     },
     "output_type": "display_data"
    }
   ],
   "source": [
    "import numpy as np\n",
    "import matplotlib.pyplot as plt\n",
    "x=np.linspace(-10,10,20)\n",
    "y = sigmoid(x)\n",
    "plt.plot(x,y)\n",
    "plt.xlabel('x')\n",
    "plt.ylabel('y')\n",
    "plt.title('Função sigmoide')\n",
    "plt.grid()\n",
    "plt.show"
   ]
  },
  {
   "cell_type": "markdown",
   "id": "0cc0cbc4",
   "metadata": {},
   "source": [
    "#### Definição da função de predição"
   ]
  },
  {
   "cell_type": "code",
   "execution_count": 551,
   "id": "74c5f14d",
   "metadata": {},
   "outputs": [],
   "source": [
    "def make_prediction(input_vector, weights, bias):\n",
    "     layer_1 = np.dot(input_vector, weights) + bias\n",
    "     print(f\"O resultado da saida da camada 1 é: {layer_1}\")\n",
    "     layer_2 = sigmoid(layer_1)\n",
    "     return layer_2"
   ]
  },
  {
   "cell_type": "code",
   "execution_count": 552,
   "id": "1a396cf8",
   "metadata": {},
   "outputs": [
    {
     "name": "stdout",
     "output_type": "stream",
     "text": [
      "O resultado da saida da camada 1 é: [1.3774]\n",
      "O resultado da predição é: [0.7985731]\n"
     ]
    }
   ],
   "source": [
    "prediction = make_prediction(input_vector, weights_1, bias)\n",
    "print(f\"O resultado da predição é: {prediction}\")"
   ]
  },
  {
   "cell_type": "markdown",
   "id": "67737b1d",
   "metadata": {},
   "source": [
    "Modificando o vetor de entrada"
   ]
  },
  {
   "cell_type": "code",
   "execution_count": 553,
   "id": "3a749076",
   "metadata": {},
   "outputs": [],
   "source": [
    "input_vector = np.array([2, 1.5])"
   ]
  },
  {
   "cell_type": "code",
   "execution_count": 554,
   "id": "a7f11cd4",
   "metadata": {},
   "outputs": [
    {
     "name": "stdout",
     "output_type": "stream",
     "text": [
      "O resultado da saida da camada 1 é: [1.91]\n",
      "O resultado da predição é: [0.87101915]\n"
     ]
    }
   ],
   "source": [
    "prediction = make_prediction(input_vector, weights_1, bias)\n",
    "print(f\"O resultado da predição é: {prediction}\")"
   ]
  },
  {
   "cell_type": "markdown",
   "id": "2d7a12c3",
   "metadata": {},
   "source": [
    "| Vetor de Entrada | Alvo | Predito |\n",
    "| :- | -: | -: |\n",
    "| [1.66, 1.56] | 1 | 0.798 |\n",
    "|   [2, 1.5]   | 0 | 0.871 |"
   ]
  },
  {
   "cell_type": "markdown",
   "id": "1ed98189",
   "metadata": {},
   "source": [
    "Treinar sua primeira rede neural:"
   ]
  },
  {
   "cell_type": "code",
   "execution_count": 555,
   "id": "ca2e79e7",
   "metadata": {},
   "outputs": [
    {
     "name": "stdout",
     "output_type": "stream",
     "text": [
      "Predição: [0.87101915]; Erro: [0.75867436]\n"
     ]
    }
   ],
   "source": [
    "target = 0\n",
    "mse = np.square(prediction - target)\n",
    "print(f\"Predição: {prediction}; Erro: {mse}\")"
   ]
  },
  {
   "cell_type": "markdown",
   "id": "448e73d5",
   "metadata": {},
   "source": [
    "Calcular da derivada:"
   ]
  },
  {
   "cell_type": "code",
   "execution_count": 556,
   "id": "9d43a2b0",
   "metadata": {},
   "outputs": [
    {
     "name": "stdout",
     "output_type": "stream",
     "text": [
      "A derivada é [1.7420383]\n"
     ]
    }
   ],
   "source": [
    "derivative = 2 * (prediction - target)\n",
    "print(f\"A derivada é {derivative}\")"
   ]
  },
  {
   "cell_type": "markdown",
   "id": "45275430",
   "metadata": {},
   "source": [
    "Atualizar pesos:"
   ]
  },
  {
   "cell_type": "code",
   "execution_count": 557,
   "id": "5b311c2c",
   "metadata": {},
   "outputs": [
    {
     "name": "stdout",
     "output_type": "stream",
     "text": [
      "O peso anterior é [ 1.45 -0.66]\n",
      "O peso atualizado é [-0.2920383 -2.4020383]\n"
     ]
    }
   ],
   "source": [
    "print(f\"O peso anterior é {weights_1}\")\n",
    "weights_1 = weights_1 - derivative\n",
    "print(f\"O peso atualizado é {weights_1}\")"
   ]
  },
  {
   "cell_type": "markdown",
   "id": "4bf640de",
   "metadata": {},
   "source": [
    "Fazendo uma nova predição:"
   ]
  },
  {
   "cell_type": "code",
   "execution_count": 558,
   "id": "e5cf24d8",
   "metadata": {},
   "outputs": [
    {
     "name": "stdout",
     "output_type": "stream",
     "text": [
      "O resultado da saida da camada 1 é: [-4.18713403]\n",
      "Prediction: [0.01496248]; Error: [0.00022388]\n"
     ]
    }
   ],
   "source": [
    "prediction = make_prediction(input_vector, weights_1, bias)\n",
    "error = (prediction - target) ** 2\n",
    "print(f\"Prediction: {prediction}; Error: {error}\")"
   ]
  },
  {
   "cell_type": "code",
   "execution_count": 559,
   "id": "3e2fface",
   "metadata": {},
   "outputs": [
    {
     "name": "stdout",
     "output_type": "stream",
     "text": [
      "O resultado da saida da camada 1 é: [-4.23196331]\n",
      "Prediction: [0.01431593]; Error: [0.97157309]\n"
     ]
    }
   ],
   "source": [
    "input_vector2 = [1.66, 1.56]\n",
    "target = 1\n",
    "prediction = make_prediction(input_vector2, weights_1, bias)\n",
    "error = (prediction - target) ** 2\n",
    "print(f\"Prediction: {prediction}; Error: {error}\")"
   ]
  },
  {
   "cell_type": "markdown",
   "id": "1f1073d9",
   "metadata": {},
   "source": [
    "| Vetor de Entrada | Alvo | Predito |\n",
    "| :- | -: | -: |\n",
    "| [1.66, 1.56] | 1 | 0.798 |\n",
    "|   [2, 1.5]   | 0 | 0.015 |"
   ]
  },
  {
   "cell_type": "code",
   "execution_count": 560,
   "id": "98f08790",
   "metadata": {},
   "outputs": [
    {
     "name": "stdout",
     "output_type": "stream",
     "text": [
      "O resultado da saida da camada 1 é: [-6.15111489]\n",
      "Prediction: [0.00212657]; Error: [0.99575138]\n"
     ]
    }
   ],
   "source": [
    "input_vector3 = [0.5, 2.5]\n",
    "target = 1\n",
    "prediction = make_prediction(input_vector3, weights_1, bias)\n",
    "error = (prediction - target) ** 2\n",
    "print(f\"Prediction: {prediction}; Error: {error}\")"
   ]
  },
  {
   "cell_type": "markdown",
   "id": "6790a32c",
   "metadata": {},
   "source": [
    "### Ajustando os parâmetros com retropropagação"
   ]
  },
  {
   "cell_type": "code",
   "execution_count": 561,
   "id": "c21ad47d",
   "metadata": {},
   "outputs": [],
   "source": [
    "def sigmoid(x):\n",
    "    return 1 / (1 + np.exp(-x))"
   ]
  },
  {
   "cell_type": "code",
   "execution_count": 562,
   "id": "c6091dac",
   "metadata": {},
   "outputs": [],
   "source": [
    "def sigmoid_deriv(x):\n",
    "    return sigmoid(x) * (1-sigmoid(x))"
   ]
  },
  {
   "cell_type": "code",
   "execution_count": 563,
   "id": "9e18df74",
   "metadata": {},
   "outputs": [
    {
     "data": {
      "text/plain": [
       "<function matplotlib.pyplot.show(close=None, block=None)>"
      ]
     },
     "execution_count": 563,
     "metadata": {},
     "output_type": "execute_result"
    },
    {
     "data": {
      "image/png": "[encoded data removed]",
      "text/plain": [
       "<Figure size 648x432 with 2 Axes>"
      ]
     },
     "metadata": {
      "needs_background": "light"
     },
     "output_type": "display_data"
    }
   ],
   "source": [
    "import numpy as np\n",
    "import matplotlib.pyplot as plt\n",
    "plt.figure(figsize=(9, 6))\n",
    "x=np.linspace(-10,10,20)\n",
    "y = sigmoid(x)\n",
    "plt.subplot(2,1,1)\n",
    "plt.plot(x,y)\n",
    "plt.xlabel('x')\n",
    "plt.ylabel('y')\n",
    "plt.title('Função sigmoide')\n",
    "plt.subplot(2,1,2)\n",
    "dy= sigmoid_deriv(x)\n",
    "plt.plot(x,dy)\n",
    "plt.xlabel('dx')\n",
    "plt.ylabel('y')\n",
    "plt.title('Derivada da sigmoide')\n",
    "plt.show"
   ]
  },
  {
   "cell_type": "markdown",
   "id": "c520333a",
   "metadata": {},
   "source": [
    "Calculando a derivada do erro de predição"
   ]
  },
  {
   "cell_type": "code",
   "execution_count": 564,
   "id": "452ab3bc",
   "metadata": {},
   "outputs": [
    {
     "name": "stdout",
     "output_type": "stream",
     "text": [
      "O valor predito: [0.00212657]\n",
      "O valor do alvo é: 1\n",
      "A derivada do erro de predição é: [-1.99574685]\n",
      "O valor do peso 1: [-0.2920383 -2.4020383]\n"
     ]
    }
   ],
   "source": [
    "print(f\"O valor predito: {prediction}\")\n",
    "print(f\"O valor do alvo é: {target}\")\n",
    "derror_dprediction = 2 * (prediction - target)\n",
    "print(f\"A derivada do erro de predição é: {derror_dprediction}\")\n",
    "print(f\"O valor do peso 1: {weights_1}\")"
   ]
  },
  {
   "cell_type": "markdown",
   "id": "d4217e13",
   "metadata": {},
   "source": [
    "Calculando o erro na saida da camada 1"
   ]
  },
  {
   "cell_type": "code",
   "execution_count": 565,
   "id": "395cb2e3",
   "metadata": {},
   "outputs": [
    {
     "name": "stdout",
     "output_type": "stream",
     "text": [
      "O vetor de entrada: [2.  1.5]\n",
      "O vetor de pesos na primeira camada: [-0.2920383 -2.4020383]\n",
      "O valor da polarização na primeira camada: [0.]\n",
      "O valor de saida na primeira camada antes da função de ativação: [-4.18713403]\n",
      "O valor de saida na primeira camada apos a função de ativação: [0.0147386]\n",
      "A derivada do erro na saida da primeira camada é: [-1.99574685]\n"
     ]
    }
   ],
   "source": [
    "print(f\"O vetor de entrada: {input_vector}\")\n",
    "print(f\"O vetor de pesos na primeira camada: {weights_1}\")\n",
    "print(f\"O valor da polarização na primeira camada: {bias}\")\n",
    "layer_1 = np.dot(input_vector, weights_1) + bias\n",
    "print(f\"O valor de saida na primeira camada antes da função de ativação: {layer_1}\")\n",
    "print(f\"O valor de saida na primeira camada apos a função de ativação: {sigmoid_deriv(layer_1)}\")\n",
    "dprediction_dlayer1 = sigmoid_deriv(layer_1)\n",
    "print(f\"A derivada do erro na saida da primeira camada é: {derror_dprediction}\")"
   ]
  },
  {
   "cell_type": "markdown",
   "id": "6274c425",
   "metadata": {},
   "source": [
    "# Criando uma classe de rede neural"
   ]
  },
  {
   "cell_type": "markdown",
   "id": "0e9ebdbd",
   "metadata": {},
   "source": [
    "<img src=\"files/Rede_Inicio02.png\" width=\"500\" height=\"250\">"
   ]
  },
  {
   "cell_type": "markdown",
   "id": "5c168d97",
   "metadata": {},
   "source": [
    "Etapa 1: Inicializar os pesos e a polarização"
   ]
  },
  {
   "cell_type": "code",
   "execution_count": 566,
   "id": "179d83ad",
   "metadata": {},
   "outputs": [
    {
     "name": "stdout",
     "output_type": "stream",
     "text": [
      "O vetor de peso: [1.76405235 0.40015721]\n",
      "O valor da polarização: 0.9787379841057392\n"
     ]
    }
   ],
   "source": [
    "np.random.seed(0) \n",
    "weights = np.array([np.random.randn(), np.random.randn()])\n",
    "print(f\"O vetor de peso: {weights}\")\n",
    "bias = np.random.randn()\n",
    "print(f\"O valor da polarização: {bias}\")"
   ]
  },
  {
   "cell_type": "markdown",
   "id": "8cad18b1",
   "metadata": {},
   "source": [
    "Criar uma função para inicializar pesos, polarização e taxa de aprendizagem"
   ]
  },
  {
   "cell_type": "code",
   "execution_count": 567,
   "id": "abe37bb5",
   "metadata": {},
   "outputs": [
    {
     "name": "stdout",
     "output_type": "stream",
     "text": [
      "O vetor de peso é: [1.76405235 0.40015721]\n",
      "O valor da polarização é: 0.9787379841057392\n",
      "A taxa de aprendizagem é: 0.001\n"
     ]
    }
   ],
   "source": [
    "def parametros(learning_rate):\n",
    "        np.random.seed(0) \n",
    "        weights = np.array([np.random.randn(), np.random.randn()])\n",
    "        bias = np.random.randn()\n",
    "        learning_rate = learning_rate\n",
    "learning_rate = 0.001\n",
    "inicial = parametros(learning_rate)\n",
    "print(f\"O vetor de peso é: {weights}\")\n",
    "print(f\"O valor da polarização é: {bias}\")\n",
    "print(f\"A taxa de aprendizagem é: {learning_rate}\")"
   ]
  },
  {
   "cell_type": "markdown",
   "id": "e7ad5c00",
   "metadata": {},
   "source": [
    "Etapa 2: Criar a função de ativação e a derivada da função"
   ]
  },
  {
   "cell_type": "markdown",
   "id": "3c430cf3",
   "metadata": {},
   "source": [
    "Função sigmoide:\n",
    "$ f(s) = \\frac{1}{1+e^{-s}} $"
   ]
  },
  {
   "cell_type": "code",
   "execution_count": 568,
   "id": "87693eac",
   "metadata": {},
   "outputs": [
    {
     "name": "stdout",
     "output_type": "stream",
     "text": [
      "O valor da sigmoide de 2 é: 0.8807970779778823\n"
     ]
    }
   ],
   "source": [
    "def _sigmoid( x):\n",
    "        return 1 / (1 + np.exp(-x))\n",
    "\n",
    "sig = _sigmoid(2)\n",
    "print(f\"O valor da sigmoide de 2 é: {sig}\")"
   ]
  },
  {
   "cell_type": "markdown",
   "id": "9172cf19",
   "metadata": {},
   "source": [
    "Derivada da função sigmoide:\n",
    "$ f{'}(s) = f(s)(1-f(s)) $"
   ]
  },
  {
   "cell_type": "code",
   "execution_count": 569,
   "id": "b0bf0253",
   "metadata": {},
   "outputs": [
    {
     "name": "stdout",
     "output_type": "stream",
     "text": [
      "O valor da derivada da sigmoide de 2 é: 0.10499358540350662\n"
     ]
    }
   ],
   "source": [
    "def _sigmoid_deriv( x):\n",
    "        return _sigmoid(x) * (1 - _sigmoid(x))\n",
    "der_sig = _sigmoid_deriv(2)\n",
    "print(f\"O valor da derivada da sigmoide de 2 é: {der_sig}\")"
   ]
  },
  {
   "cell_type": "code",
   "execution_count": 570,
   "id": "37cd45a6",
   "metadata": {},
   "outputs": [
    {
     "data": {
      "image/png": "[encoded data removed]",
      "text/plain": [
       "<Figure size 648x432 with 2 Axes>"
      ]
     },
     "metadata": {
      "needs_background": "light"
     },
     "output_type": "display_data"
    }
   ],
   "source": [
    "plt.figure(figsize=(9, 6))\n",
    "x=np.linspace(-10,10,20)\n",
    "y = sigmoid(x)\n",
    "plt.subplot(2,1,1)\n",
    "plt.plot(x,y)\n",
    "plt.plot(2,0.88,'o')\n",
    "plt.xlabel('x')\n",
    "plt.ylabel('y')\n",
    "plt.title('Função sigmoide')\n",
    "plt.grid()\n",
    "plt.subplot(2,1,2)\n",
    "dy= sigmoid_deriv(x)\n",
    "plt.plot(2,0.105,'o')\n",
    "plt.plot(x,dy)\n",
    "plt.xlabel('dx')\n",
    "plt.ylabel('y')\n",
    "plt.title('Derivada da sigmoide')\n",
    "plt.show\n",
    "plt.grid()"
   ]
  },
  {
   "cell_type": "markdown",
   "id": "e74a9187",
   "metadata": {},
   "source": [
    "Etapa 3: Criar a função de predição (forward)"
   ]
  },
  {
   "cell_type": "markdown",
   "id": "edb8dd56",
   "metadata": {},
   "source": [
    "Camada 1 (layer_1): $ s = x_{1} * W_{1} + x_{2} * W_{2}  + b  $"
   ]
  },
  {
   "cell_type": "markdown",
   "id": "cb5c94ea",
   "metadata": {},
   "source": [
    "Camada 2 (layer 2):\n",
    "$ f(s) = \\frac{1}{1+e^{-s}} $"
   ]
  },
  {
   "cell_type": "markdown",
   "id": "c95db88a",
   "metadata": {},
   "source": [
    "Saida: $ y = f(s) $"
   ]
  },
  {
   "cell_type": "code",
   "execution_count": 571,
   "id": "406195de",
   "metadata": {},
   "outputs": [
    {
     "name": "stdout",
     "output_type": "stream",
     "text": [
      "Para a entrada: [1.72, 1.23]\n",
      "O valor predito é: 0.989068352135059\n",
      "O valor dos pesos da camada de entrada é: [1.76405235 0.40015721]\n",
      "O valor da polaridade da camada de entrada é: 0.9787379841057392\n",
      "O resultado da camada de entrada é: 4.505101385461805\n",
      "O resultado da camada de saida é: 0.989068352135059\n"
     ]
    }
   ],
   "source": [
    "def predict(input_vector):\n",
    "        layer_1 = np.dot(input_vector, weights) + bias\n",
    "        layer_2 = sigmoid(layer_1)        \n",
    "        prediction = layer_2\n",
    "        return prediction, layer_1, layer_2\n",
    "\n",
    "input_vector = [1.72, 1.23]\n",
    "pred = predict(input_vector)\n",
    "prediction = pred[0]\n",
    "print(f\"Para a entrada: {input_vector}\")\n",
    "print(f\"O valor predito é: {prediction}\")\n",
    "print(f\"O valor dos pesos da camada de entrada é: {weights}\")\n",
    "print(f\"O valor da polaridade da camada de entrada é: {bias}\")\n",
    "print(f\"O resultado da camada de entrada é: {pred[1]}\")\n",
    "print(f\"O resultado da camada de saida é: {pred[2]}\")"
   ]
  },
  {
   "cell_type": "markdown",
   "id": "72a17a16",
   "metadata": {},
   "source": [
    "Etapa 3: Calculo do erro quadrático"
   ]
  },
  {
   "cell_type": "markdown",
   "id": "4af47722",
   "metadata": {},
   "source": [
    "$ E = \\frac{1}{2}(alvo - predito)^{2} $"
   ]
  },
  {
   "cell_type": "code",
   "execution_count": 572,
   "id": "180c6744",
   "metadata": {},
   "outputs": [
    {
     "name": "stdout",
     "output_type": "stream",
     "text": [
      "Prediction: 0.989068352135059; Error: 5.975046252153513e-05\n"
     ]
    }
   ],
   "source": [
    "def erro(target, prediction):\n",
    "    error = (1/2)*(target - prediction) ** 2\n",
    "    return error\n",
    "\n",
    "target = 1 \n",
    "error = erro(target, prediction)\n",
    "print(f\"Prediction: {prediction}; Error: {error}\")"
   ]
  },
  {
   "cell_type": "markdown",
   "id": "7279dbb9",
   "metadata": {},
   "source": [
    "Etapa 4: Criar a função que calcula o gradiente"
   ]
  },
  {
   "cell_type": "markdown",
   "id": "60a8c4df",
   "metadata": {},
   "source": [
    "$ E = (1/2)*[alvo - \\frac{1}{1 + e^{-(X_{1}  W_{1} + X_{2}  W_{2}  + b)}}]^{2}  $"
   ]
  },
  {
   "cell_type": "markdown",
   "id": "fdedc39a",
   "metadata": {},
   "source": [
    "$ \\frac{\\partial{E}}{\\partial{W_{1}}} = \\frac{\\partial{E}}{\\partial{Predito}} \\frac{\\partial{Predito}}{\\partial{s}} \\frac{\\partial{s}}{\\partial{W_{1}}} $"
   ]
  },
  {
   "cell_type": "markdown",
   "id": "8baf8097",
   "metadata": {},
   "source": [
    "$ \\frac{\\partial{E}}{\\partial{W_{2}}} = \\frac{\\partial{E}}{\\partial{Predito}} \\frac{\\partial{Predito}}{\\partial{s}} \\frac{\\partial{s}}{\\partial{W_{2}}} $"
   ]
  },
  {
   "cell_type": "markdown",
   "id": "5170ed52",
   "metadata": {},
   "source": [
    "$ \\frac{\\partial{E}}{\\partial{b}} = \\frac{\\partial{E}}{\\partial{Predito}} \\frac{\\partial{Predito}}{\\partial{s}} \\frac{\\partial{s}}{\\partial{b}} $"
   ]
  },
  {
   "cell_type": "markdown",
   "id": "bcc694ca",
   "metadata": {},
   "source": [
    "$ \\frac{\\partial{E}}{\\partial{predito}} = (alvo - predito)(-1) = predito -alvo $"
   ]
  },
  {
   "cell_type": "markdown",
   "id": "5a86e5c3",
   "metadata": {},
   "source": [
    "$ \\frac{\\partial{Predito}}{\\partial{s}} = f{'}(s) = f(s)(1-f(s))  $"
   ]
  },
  {
   "cell_type": "markdown",
   "id": "8041ea4d",
   "metadata": {},
   "source": [
    "$ \\frac{\\partial{s}}{\\partial{W_{1}}} = \\frac{\\partial{(x_{1} * W_{1} + x_{2} * W_{2}  + b})}{\\partial{W_{1}}} = x_{1} $  "
   ]
  },
  {
   "cell_type": "markdown",
   "id": "f4384086",
   "metadata": {},
   "source": [
    "$ \\frac{\\partial{s}}{\\partial{W_{2}}} = \\frac{\\partial{(x_{1} * W_{1} + x_{2} * W_{2}  + b})}{\\partial{W_{2}}} = x_{2} $"
   ]
  },
  {
   "cell_type": "markdown",
   "id": "6bf8bc24",
   "metadata": {},
   "source": [
    "$ \\frac{\\partial{s}}{\\partial{b}} = \\frac{\\partial{(x_{1} * W_{1} + x_{2} * W_{2}  + b})}{\\partial{b}} = 1 $"
   ]
  },
  {
   "cell_type": "code",
   "execution_count": 573,
   "id": "0a27dd98",
   "metadata": {},
   "outputs": [
    {
     "name": "stdout",
     "output_type": "stream",
     "text": [
      "O valor de alvo é: 1\n",
      "A derivada do erro de predição em relação aos pesos é: [-0.00027712 -0.00019817]\n",
      "A derivada do erro de predição em relação a polarização é: [-0.00016112]\n",
      "A derivada do erro de predição é: -0.010931647864941052\n",
      "A derivada do erro de predição na camada de entrada é: [0.0147386]\n",
      "A derivada da polarização é: 1\n",
      "A derivada dos pesos são: [1.72 1.23]\n"
     ]
    }
   ],
   "source": [
    "def _compute_gradients(input_vector, prediction, target):\n",
    "              \n",
    "        derror_dprediction = prediction - target\n",
    "        dprediction_dlayer1 = _sigmoid_deriv(layer_1)\n",
    "        dlayer1_dbias = 1\n",
    "        dlayer1_dweights = (0 * weights) + (1 * input_vector)\n",
    "        derror_dweights = derror_dprediction*dprediction_dlayer1*dlayer1_dweights\n",
    "        derror_dbias = derror_dprediction*dprediction_dlayer1*dlayer1_dbias\n",
    "        \n",
    "        return derror_dweights, derror_dbias, derror_dprediction, dprediction_dlayer1, \\\n",
    "        dlayer1_dbias, dlayer1_dweights                                 \n",
    "        \n",
    "\n",
    "print(f\"O valor de alvo é: {target}\")\n",
    "gradiente = _compute_gradients(input_vector,prediction, target) \n",
    "derror_dweights = gradiente[0]\n",
    "derror_dbias = gradiente[1]\n",
    "print(f\"A derivada do erro de predição em relação aos pesos é: {gradiente[0]}\")\n",
    "print(f\"A derivada do erro de predição em relação a polarização é: {gradiente[1]}\")\n",
    "print(f\"A derivada do erro de predição é: {gradiente[2]}\")\n",
    "print(f\"A derivada do erro de predição na camada de entrada é: {gradiente[3]}\")\n",
    "print(f\"A derivada da polarização é: {gradiente[4]}\")\n",
    "print(f\"A derivada dos pesos são: {gradiente[5]}\")"
   ]
  },
  {
   "cell_type": "markdown",
   "id": "8bca5b80",
   "metadata": {},
   "source": [
    "Atualização dos pesos e polarização <br/>\n",
    "&nbsp;&nbsp;&nbsp; $ W_{1} = W_{1} - \\eta *\\frac{\\partial{E}}{\\partial{W_{1}}} $  <br/>\n",
    "&nbsp;&nbsp;&nbsp; $ W_{2} = W_{2} - \\eta *\\frac{\\partial{E}}{\\partial{W_{2}}} $  <br/>\n",
    "&nbsp;&nbsp;&nbsp; $ b = b - \\eta *\\frac{\\partial{E}}{\\partial{b}} $"
   ]
  },
  {
   "cell_type": "code",
   "execution_count": 574,
   "id": "4f566f8b",
   "metadata": {},
   "outputs": [
    {
     "name": "stdout",
     "output_type": "stream",
     "text": [
      "---------------ITERAÇÃO 1 ----------------\n",
      "O valor dos pesos da camada de entrada é: [1.76405235 0.40015721]\n",
      "O valor da polaridade da camada de entrada é: 0.9787379841057392\n",
      "O valor predito é: 0.989068352135059\n",
      "---------------ITERAÇÃO 2----------------\n",
      "O valor dos pesos da camada de entrada é: [1.76405262 0.40015741]\n",
      "O valor da polaridade da camada de entrada é: [0.97873815]\n",
      "O valor predito é: [0.98906836]\n",
      "---------------ITERAÇÃO 3----------------\n",
      "O valor dos pesos da camada de entrada é: [1.7640529 0.4001576]\n",
      "O valor da polaridade da camada de entrada é: [0.97873831]\n",
      "O valor predito é: [0.98906837]\n"
     ]
    }
   ],
   "source": [
    "def _update_parameters(derror_dbias, derror_dweights,bias,weights,learning_rate):\n",
    "        bias = bias - (derror_dbias * learning_rate)        \n",
    "        weights = weights - (derror_dweights * learning_rate)\n",
    "        \n",
    "        return bias, weights\n",
    "\n",
    "print('---------------ITERAÇÃO 1 ----------------')    \n",
    "print(f\"O valor dos pesos da camada de entrada é: {weights}\")\n",
    "print(f\"O valor da polaridade da camada de entrada é: {bias}\")  \n",
    "print(f\"O valor predito é: {pred[0]}\")\n",
    "\n",
    "atualiza =_update_parameters(derror_dbias, derror_dweights, bias, weights,learning_rate)\n",
    "bias = atualiza[0]\n",
    "weights = atualiza[1]\n",
    "print('---------------ITERAÇÃO 2----------------')\n",
    "print(f\"O valor dos pesos da camada de entrada é: {atualiza[1]}\")\n",
    "print(f\"O valor da polaridade da camada de entrada é: {atualiza[0]}\")\n",
    "pred =predict(input_vector)\n",
    "print(f\"O valor predito é: {pred[0]}\")\n",
    "\n",
    "atualiza =_update_parameters(derror_dbias, derror_dweights, bias, weights,learning_rate)\n",
    "bias = atualiza[0]\n",
    "weights = atualiza[1]\n",
    "print('---------------ITERAÇÃO 3----------------')\n",
    "print(f\"O valor dos pesos da camada de entrada é: {atualiza[1]}\")\n",
    "print(f\"O valor da polaridade da camada de entrada é: {atualiza[0]}\")\n",
    "pred =predict(input_vector)\n",
    "print(f\"O valor predito é: {pred[0]}\")"
   ]
  },
  {
   "cell_type": "code",
   "execution_count": 575,
   "id": "6a418b4a",
   "metadata": {},
   "outputs": [],
   "source": [
    "def parametros(learning_rate):\n",
    "        np.random.seed(0) \n",
    "        weights = np.array([np.random.randn(), np.random.randn()])\n",
    "        bias = np.random.randn()\n",
    "        learning_rate = learning_rate\n",
    "        return weights, bias, learning_rate\n",
    "        \n",
    "def _sigmoid( x):\n",
    "        return 1 / (1 + np.exp(-x))\n",
    "    \n",
    "def _sigmoid_deriv( x):\n",
    "        return _sigmoid(x) * (1 - _sigmoid(x))\n",
    "    \n",
    "def predict(input_vector):        \n",
    "        layer_1 = np.dot(input_vector, weights) + bias\n",
    "        layer_2 = sigmoid(layer_1)        \n",
    "        prediction = layer_2\n",
    "        return prediction, layer_1, layer_2\n",
    "    \n",
    "def erro(target, prediction):\n",
    "    error = (1/2)*(target - prediction) ** 2\n",
    "    return error\n",
    "\n",
    "def _compute_gradients(input_vector, prediction, target):              \n",
    "        derror_dprediction = prediction - target\n",
    "        dprediction_dlayer1 = _sigmoid_deriv(layer_1)\n",
    "        dlayer1_dbias = 1\n",
    "        dlayer1_dweights = (0 * weights) + (1 * input_vector)\n",
    "        derror_dweights = derror_dprediction*dprediction_dlayer1*dlayer1_dweights\n",
    "        derror_dbias = derror_dprediction*dprediction_dlayer1*dlayer1_dbias        \n",
    "        return derror_dweights, derror_dbias, derror_dprediction, dprediction_dlayer1, \\\n",
    "        dlayer1_dbias, dlayer1_dweights\n",
    "    \n",
    "def _update_parameters(derror_dbias, derror_dweights,bias,weights,learning_rate):\n",
    "        bias = bias - (derror_dbias * learning_rate)        \n",
    "        weights = weights - (derror_dweights * learning_rate)        \n",
    "        return bias, weights    "
   ]
  },
  {
   "cell_type": "code",
   "execution_count": 576,
   "id": "45c2f713",
   "metadata": {},
   "outputs": [],
   "source": [
    "learning_rate = 0.001\n",
    "parametros(learning_rate)\n",
    "target = 1 \n",
    "input_vector = [1.72, 1.23]\n",
    "net_error = []\n",
    "for k in range(200000):\n",
    "    pred = predict(input_vector)    \n",
    "    prediction = pred[0]\n",
    "    error = erro(target, prediction) \n",
    "    net_error.append(error)\n",
    "    gradiente = _compute_gradients(input_vector,prediction, target) \n",
    "    derror_dweights = gradiente[0]\n",
    "    derror_dbias = gradiente[1]    \n",
    "    atualiza =_update_parameters(derror_dbias, derror_dweights, bias, weights,learning_rate)\n",
    "    bias = atualiza[0]\n",
    "    weights = atualiza[1]\n",
    "   "
   ]
  },
  {
   "cell_type": "code",
   "execution_count": 577,
   "id": "f01e4c51",
   "metadata": {},
   "outputs": [
    {
     "data": {
      "image/png": "[encoded data removed]",
      "text/plain": [
       "<Figure size 432x288 with 1 Axes>"
      ]
     },
     "metadata": {
      "needs_background": "light"
     },
     "output_type": "display_data"
    }
   ],
   "source": [
    "plt.plot(net_error)\n",
    "plt.ylabel('Erro')\n",
    "plt.xlabel('Iterações')\n",
    "plt.grid()"
   ]
  },
  {
   "cell_type": "code",
   "execution_count": 578,
   "id": "39c37278",
   "metadata": {},
   "outputs": [
    {
     "data": {
      "image/png": "[encoded data removed]",
      "text/plain": [
       "<Figure size 432x288 with 1 Axes>"
      ]
     },
     "metadata": {
      "needs_background": "light"
     },
     "output_type": "display_data"
    }
   ],
   "source": [
    "learning_rate = 0.001\n",
    "parametros(learning_rate)\n",
    "target = 0 \n",
    "input_vector = [2, 1.5]\n",
    "net_error = []\n",
    "for k in range(200000):\n",
    "    pred = predict(input_vector)    \n",
    "    prediction = pred[0]\n",
    "    error = erro(target, prediction) \n",
    "    net_error.append(error)\n",
    "    gradiente = _compute_gradients(input_vector,prediction, target) \n",
    "    derror_dweights = gradiente[0]\n",
    "    derror_dbias = gradiente[1]    \n",
    "    atualiza =_update_parameters(derror_dbias, derror_dweights, bias, weights,learning_rate)\n",
    "    bias = atualiza[0]\n",
    "    weights = atualiza[1]\n",
    "plt.plot(net_error)\n",
    "plt.ylabel('Erro')\n",
    "plt.xlabel('Iterações')\n",
    "plt.grid()"
   ]
  },
  {
   "cell_type": "code",
   "execution_count": 579,
   "id": "9d5d17e2",
   "metadata": {},
   "outputs": [
    {
     "data": {
      "image/png": "[encoded data removed]",
      "text/plain": [
       "<Figure size 432x288 with 1 Axes>"
      ]
     },
     "metadata": {
      "needs_background": "light"
     },
     "output_type": "display_data"
    }
   ],
   "source": [
    "learning_rate = 0.001\n",
    "parametros(learning_rate)\n",
    "target1 = 1 \n",
    "target2 = 0 \n",
    "input_vector1 = [2, 1.5]\n",
    "input_vector2 = [1.66, 1.56]\n",
    "net_error = []\n",
    "for k in range(200000):\n",
    "    pred1 = predict(input_vector1)  \n",
    "    pred2 = predict(input_vector2)   \n",
    "    prediction1 = pred1[0] \n",
    "    prediction2 = pred2[0]\n",
    "    error1 = erro(target1, prediction1) \n",
    "    error2 = erro(target2, prediction2) \n",
    "    error = error1+error2\n",
    "    net_error.append(error)\n",
    "    gradiente1 = _compute_gradients(input_vector1,prediction1, target1) \n",
    "    gradiente2 = _compute_gradients(input_vector2,prediction2, target2)\n",
    "    derror_dweights1 = gradiente1[0]\n",
    "    derror_dbias1 = gradiente1[1]  \n",
    "    error_dweights2 = gradiente2[0]\n",
    "    derror_dbias2 = gradiente2[1] \n",
    "    derror_dweights = derror_dweights1 + error_dweights2\n",
    "    derror_dbias = derror_dbias1 + derror_dbias2\n",
    "    atualiza =_update_parameters(derror_dbias, derror_dweights, bias, weights,learning_rate)\n",
    "    bias = atualiza[0]\n",
    "    weights = atualiza[1]\n",
    "plt.plot(net_error)\n",
    "plt.ylabel('Erro')\n",
    "plt.xlabel('Iterações')\n",
    "plt.grid()"
   ]
  },
  {
   "cell_type": "code",
   "execution_count": 580,
   "id": "9f6f89f1",
   "metadata": {},
   "outputs": [
    {
     "data": {
      "text/plain": [
       "(array([0.55181228]), array([0.48519798]))"
      ]
     },
     "execution_count": 580,
     "metadata": {},
     "output_type": "execute_result"
    }
   ],
   "source": [
    "pred1[0],pred2[0]"
   ]
  },
  {
   "cell_type": "code",
   "execution_count": 590,
   "id": "32508389",
   "metadata": {},
   "outputs": [
    {
     "data": {
      "text/html": [
       "<div>\n",
       "<style scoped>\n",
       "    .dataframe tbody tr th:only-of-type {\n",
       "        vertical-align: middle;\n",
       "    }\n",
       "\n",
       "    .dataframe tbody tr th {\n",
       "        vertical-align: top;\n",
       "    }\n",
       "\n",
       "    .dataframe thead th {\n",
       "        text-align: right;\n",
       "    }\n",
       "</style>\n",
       "<table border=\"1\" class=\"dataframe\">\n",
       "  <thead>\n",
       "    <tr style=\"text-align: right;\">\n",
       "      <th></th>\n",
       "      <th>in1</th>\n",
       "      <th>in2</th>\n",
       "      <th>out</th>\n",
       "    </tr>\n",
       "  </thead>\n",
       "  <tbody>\n",
       "    <tr>\n",
       "      <th>1</th>\n",
       "      <td>2.00</td>\n",
       "      <td>1.50</td>\n",
       "      <td>1.0</td>\n",
       "    </tr>\n",
       "    <tr>\n",
       "      <th>2</th>\n",
       "      <td>1.66</td>\n",
       "      <td>1.56</td>\n",
       "      <td>0.0</td>\n",
       "    </tr>\n",
       "  </tbody>\n",
       "</table>\n",
       "</div>"
      ],
      "text/plain": [
       "    in1   in2  out\n",
       "1  2.00  1.50  1.0\n",
       "2  1.66  1.56  0.0"
      ]
     },
     "execution_count": 590,
     "metadata": {},
     "output_type": "execute_result"
    }
   ],
   "source": [
    "df = pd.DataFrame(data=np.array([[2, 1.5, 1], [1.66, 1.56, 0]]), \n",
    "                  index= [1, 2], columns=['in1', 'in2', 'out'])\n",
    "df"
   ]
  },
  {
   "cell_type": "code",
   "execution_count": 606,
   "id": "753954e7",
   "metadata": {},
   "outputs": [
    {
     "name": "stderr",
     "output_type": "stream",
     "text": [
      "C:\\ProgramData\\Anaconda3\\lib\\site-packages\\numpy\\core\\_asarray.py:171: VisibleDeprecationWarning: Creating an ndarray from ragged nested sequences (which is a list-or-tuple of lists-or-tuples-or ndarrays with different lengths or shapes) is deprecated. If you meant to do this, you must specify 'dtype=object' when creating the ndarray.\n",
      "  return array(a, dtype, copy=False, order=order, subok=True)\n"
     ]
    },
    {
     "data": {
      "image/png": "[encoded data removed]",
      "text/plain": [
       "<Figure size 432x288 with 1 Axes>"
      ]
     },
     "metadata": {},
     "output_type": "display_data"
    }
   ],
   "source": [
    "import pandas as pd\n",
    "learning_rate = 0.001\n",
    "param = parametros(learning_rate)\n",
    "weights= param[0]\n",
    "bias= param[1]\n",
    "target = np.array(df['out'])\n",
    "input_vector = np.array([df['in1'],df['in2']])\n",
    "net_error_total = []\n",
    "gradiente = 0\n",
    "derror_dweights = 0\n",
    "derror_dbias = 0\n",
    "for k in range(200000):\n",
    "    gradiente = 0\n",
    "    derror_dweights = 0\n",
    "    derror_dbias = 0\n",
    "    error_total = 0\n",
    "    pred_final =[]\n",
    "    for i in range(2):        \n",
    "        pred = predict(input_vector[0:2,i])\n",
    "        pred_final.append(pred[0])        \n",
    "        prediction = pred[0]        \n",
    "        error = erro(target[i], prediction)         \n",
    "        error_total = error_total + error         \n",
    "        gradiente = _compute_gradients(input_vector[0:2,i],prediction, target[i])         \n",
    "        derror_dweights = derror_dweights + gradiente[0]\n",
    "        derror_dbias = derror_dbias +gradiente[1] \n",
    "    net_error_total.append(error_total)\n",
    "    atualiza =_update_parameters(derror_dbias, derror_dweights, bias, weights,learning_rate)\n",
    "    bias = atualiza[0]\n",
    "    weights = atualiza[1]\n",
    "plt.plot(net_error_total)\n",
    "plt.ylabel('Erro')\n",
    "plt.xlabel('Iterações')\n",
    "plt.grid()"
   ]
  },
  {
   "cell_type": "code",
   "execution_count": 607,
   "id": "78550c95",
   "metadata": {},
   "outputs": [
    {
     "data": {
      "text/plain": [
       "[array([0.556718]), array([0.4803034])]"
      ]
     },
     "execution_count": 607,
     "metadata": {},
     "output_type": "execute_result"
    }
   ],
   "source": [
    "pred_final"
   ]
  },
  {
   "cell_type": "code",
   "execution_count": 585,
   "id": "2000478a",
   "metadata": {},
   "outputs": [
    {
     "data": {
      "text/plain": [
       "array([1., 0.])"
      ]
     },
     "execution_count": 585,
     "metadata": {},
     "output_type": "execute_result"
    }
   ],
   "source": [
    "target"
   ]
  },
  {
   "cell_type": "code",
   "execution_count": 612,
   "id": "784fa64f",
   "metadata": {},
   "outputs": [
    {
     "data": {
      "text/html": [
       "<div>\n",
       "<style scoped>\n",
       "    .dataframe tbody tr th:only-of-type {\n",
       "        vertical-align: middle;\n",
       "    }\n",
       "\n",
       "    .dataframe tbody tr th {\n",
       "        vertical-align: top;\n",
       "    }\n",
       "\n",
       "    .dataframe thead th {\n",
       "        text-align: right;\n",
       "    }\n",
       "</style>\n",
       "<table border=\"1\" class=\"dataframe\">\n",
       "  <thead>\n",
       "    <tr style=\"text-align: right;\">\n",
       "      <th></th>\n",
       "      <th>in1</th>\n",
       "      <th>in2</th>\n",
       "      <th>out</th>\n",
       "    </tr>\n",
       "  </thead>\n",
       "  <tbody>\n",
       "    <tr>\n",
       "      <th>1</th>\n",
       "      <td>2.00</td>\n",
       "      <td>1.50</td>\n",
       "      <td>1.0</td>\n",
       "    </tr>\n",
       "    <tr>\n",
       "      <th>2</th>\n",
       "      <td>1.66</td>\n",
       "      <td>1.56</td>\n",
       "      <td>1.0</td>\n",
       "    </tr>\n",
       "    <tr>\n",
       "      <th>3</th>\n",
       "      <td>1.30</td>\n",
       "      <td>1.90</td>\n",
       "      <td>0.0</td>\n",
       "    </tr>\n",
       "    <tr>\n",
       "      <th>4</th>\n",
       "      <td>0.30</td>\n",
       "      <td>2.10</td>\n",
       "      <td>0.0</td>\n",
       "    </tr>\n",
       "  </tbody>\n",
       "</table>\n",
       "</div>"
      ],
      "text/plain": [
       "    in1   in2  out\n",
       "1  2.00  1.50  1.0\n",
       "2  1.66  1.56  1.0\n",
       "3  1.30  1.90  0.0\n",
       "4  0.30  2.10  0.0"
      ]
     },
     "execution_count": 612,
     "metadata": {},
     "output_type": "execute_result"
    }
   ],
   "source": [
    "df = pd.DataFrame(data=np.array([[2, 1.5, 1], [1.66, 1.56, 1], [1.3, 1.9, 0], [0.3, 2.1, 0]]), \n",
    "                  index= [1, 2, 3, 4], columns=['in1', 'in2', 'out'])\n",
    "df"
   ]
  },
  {
   "cell_type": "code",
   "execution_count": 613,
   "id": "349b2db2",
   "metadata": {},
   "outputs": [
    {
     "data": {
      "image/png": "[encoded data removed]",
      "text/plain": [
       "<Figure size 432x288 with 1 Axes>"
      ]
     },
     "metadata": {},
     "output_type": "display_data"
    }
   ],
   "source": [
    "import matplotlib.pyplot as plt\n",
    "import seaborn as sns\n",
    "sns.set_theme(style=\"darkgrid\")\n",
    "\n",
    "sns.scatterplot(x='in1', y='in2', hue='out', data=df) \n",
    "plt.show()"
   ]
  },
  {
   "cell_type": "code",
   "execution_count": 616,
   "id": "61a2ab49",
   "metadata": {},
   "outputs": [
    {
     "data": {
      "image/png": "[encoded data removed]",
      "text/plain": [
       "<Figure size 432x288 with 1 Axes>"
      ]
     },
     "metadata": {},
     "output_type": "display_data"
    }
   ],
   "source": [
    "import pandas as pd\n",
    "learning_rate = 0.001\n",
    "param = parametros(learning_rate)\n",
    "weights= param[0]\n",
    "bias= param[1]\n",
    "target = np.array(df['out'])\n",
    "input_vector = np.array([df['in1'],df['in2']])\n",
    "net_error_total = []\n",
    "gradiente = 0\n",
    "derror_dweights = 0\n",
    "derror_dbias = 0\n",
    "for k in range(200000):\n",
    "    gradiente = 0\n",
    "    derror_dweights = 0\n",
    "    derror_dbias = 0\n",
    "    error_total = 0\n",
    "    pred_final =[]\n",
    "    for i in range(4):         \n",
    "        pred = predict(input_vector[0:2,i])\n",
    "        pred_final.append(pred[0])        \n",
    "        prediction = pred[0]        \n",
    "        error = erro(target[i], prediction)         \n",
    "        error_total = error_total + error         \n",
    "        gradiente = _compute_gradients(input_vector[0:2,i],prediction, target[i])         \n",
    "        derror_dweights = derror_dweights + gradiente[0]\n",
    "        derror_dbias = derror_dbias +gradiente[1] \n",
    "    net_error_total.append(error_total)\n",
    "    atualiza =_update_parameters(derror_dbias, derror_dweights, bias, weights,learning_rate)\n",
    "    bias = atualiza[0]\n",
    "    weights = atualiza[1]\n",
    "plt.plot(net_error_total)\n",
    "plt.grid()\n",
    "plt.ylabel('Erro')\n",
    "plt.xlabel('Iterações')\n"
   ]
  },
  {
   "cell_type": "code",
   "execution_count": 617,
   "id": "7c442af7",
   "metadata": {},
   "outputs": [
    {
     "data": {
      "text/plain": [
       "[array([0.83962408]),\n",
       " array([0.70861539]),\n",
       " array([0.40613271]),\n",
       " array([0.0645226])]"
      ]
     },
     "execution_count": 617,
     "metadata": {},
     "output_type": "execute_result"
    }
   ],
   "source": [
    "pred_final"
   ]
  },
  {
   "cell_type": "code",
   "execution_count": null,
   "id": "5d433257",
   "metadata": {},
   "outputs": [],
   "source": []
  }
 ],
 "metadata": {
  "kernelspec": {
   "display_name": "Python 3 (ipykernel)",
   "language": "python",
   "name": "python3"
  },
  "language_info": {
   "codemirror_mode": {
    "name": "ipython",
    "version": 3
   },
   "file_extension": ".py",
   "mimetype": "text/x-python",
   "name": "python",
   "nbconvert_exporter": "python",
   "pygments_lexer": "ipython3",
   "version": "3.8.8"
  }
 },
 "nbformat": 4,
 "nbformat_minor": 5
}
