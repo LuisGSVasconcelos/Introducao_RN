{
 "cells": [
  {
   "cell_type": "code",
   "execution_count": 5,
   "id": "38a7dd97",
   "metadata": {},
   "outputs": [],
   "source": [
    "import tensorflow as tf\n"
   ]
  },
  {
   "cell_type": "code",
   "execution_count": 6,
   "id": "c0330c49",
   "metadata": {},
   "outputs": [],
   "source": [
    "x = tf.Variable(3, name=\"x\")  \n",
    "y = tf.Variable(4, name=\"y\")  \n",
    "f = x*x*y + y + 2 "
   ]
  },
  {
   "cell_type": "code",
   "execution_count": 9,
   "id": "8a591d95",
   "metadata": {},
   "outputs": [],
   "source": [
    "#Criar a sessão\n",
    "sess = tf.compat.v1.Session()"
   ]
  },
  {
   "cell_type": "code",
   "execution_count": 10,
   "id": "0cdac782",
   "metadata": {},
   "outputs": [],
   "source": [
    "#Inicializar\n",
    "sess.run(x.initializer)\n",
    "sess.run(y.initializer)"
   ]
  },
  {
   "cell_type": "code",
   "execution_count": 11,
   "id": "1439f9b0",
   "metadata": {},
   "outputs": [
    {
     "name": "stdout",
     "output_type": "stream",
     "text": [
      "42\n"
     ]
    }
   ],
   "source": [
    "#Avaliar\n",
    "result = sess.run(f)\n",
    "print(result)"
   ]
  },
  {
   "cell_type": "code",
   "execution_count": 12,
   "id": "118be04c",
   "metadata": {},
   "outputs": [],
   "source": [
    "#Encerra a sessão\n",
    "sess.close()"
   ]
  },
  {
   "cell_type": "code",
   "execution_count": 14,
   "id": "b1900a29",
   "metadata": {},
   "outputs": [
    {
     "data": {
      "text/plain": [
       "True"
      ]
     },
     "execution_count": 14,
     "metadata": {},
     "output_type": "execute_result"
    }
   ],
   "source": [
    "tf.compat.v1.get_default_graph()\n",
    "x1 = tf.Variable(1)\n",
    "x1.graph is tf.compat.v1.get_default_graph() "
   ]
  },
  {
   "cell_type": "code",
   "execution_count": 15,
   "id": "210321d4",
   "metadata": {},
   "outputs": [],
   "source": [
    "w = tf.constant(3)  \n",
    "x = w + 2  \n",
    "y = x + 5  \n",
    "z = x * 3 "
   ]
  },
  {
   "cell_type": "code",
   "execution_count": 16,
   "id": "828a6be8",
   "metadata": {},
   "outputs": [
    {
     "name": "stdout",
     "output_type": "stream",
     "text": [
      "10\n",
      "15\n"
     ]
    }
   ],
   "source": [
    "with tf.Session() as sess:  \n",
    "    print(y.eval()) #10  \n",
    "    print(z.eval()) #15 "
   ]
  },
  {
   "cell_type": "code",
   "execution_count": 18,
   "id": "d540e423",
   "metadata": {},
   "outputs": [],
   "source": [
    "import numpy as np\n",
    "from sklearn.datasets import fetch_california_housing  \n",
    "housing = fetch_california_housing()  \n",
    "m, n = housing.data.shape  \n",
    "housing_data_plus_bias = np.c_[np.ones((m, 1)), housing.data]  \n",
    "X = tf.constant(housing_data_plus_bias, dtype=tf.float32, name=\"X\")  \n",
    "y = tf.constant(housing.target.reshape(-1, 1), dtype=tf.float32, name=\"y\")  \n",
    "XT = tf.transpose(X)  \n",
    "theta = tf.matmul(tf.matmul(tf.linalg.inv(tf.matmul(XT, X)), XT), y)  \n",
    "with tf.compat.v1.Session() as sess:  \n",
    "    theta_value = theta.eval()"
   ]
  },
  {
   "cell_type": "code",
   "execution_count": 77,
   "id": "ad1b6609",
   "metadata": {},
   "outputs": [],
   "source": [
    "n_epochs = 10000  \n",
    "learning_rate = 0.01"
   ]
  },
  {
   "cell_type": "code",
   "execution_count": 78,
   "id": "a418fa6a",
   "metadata": {},
   "outputs": [],
   "source": [
    "from sklearn.preprocessing import StandardScaler"
   ]
  },
  {
   "cell_type": "code",
   "execution_count": 79,
   "id": "6ab279a1",
   "metadata": {},
   "outputs": [],
   "source": [
    "scaler = StandardScaler()"
   ]
  },
  {
   "cell_type": "code",
   "execution_count": 80,
   "id": "0d0374bc",
   "metadata": {},
   "outputs": [
    {
     "data": {
      "text/plain": [
       "StandardScaler()"
      ]
     },
     "execution_count": 80,
     "metadata": {},
     "output_type": "execute_result"
    }
   ],
   "source": [
    "scaler.fit(housing_data_plus_bias)"
   ]
  },
  {
   "cell_type": "code",
   "execution_count": 81,
   "id": "4577acbe",
   "metadata": {},
   "outputs": [],
   "source": [
    "scaled_housing_data_plus_bias = scaler.transform(housing_data_plus_bias)"
   ]
  },
  {
   "cell_type": "code",
   "execution_count": 82,
   "id": "03551a80",
   "metadata": {},
   "outputs": [],
   "source": [
    "X = tf.constant(scaled_housing_data_plus_bias, dtype=tf.float32, name=\"X\") \n",
    "y = tf.constant(housing.target.reshape(-1, 1), dtype=tf.float32, name=\"y\")"
   ]
  },
  {
   "cell_type": "code",
   "execution_count": null,
   "id": "90c0fb99",
   "metadata": {},
   "outputs": [],
   "source": []
  },
  {
   "cell_type": "code",
   "execution_count": 83,
   "id": "85e3b092",
   "metadata": {},
   "outputs": [],
   "source": [
    "theta = tf.Variable(tf.random.normal([n + 1, 1], -1.0, 1.0), name=\"theta\")"
   ]
  },
  {
   "cell_type": "code",
   "execution_count": 84,
   "id": "ef170c16",
   "metadata": {},
   "outputs": [],
   "source": [
    "y_pred = tf.matmul(X, theta, name=\"predictions\")"
   ]
  },
  {
   "cell_type": "code",
   "execution_count": 85,
   "id": "00afb597",
   "metadata": {},
   "outputs": [
    {
     "data": {
      "text/plain": [
       "<tf.Tensor 'sub_10:0' shape=(20640, 1) dtype=float32>"
      ]
     },
     "execution_count": 85,
     "metadata": {},
     "output_type": "execute_result"
    }
   ],
   "source": [
    "error = y_pred - y\n",
    "error"
   ]
  },
  {
   "cell_type": "code",
   "execution_count": 86,
   "id": "9c67a911",
   "metadata": {},
   "outputs": [
    {
     "data": {
      "text/plain": [
       "<tf.Tensor 'mse_4:0' shape=() dtype=float32>"
      ]
     },
     "execution_count": 86,
     "metadata": {},
     "output_type": "execute_result"
    }
   ],
   "source": [
    "mse = tf.reduce_mean(tf.square(error), name=\"mse\")\n",
    "mse"
   ]
  },
  {
   "cell_type": "code",
   "execution_count": 87,
   "id": "23ded0bf",
   "metadata": {},
   "outputs": [],
   "source": [
    "gradients = 2/m * tf.matmul(tf.transpose(X), error) "
   ]
  },
  {
   "cell_type": "code",
   "execution_count": 88,
   "id": "178935c1",
   "metadata": {},
   "outputs": [],
   "source": [
    "training_op = tf.compat.v1.assign(theta, theta - learning_rate * gradients)"
   ]
  },
  {
   "cell_type": "code",
   "execution_count": 89,
   "id": "1aeca170",
   "metadata": {},
   "outputs": [
    {
     "data": {
      "text/plain": [
       "<tf.Tensor 'Assign_5:0' shape=(9, 1) dtype=float32_ref>"
      ]
     },
     "execution_count": 89,
     "metadata": {},
     "output_type": "execute_result"
    }
   ],
   "source": [
    "training_op"
   ]
  },
  {
   "cell_type": "code",
   "execution_count": 90,
   "id": "21d469a4",
   "metadata": {},
   "outputs": [],
   "source": [
    "init = tf.compat.v1.global_variables_initializer() "
   ]
  },
  {
   "cell_type": "code",
   "execution_count": 91,
   "id": "98db17c5",
   "metadata": {},
   "outputs": [
    {
     "name": "stdout",
     "output_type": "stream",
     "text": [
      "Epoch 0 MSE = 21.662779\n",
      "Epoch 100 MSE = 20.850697\n",
      "Epoch 200 MSE = 20.08165\n",
      "Epoch 300 MSE = 19.353144\n",
      "Epoch 400 MSE = 18.662836\n",
      "Epoch 500 MSE = 18.00854\n",
      "Epoch 600 MSE = 17.388195\n",
      "Epoch 700 MSE = 16.799868\n",
      "Epoch 800 MSE = 16.241755\n",
      "Epoch 900 MSE = 15.712161\n",
      "Epoch 1000 MSE = 15.209481\n",
      "Epoch 1100 MSE = 14.732225\n",
      "Epoch 1200 MSE = 14.278979\n",
      "Epoch 1300 MSE = 13.848427\n",
      "Epoch 1400 MSE = 13.439322\n",
      "Epoch 1500 MSE = 13.050504\n",
      "Epoch 1600 MSE = 12.680866\n",
      "Epoch 1700 MSE = 12.329376\n",
      "Epoch 1800 MSE = 11.99506\n",
      "Epoch 1900 MSE = 11.677002\n",
      "Epoch 2000 MSE = 11.374343\n",
      "Epoch 2100 MSE = 11.086267\n",
      "Epoch 2200 MSE = 10.812011\n",
      "Epoch 2300 MSE = 10.550853\n",
      "Epoch 2400 MSE = 10.302109\n",
      "Epoch 2500 MSE = 10.065141\n",
      "Epoch 2600 MSE = 9.839343\n",
      "Epoch 2700 MSE = 9.624142\n",
      "Epoch 2800 MSE = 9.418999\n",
      "Epoch 2900 MSE = 9.223407\n",
      "Epoch 3000 MSE = 9.03688\n",
      "Epoch 3100 MSE = 8.858968\n",
      "Epoch 3200 MSE = 8.689239\n",
      "Epoch 3300 MSE = 8.527287\n",
      "Epoch 3400 MSE = 8.372727\n",
      "Epoch 3500 MSE = 8.225197\n",
      "Epoch 3600 MSE = 8.0843525\n",
      "Epoch 3700 MSE = 7.9498653\n",
      "Epoch 3800 MSE = 7.8214297\n",
      "Epoch 3900 MSE = 7.698754\n",
      "Epoch 4000 MSE = 7.5815573\n",
      "Epoch 4100 MSE = 7.4695826\n",
      "Epoch 4200 MSE = 7.3625774\n",
      "Epoch 4300 MSE = 7.2603064\n",
      "Epoch 4400 MSE = 7.1625476\n",
      "Epoch 4500 MSE = 7.0690875\n",
      "Epoch 4600 MSE = 6.979724\n",
      "Epoch 4700 MSE = 6.894267\n",
      "Epoch 4800 MSE = 6.812534\n",
      "Epoch 4900 MSE = 6.734354\n",
      "Epoch 5000 MSE = 6.659561\n",
      "Epoch 5100 MSE = 6.5880013\n",
      "Epoch 5200 MSE = 6.5195265\n",
      "Epoch 5300 MSE = 6.4539933\n",
      "Epoch 5400 MSE = 6.3912706\n",
      "Epoch 5500 MSE = 6.331232\n",
      "Epoch 5600 MSE = 6.2737536\n",
      "Epoch 5700 MSE = 6.2187214\n",
      "Epoch 5800 MSE = 6.1660247\n",
      "Epoch 5900 MSE = 6.1155615\n",
      "Epoch 6000 MSE = 6.0672297\n",
      "Epoch 6100 MSE = 6.020937\n",
      "Epoch 6200 MSE = 5.976589\n",
      "Epoch 6300 MSE = 5.934105\n",
      "Epoch 6400 MSE = 5.893399\n",
      "Epoch 6500 MSE = 5.854394\n",
      "Epoch 6600 MSE = 5.8170156\n",
      "Epoch 6700 MSE = 5.7811937\n",
      "Epoch 6800 MSE = 5.746859\n",
      "Epoch 6900 MSE = 5.713947\n",
      "Epoch 7000 MSE = 5.682398\n",
      "Epoch 7100 MSE = 5.6521497\n",
      "Epoch 7200 MSE = 5.623149\n",
      "Epoch 7300 MSE = 5.5953407\n",
      "Epoch 7400 MSE = 5.5686736\n",
      "Epoch 7500 MSE = 5.5431\n",
      "Epoch 7600 MSE = 5.5185714\n",
      "Epoch 7700 MSE = 5.4950447\n",
      "Epoch 7800 MSE = 5.472477\n",
      "Epoch 7900 MSE = 5.4508266\n",
      "Epoch 8000 MSE = 5.4300547\n",
      "Epoch 8100 MSE = 5.4101253\n",
      "Epoch 8200 MSE = 5.3910017\n",
      "Epoch 8300 MSE = 5.3726506\n",
      "Epoch 8400 MSE = 5.3550396\n",
      "Epoch 8500 MSE = 5.3381376\n",
      "Epoch 8600 MSE = 5.3219137\n",
      "Epoch 8700 MSE = 5.30634\n",
      "Epoch 8800 MSE = 5.29139\n",
      "Epoch 8900 MSE = 5.277038\n",
      "Epoch 9000 MSE = 5.2632575\n",
      "Epoch 9100 MSE = 5.2500267\n",
      "Epoch 9200 MSE = 5.2373204\n",
      "Epoch 9300 MSE = 5.2251186\n",
      "Epoch 9400 MSE = 5.2134\n",
      "Epoch 9500 MSE = 5.2021456\n",
      "Epoch 9600 MSE = 5.191334\n",
      "Epoch 9700 MSE = 5.180948\n",
      "Epoch 9800 MSE = 5.1709704\n",
      "Epoch 9900 MSE = 5.161384\n"
     ]
    }
   ],
   "source": [
    "with tf.Session() as sess:  \n",
    "    sess.run(init)  \n",
    "    \n",
    "    for epoch in range(n_epochs):  \n",
    "        if epoch% 100 == 0:  \n",
    "            print(\"Epoch\", epoch, \"MSE =\", mse.eval())  \n",
    "            sess.run(training_op)  \n",
    "            \n",
    "    best_theta = theta.eval() "
   ]
  },
  {
   "cell_type": "code",
   "execution_count": null,
   "id": "7099b9b5",
   "metadata": {},
   "outputs": [],
   "source": []
  }
 ],
 "metadata": {
  "kernelspec": {
   "display_name": "Python 3 (ipykernel)",
   "language": "python",
   "name": "python3"
  },
  "language_info": {
   "codemirror_mode": {
    "name": "ipython",
    "version": 3
   },
   "file_extension": ".py",
   "mimetype": "text/x-python",
   "name": "python",
   "nbconvert_exporter": "python",
   "pygments_lexer": "ipython3",
   "version": "3.7.10"
  }
 },
 "nbformat": 4,
 "nbformat_minor": 5
}
