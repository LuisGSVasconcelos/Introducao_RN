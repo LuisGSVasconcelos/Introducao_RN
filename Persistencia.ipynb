{
 "cells": [
  {
   "cell_type": "markdown",
   "id": "4baea58a",
   "metadata": {},
   "source": [
    "# Modelo de persistencia - Referencia"
   ]
  },
  {
   "cell_type": "code",
   "execution_count": null,
   "id": "e9ce419f",
   "metadata": {},
   "outputs": [],
   "source": [
    "import numpy as np # linear algebra\n",
    "import pandas as pd # data processing, CSV file I/O (e.g. pd.read_csv)\n",
    "import matplotlib.pyplot  as  plt"
   ]
  },
  {
   "cell_type": "code",
   "execution_count": null,
   "id": "5f1ed5ad",
   "metadata": {},
   "outputs": [],
   "source": [
    "series = pd.read_csv('shampoo.csv', header=0, parse_dates=[0], index_col=0, squeeze=True)\n",
    "series.plot()"
   ]
  },
  {
   "cell_type": "code",
   "execution_count": null,
   "id": "436fe1d0",
   "metadata": {},
   "outputs": [],
   "source": [
    "series"
   ]
  },
  {
   "cell_type": "code",
   "execution_count": null,
   "id": "16530b18",
   "metadata": {},
   "outputs": [],
   "source": [
    "# Create lagged dataset\n",
    "values = pd.DataFrame(series.values)\n",
    "values"
   ]
  },
  {
   "cell_type": "markdown",
   "id": "84a7526e",
   "metadata": {},
   "source": [
    "### Etapa 1: Definir o problema de aprendizagem supervisionada"
   ]
  },
  {
   "cell_type": "code",
   "execution_count": null,
   "id": "70cdd79f",
   "metadata": {},
   "outputs": [],
   "source": [
    "dataframe = pd.concat([values.shift(1), values], axis=1)\n",
    "dataframe.columns = ['t-1', 't']\n",
    "dataframe"
   ]
  },
  {
   "cell_type": "code",
   "execution_count": null,
   "id": "32c2744c",
   "metadata": {},
   "outputs": [],
   "source": [
    "# split into train and test sets\n",
    "X = dataframe.values"
   ]
  },
  {
   "cell_type": "code",
   "execution_count": null,
   "id": "4fd20460",
   "metadata": {},
   "outputs": [],
   "source": [
    "plt.plot(X)"
   ]
  },
  {
   "cell_type": "markdown",
   "id": "9cfd8467",
   "metadata": {},
   "source": [
    "### Etapa 2: treinar e testar conjuntos"
   ]
  },
  {
   "cell_type": "code",
   "execution_count": null,
   "id": "c1ac9680",
   "metadata": {},
   "outputs": [],
   "source": [
    "len(X)"
   ]
  },
  {
   "cell_type": "code",
   "execution_count": null,
   "id": "8e8845cc",
   "metadata": {},
   "outputs": [],
   "source": [
    "train_size = int(len(X) * 0.66)\n",
    "train_size,len(X)-train_size"
   ]
  },
  {
   "cell_type": "code",
   "execution_count": null,
   "id": "f4dd0f43",
   "metadata": {},
   "outputs": [],
   "source": [
    "train, test = X[1:train_size], X[train_size:]\n",
    "plt.plot(np.arange(train_size-1),train,label='train')\n",
    "plt.plot(np.arange(train_size,len(X)),test,label='test')\n",
    "plt.legend()"
   ]
  },
  {
   "cell_type": "code",
   "execution_count": null,
   "id": "0af0634d",
   "metadata": {},
   "outputs": [],
   "source": [
    "train_X, train_y = train[:,0], train[:,1]"
   ]
  },
  {
   "cell_type": "code",
   "execution_count": null,
   "id": "efa149da",
   "metadata": {},
   "outputs": [],
   "source": [
    "train_X"
   ]
  },
  {
   "cell_type": "code",
   "execution_count": null,
   "id": "7d02bfc6",
   "metadata": {},
   "outputs": [],
   "source": [
    "train_y"
   ]
  },
  {
   "cell_type": "code",
   "execution_count": null,
   "id": "4a580bd8",
   "metadata": {},
   "outputs": [],
   "source": [
    "test_X, test_y = test[:,0], test[:,1]"
   ]
  },
  {
   "cell_type": "markdown",
   "id": "3e96b47a",
   "metadata": {},
   "source": [
    "### Etapa 3: Algoritmo de Persistência"
   ]
  },
  {
   "cell_type": "code",
   "execution_count": null,
   "id": "085497ee",
   "metadata": {},
   "outputs": [],
   "source": [
    "# persistence model\n",
    "def model_persistence(x):\n",
    "    return x"
   ]
  },
  {
   "cell_type": "markdown",
   "id": "a0e7c9a6",
   "metadata": {},
   "source": [
    "### Etapa 4: fazer e avaliar previsões"
   ]
  },
  {
   "cell_type": "code",
   "execution_count": null,
   "id": "fe063879",
   "metadata": {},
   "outputs": [],
   "source": [
    "from sklearn.metrics import mean_squared_error\n",
    "# walk-forward validation\n",
    "predictions = list()\n",
    "for x in test_X:\n",
    "    yhat = model_persistence(x)\n",
    "    predictions.append(yhat)\n",
    "test_score = mean_squared_error(test_y, predictions)\n",
    "print('Test MSE: %.3f' % test_score)"
   ]
  },
  {
   "cell_type": "markdown",
   "id": "25a5fff0",
   "metadata": {},
   "source": [
    "### Etapa 5: Exemplo Completo"
   ]
  },
  {
   "cell_type": "code",
   "execution_count": null,
   "id": "77e2a3b2",
   "metadata": {},
   "outputs": [],
   "source": [
    "plt.plot(np.arange(train_size-1),train_y,label='train')\n",
    "plt.plot(np.arange(train_size,len(X)),test_y, label='test')\n",
    "plt.plot(np.arange(train_size,len(X)),predictions, label='predictions')\n",
    "plt.legend()"
   ]
  },
  {
   "cell_type": "markdown",
   "id": "c046efe3",
   "metadata": {},
   "source": [
    "## Exercício"
   ]
  },
  {
   "cell_type": "markdown",
   "id": "e6dcd710",
   "metadata": {},
   "source": [
    "Refazer o algoritmo de persistencia para o problema de vendas de trator. <br>\n",
    "Usar o dataset \"Tractor-Sales.csv\""
   ]
  },
  {
   "cell_type": "code",
   "execution_count": null,
   "id": "34365556",
   "metadata": {},
   "outputs": [],
   "source": []
  }
 ],
 "metadata": {
  "kernelspec": {
   "display_name": "Python 3 (ipykernel)",
   "language": "python",
   "name": "python3"
  },
  "language_info": {
   "codemirror_mode": {
    "name": "ipython",
    "version": 3
   },
   "file_extension": ".py",
   "mimetype": "text/x-python",
   "name": "python",
   "nbconvert_exporter": "python",
   "pygments_lexer": "ipython3",
   "version": "3.8.8"
  }
 },
 "nbformat": 4,
 "nbformat_minor": 5
}
