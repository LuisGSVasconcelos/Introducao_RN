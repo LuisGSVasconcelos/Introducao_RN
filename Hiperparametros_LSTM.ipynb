{
 "cells": [
  {
   "cell_type": "code",
   "execution_count": 1,
   "id": "77def8d0",
   "metadata": {},
   "outputs": [
    {
     "name": "stderr",
     "output_type": "stream",
     "text": [
      "C:\\Users\\55839\\AppData\\Local\\Temp/ipykernel_6328/1853226602.py:3: FutureWarning: The pandas.datetime class is deprecated and will be removed from pandas in a future version. Import from datetime module instead.\n",
      "  from pandas import datetime\n"
     ]
    }
   ],
   "source": [
    "# load and plot dataset\n",
    "from pandas import read_csv\n",
    "from pandas import datetime\n",
    "from matplotlib import pyplot"
   ]
  },
  {
   "cell_type": "code",
   "execution_count": 3,
   "id": "87d597fc",
   "metadata": {},
   "outputs": [],
   "source": [
    "# load dataset\n",
    "def parser(x):\n",
    "    return datetime.strptime('190'+x, '%Y-%m')\n",
    "series = read_csv('shampoo.csv', header=0, parse_dates=[0], \n",
    "                  index_col=0, squeeze=True, date_parser=parser)"
   ]
  },
  {
   "cell_type": "code",
   "execution_count": 4,
   "id": "e13a4fa4",
   "metadata": {},
   "outputs": [
    {
     "name": "stdout",
     "output_type": "stream",
     "text": [
      "Month\n",
      "1901-01-01    266.0\n",
      "1901-02-01    145.9\n",
      "1901-03-01    183.1\n",
      "1901-04-01    119.3\n",
      "1901-05-01    180.3\n",
      "Name: Sales, dtype: float64\n"
     ]
    }
   ],
   "source": [
    "# summarize first few rows\n",
    "print(series.head())"
   ]
  },
  {
   "cell_type": "code",
   "execution_count": 5,
   "id": "f5359210",
   "metadata": {},
   "outputs": [
    {
     "data": {
      "image/png": "[encoded data removed]",
      "text/plain": [
       "<Figure size 432x288 with 1 Axes>"
      ]
     },
     "metadata": {
      "needs_background": "light"
     },
     "output_type": "display_data"
    }
   ],
   "source": [
    "# line plot\n",
    "series.plot()\n",
    "pyplot.show()"
   ]
  },
  {
   "cell_type": "code",
   "execution_count": 6,
   "id": "f4a31b42",
   "metadata": {},
   "outputs": [
    {
     "name": "stderr",
     "output_type": "stream",
     "text": [
      "C:\\Users\\55839\\AppData\\Local\\Temp/ipykernel_6328/3785938675.py:5: FutureWarning: The pandas.datetime class is deprecated and will be removed from pandas in a future version. Import from datetime module instead.\n",
      "  from pandas import datetime\n"
     ]
    }
   ],
   "source": [
    "from pandas import DataFrame\n",
    "from pandas import Series\n",
    "from pandas import concat\n",
    "from pandas import read_csv\n",
    "from pandas import datetime\n",
    "from sklearn.metrics import mean_squared_error\n",
    "from sklearn.preprocessing import MinMaxScaler\n",
    "from keras.models import Sequential\n",
    "from keras.layers import Dense\n",
    "from keras.layers import LSTM\n",
    "from math import sqrt\n",
    "import matplotlib"
   ]
  },
  {
   "cell_type": "code",
   "execution_count": 8,
   "id": "a332f4b6",
   "metadata": {},
   "outputs": [],
   "source": [
    "# be able to save images on server\n",
    "matplotlib.use('Agg')\n",
    "from matplotlib import pyplot\n",
    "import numpy"
   ]
  },
  {
   "cell_type": "code",
   "execution_count": 9,
   "id": "0ead7825",
   "metadata": {},
   "outputs": [],
   "source": [
    "# date-time parsing function for loading the dataset\n",
    "def parser(x):\n",
    "    return datetime.strptime('190'+x, '%Y-%m')"
   ]
  },
  {
   "cell_type": "code",
   "execution_count": 10,
   "id": "a70549d9",
   "metadata": {},
   "outputs": [],
   "source": [
    "# frame a sequence as a supervised learning problem\n",
    "def timeseries_to_supervised(data, lag=1):\n",
    "    df = DataFrame(data)\n",
    "    columns = [df.shift(i) for i in range(1, lag+1)]\n",
    "    columns.append(df)\n",
    "    df = concat(columns, axis=1)\n",
    "    df = df.drop(0)\n",
    "    return df"
   ]
  },
  {
   "cell_type": "code",
   "execution_count": 11,
   "id": "d8b9292e",
   "metadata": {},
   "outputs": [],
   "source": [
    "# create a differenced series\n",
    "def difference(dataset, interval=1):\n",
    "    diff = list()\n",
    "    for i in range(interval, len(dataset)):\n",
    "        value = dataset[i] - dataset[i - interval]\n",
    "        diff.append(value)\n",
    "    return Series(diff)"
   ]
  },
  {
   "cell_type": "code",
   "execution_count": 12,
   "id": "5b2dde7b",
   "metadata": {},
   "outputs": [],
   "source": [
    "# scale train and test data to [-1, 1]\n",
    "def scale(train, test):\n",
    "    # fit scaler\n",
    "    scaler = MinMaxScaler(feature_range=(-1, 1))\n",
    "    scaler = scaler.fit(train)\n",
    "    # transform train\n",
    "    train = train.reshape(train.shape[0], train.shape[1])\n",
    "    train_scaled = scaler.transform(train)\n",
    "    # transform test\n",
    "    test = test.reshape(test.shape[0], test.shape[1])\n",
    "    test_scaled = scaler.transform(test)\n",
    "    return scaler, train_scaled, test_scaled"
   ]
  },
  {
   "cell_type": "code",
   "execution_count": 20,
   "id": "4bfb5bdf",
   "metadata": {},
   "outputs": [],
   "source": [
    "# inverse scaling for a forecasted value\n",
    "def invert_scale(scaler, X, yhat):\n",
    "    new_row = [x for x in X] + [yhat]\n",
    "    array = numpy.array(new_row)\n",
    "    array = array.reshape(1, len(array))\n",
    "    inverted = scaler.inverse_transform(array)\n",
    "    return inverted[0, -1]"
   ]
  },
  {
   "cell_type": "code",
   "execution_count": 13,
   "id": "ac4c9459",
   "metadata": {},
   "outputs": [],
   "source": [
    "# evaluate the model on a dataset, returns RMSE in transformed units\n",
    "def evaluate(model, raw_data, scaled_dataset, scaler, offset, batch_size):\n",
    "    # separate\n",
    "    X, y = scaled_dataset[:,0:-1], scaled_dataset[:,-1]\n",
    "    # reshape\n",
    "    reshaped = X.reshape(len(X), 1, 1)\n",
    "    # forecast dataset\n",
    "    output = model.predict(reshaped, batch_size=batch_size)\n",
    "    # invert data transforms on forecast\n",
    "    predictions = list()\n",
    "    for i in range(len(output)):\n",
    "        yhat = output[i,0]\n",
    "        # invert scaling\n",
    "        yhat = invert_scale(scaler, X[i], yhat)\n",
    "        # invert differencing\n",
    "        yhat = yhat + raw_data[i]\n",
    "        # store forecast\n",
    "        predictions.append(yhat)\n",
    "    # report performance\n",
    "    rmse = sqrt(mean_squared_error(raw_data[1:], predictions))\n",
    "    return rmse"
   ]
  },
  {
   "cell_type": "code",
   "execution_count": 25,
   "id": "bd45d685",
   "metadata": {},
   "outputs": [],
   "source": [
    "# fit an LSTM network to training data\n",
    "def fit_lstm(train, test, raw, scaler, batch_size, nb_epoch, neurons):\n",
    "    X, y = train[:, 0:-1], train[:, -1]\n",
    "    X = X.reshape(X.shape[0], 1, X.shape[1])\n",
    "    # prepare model\n",
    "    model = Sequential()\n",
    "    model.add(LSTM(neurons, batch_input_shape=(batch_size, X.shape[1], X.shape[2]), stateful=True))\n",
    "    model.add(Dense(1))\n",
    "    model.compile(loss='mean_squared_error', optimizer='adam')\n",
    "    # fit model\n",
    "    train_rmse, test_rmse = list(), list()\n",
    "    for i in range(nb_epoch):\n",
    "        model.fit(X, y, epochs=1, batch_size=batch_size, verbose=2, shuffle=False)\n",
    "        model.reset_states()\n",
    "        # evaluate model on train data\n",
    "        raw_train = raw[-(len(train)+len(test)+1):-len(test)]\n",
    "        train_rmse.append(evaluate(model, raw_train, train, scaler, 0, batch_size))\n",
    "        model.reset_states()\n",
    "        # evaluate model on test data\n",
    "        raw_test = raw[-(len(test)+1):]\n",
    "        test_rmse.append(evaluate(model, raw_test, test, scaler, 0, batch_size))\n",
    "        model.reset_states()\n",
    "    history = DataFrame()\n",
    "    history['train'], history['test'] = train_rmse, test_rmse\n",
    "    return history"
   ]
  },
  {
   "cell_type": "code",
   "execution_count": 28,
   "id": "452f8cea",
   "metadata": {},
   "outputs": [],
   "source": [
    "# run diagnostic experiments\n",
    "def run():\n",
    "    # load dataset\n",
    "    series = read_csv('shampoo.csv', header=0, parse_dates=[0], index_col=0, squeeze=True, date_parser=parser)\n",
    "    # transform data to be stationary\n",
    "    raw_values = series.values\n",
    "    diff_values = difference(raw_values, 1)\n",
    "    # transform data to be supervised learning\n",
    "    supervised = timeseries_to_supervised(diff_values, 1)\n",
    "    supervised_values = supervised.values\n",
    "    # split data into train and test-sets\n",
    "    train, test = supervised_values[0:-12], supervised_values[-12:]\n",
    "    # transform the scale of the data\n",
    "    scaler, train_scaled, test_scaled = scale(train, test)\n",
    "    # fit and evaluate model\n",
    "    train_trimmed = train_scaled[2:, :]\n",
    "    # config\n",
    "    repeats = 10\n",
    "    n_batch = 4\n",
    "    n_epochs = 5\n",
    "    n_neurons = 1\n",
    "    # run diagnostic tests\n",
    "    for i in range(repeats):\n",
    "        history = fit_lstm(train_trimmed, test_scaled, raw_values, \n",
    "                           scaler, n_batch, n_epochs, n_neurons)\n",
    "        pyplot.plot(history['train'], color='blue')\n",
    "        pyplot.plot(history['test'], color='orange')\n",
    "        print('%d) TrainRMSE=%f, TestRMSE=%f' % (i, history['train'].iloc[-1], history['test'].iloc[-1]))\n",
    "    pyplot.savefig('epochs_diagnostic.png')"
   ]
  },
  {
   "cell_type": "code",
   "execution_count": 29,
   "id": "d81bc409",
   "metadata": {},
   "outputs": [
    {
     "name": "stdout",
     "output_type": "stream",
     "text": [
      "5/5 - 8s - loss: 0.2464\n",
      "5/5 - 4s - loss: 0.2453\n",
      "5/5 - 5s - loss: 0.2442\n",
      "5/5 - 4s - loss: 0.2432\n",
      "5/5 - 4s - loss: 0.2423\n",
      "0) TrainRMSE=91.150060, TestRMSE=134.569087\n",
      "5/5 - 7s - loss: 0.2749\n",
      "5/5 - 4s - loss: 0.2736\n",
      "5/5 - 4s - loss: 0.2723\n",
      "5/5 - 4s - loss: 0.2710\n",
      "5/5 - 4s - loss: 0.2699\n",
      "1) TrainRMSE=96.164059, TestRMSE=141.237244\n",
      "5/5 - 7s - loss: 0.2579\n",
      "5/5 - 4s - loss: 0.2570\n",
      "5/5 - 4s - loss: 0.2562\n",
      "5/5 - 4s - loss: 0.2554\n",
      "5/5 - 4s - loss: 0.2546\n",
      "2) TrainRMSE=93.448457, TestRMSE=137.805968\n",
      "5/5 - 8s - loss: 0.2264\n",
      "5/5 - 4s - loss: 0.2235\n",
      "5/5 - 4s - loss: 0.2208\n",
      "5/5 - 5s - loss: 0.2182\n",
      "5/5 - 4s - loss: 0.2158\n",
      "3) TrainRMSE=85.835144, TestRMSE=121.507121\n",
      "5/5 - 7s - loss: 0.3272\n",
      "5/5 - 4s - loss: 0.3252\n",
      "5/5 - 4s - loss: 0.3233\n",
      "5/5 - 4s - loss: 0.3216\n",
      "5/5 - 4s - loss: 0.3200\n",
      "4) TrainRMSE=104.718805, TestRMSE=148.775746\n",
      "5/5 - 7s - loss: 0.2412\n",
      "5/5 - 4s - loss: 0.2402\n",
      "5/5 - 4s - loss: 0.2393\n",
      "5/5 - 4s - loss: 0.2384\n",
      "5/5 - 4s - loss: 0.2375\n",
      "5) TrainRMSE=90.252216, TestRMSE=132.436746\n",
      "5/5 - 7s - loss: 0.2153\n",
      "5/5 - 3s - loss: 0.2139\n",
      "5/5 - 3s - loss: 0.2125\n",
      "5/5 - 3s - loss: 0.2113\n",
      "5/5 - 3s - loss: 0.2100\n",
      "6) TrainRMSE=84.812313, TestRMSE=125.932588\n",
      "5/5 - 5s - loss: 0.2785\n",
      "5/5 - 3s - loss: 0.2761\n",
      "5/5 - 3s - loss: 0.2737\n",
      "5/5 - 3s - loss: 0.2715\n",
      "5/5 - 3s - loss: 0.2693\n",
      "7) TrainRMSE=95.964618, TestRMSE=142.059562\n",
      "5/5 - 5s - loss: 0.2496\n",
      "5/5 - 3s - loss: 0.2475\n",
      "5/5 - 3s - loss: 0.2456\n",
      "5/5 - 3s - loss: 0.2438\n",
      "5/5 - 3s - loss: 0.2420\n",
      "8) TrainRMSE=91.016995, TestRMSE=131.094424\n",
      "5/5 - 5s - loss: 0.1964\n",
      "5/5 - 3s - loss: 0.1939\n",
      "5/5 - 3s - loss: 0.1915\n",
      "5/5 - 3s - loss: 0.1892\n",
      "5/5 - 3s - loss: 0.1871\n",
      "9) TrainRMSE=79.956043, TestRMSE=117.468533\n"
     ]
    },
    {
     "data": {
      "image/png": "[encoded data removed]",
      "text/plain": [
       "<Figure size 432x288 with 1 Axes>"
      ]
     },
     "metadata": {
      "needs_background": "light"
     },
     "output_type": "display_data"
    }
   ],
   "source": [
    "# entry point\n",
    "run()"
   ]
  },
  {
   "cell_type": "code",
   "execution_count": null,
   "id": "74fea94f",
   "metadata": {},
   "outputs": [],
   "source": []
  },
  {
   "cell_type": "code",
   "execution_count": null,
   "id": "e6eb4bd0",
   "metadata": {},
   "outputs": [],
   "source": []
  }
 ],
 "metadata": {
  "kernelspec": {
   "display_name": "Python 3 (ipykernel)",
   "language": "python",
   "name": "python3"
  },
  "language_info": {
   "codemirror_mode": {
    "name": "ipython",
    "version": 3
   },
   "file_extension": ".py",
   "mimetype": "text/x-python",
   "name": "python",
   "nbconvert_exporter": "python",
   "pygments_lexer": "ipython3",
   "version": "3.8.8"
  }
 },
 "nbformat": 4,
 "nbformat_minor": 5
}
