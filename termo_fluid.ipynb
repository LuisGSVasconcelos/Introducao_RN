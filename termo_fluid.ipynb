{
 "cells": [
  {
   "cell_type": "code",
   "execution_count": 1,
   "id": "bf0c0c20",
   "metadata": {},
   "outputs": [
    {
     "name": "stdout",
     "output_type": "stream",
     "text": [
      "[<Quantity(450, 'degree_Celsius')>, <Quantity(451, 'degree_Celsius')>, <Quantity(452, 'degree_Celsius')>, <Quantity(453, 'degree_Celsius')>, <Quantity(454, 'degree_Celsius')>, <Quantity(455, 'degree_Celsius')>, <Quantity(456, 'degree_Celsius')>, <Quantity(457, 'degree_Celsius')>, <Quantity(458, 'degree_Celsius')>, <Quantity(459, 'degree_Celsius')>]\n",
      "STEAM=  [<Stream, components=['water'], mole fractions=[1.0], mass flow=11.11111111111111 kg/s, mole flow=616.7603895754665 mol/s, T=723.15 K, P=4000000 Pa>, <Stream, components=['water'], mole fractions=[1.0], mass flow=11.11111111111111 kg/s, mole flow=616.7603895754665 mol/s, T=724.15 K, P=4000000 Pa>, <Stream, components=['water'], mole fractions=[1.0], mass flow=11.11111111111111 kg/s, mole flow=616.7603895754665 mol/s, T=725.15 K, P=4000000 Pa>, <Stream, components=['water'], mole fractions=[1.0], mass flow=11.11111111111111 kg/s, mole flow=616.7603895754665 mol/s, T=726.15 K, P=4000000 Pa>, <Stream, components=['water'], mole fractions=[1.0], mass flow=11.11111111111111 kg/s, mole flow=616.7603895754665 mol/s, T=727.15 K, P=4000000 Pa>, <Stream, components=['water'], mole fractions=[1.0], mass flow=11.11111111111111 kg/s, mole flow=616.7603895754665 mol/s, T=728.15 K, P=4000000 Pa>, <Stream, components=['water'], mole fractions=[1.0], mass flow=11.11111111111111 kg/s, mole flow=616.7603895754665 mol/s, T=729.15 K, P=4000000 Pa>, <Stream, components=['water'], mole fractions=[1.0], mass flow=11.11111111111111 kg/s, mole flow=616.7603895754665 mol/s, T=730.15 K, P=4000000 Pa>, <Stream, components=['water'], mole fractions=[1.0], mass flow=11.11111111111111 kg/s, mole flow=616.7603895754665 mol/s, T=731.15 K, P=4000000 Pa>, <Stream, components=['water'], mole fractions=[1.0], mass flow=11.11111111111111 kg/s, mole flow=616.7603895754665 mol/s, T=732.15 K, P=4000000 Pa>]\n",
      "Density = 12.588342181239183 kilogram / meter ** 3\n",
      "Viscosity = 2.628999316827158e-05 pascal * second\n"
     ]
    }
   ],
   "source": [
    "from math import *\n",
    "from fluids.units import *\n",
    "from thermo.units import Stream\n",
    "\n",
    "m = 40000*u.kg/u.hr\n",
    "\n",
    "T1=[]\n",
    "steam=[]\n",
    "P = 40*u.bar\n",
    "for i in range(10):\n",
    "    T = (450+i)*u.degC\n",
    "    T1.append(T)\n",
    "    steam.append(Stream('water', T=T, P=P, m=m))\n",
    "print(T1)\n",
    "print('STEAM= ',steam)\n",
    "\n",
    "\n",
    "rho = steam[0].rho\n",
    "mu = steam[0].mu\n",
    "print('Density = %s' %rho)\n",
    "print('Viscosity = %s' %mu)"
   ]
  },
  {
   "cell_type": "code",
   "execution_count": null,
   "id": "80763502",
   "metadata": {},
   "outputs": [],
   "source": []
  }
 ],
 "metadata": {
  "kernelspec": {
   "display_name": "Python 3 (ipykernel)",
   "language": "python",
   "name": "python3"
  },
  "language_info": {
   "codemirror_mode": {
    "name": "ipython",
    "version": 3
   },
   "file_extension": ".py",
   "mimetype": "text/x-python",
   "name": "python",
   "nbconvert_exporter": "python",
   "pygments_lexer": "ipython3",
   "version": "3.8.8"
  }
 },
 "nbformat": 4,
 "nbformat_minor": 5
}
