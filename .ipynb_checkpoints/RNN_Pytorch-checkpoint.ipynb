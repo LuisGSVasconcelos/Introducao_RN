{
 "cells": [
  {
   "cell_type": "code",
   "execution_count": 1,
   "id": "5b87c4b0",
   "metadata": {},
   "outputs": [],
   "source": [
    "import torch.nn as nn"
   ]
  },
  {
   "cell_type": "code",
   "execution_count": 11,
   "id": "9e8e7d87",
   "metadata": {},
   "outputs": [],
   "source": [
    "class RNN(nn.Module):\n",
    "    def __init__(self, hidden_size, in_size=1, out_size=1):\n",
    "        super(RNN,self).__init__()\n",
    "        self.rnn = nn.RNN(input_size= in_size,hidden_size= hidden_size,\n",
    "                         batch_first= True)\n",
    "        self.fc = nn.Linear(hidden_size, out_size)\n",
    "    def forward(self,x,h=None):\n",
    "        out,_ = self.rnn(x,h)\n",
    "        last_hidden_states = out[:,-1]\n",
    "        out= self.fc(last_hidden_states)\n",
    "        return out, last_hidden_states"
   ]
  },
  {
   "cell_type": "code",
   "execution_count": 17,
   "id": "17779b50",
   "metadata": {},
   "outputs": [],
   "source": [
    "import matplotlib.pyplot as plt\n",
    "import pandas as pd"
   ]
  },
  {
   "cell_type": "code",
   "execution_count": null,
   "id": "6284d448",
   "metadata": {},
   "outputs": [],
   "source": [
    "dataset= pd.read_csv('aapl.csv')\n",
    "plt.title('AEP Hourly') \n",
    "plt.plot(get_aep_timeseries()[:500]) \n",
    "plt.show()"
   ]
  },
  {
   "cell_type": "code",
   "execution_count": null,
   "id": "096fce79",
   "metadata": {},
   "outputs": [],
   "source": []
  }
 ],
 "metadata": {
  "kernelspec": {
   "display_name": "Python 3 (ipykernel)",
   "language": "python",
   "name": "python3"
  },
  "language_info": {
   "codemirror_mode": {
    "name": "ipython",
    "version": 3
   },
   "file_extension": ".py",
   "mimetype": "text/x-python",
   "name": "python",
   "nbconvert_exporter": "python",
   "pygments_lexer": "ipython3",
   "version": "3.8.8"
  }
 },
 "nbformat": 4,
 "nbformat_minor": 5
}
