{
 "cells": [
  {
   "cell_type": "markdown",
   "id": "7f02212f",
   "metadata": {},
   "source": [
    "Importar bibliotecas"
   ]
  },
  {
   "cell_type": "code",
   "execution_count": 69,
   "id": "da6d43b1",
   "metadata": {},
   "outputs": [],
   "source": [
    "import pandas as pd\n",
    "import numpy as np\n",
    "import matplotlib.pyplot as plt\n",
    "import seaborn as sns\n",
    "from pandas.plotting import register_matplotlib_converters\n",
    "register_matplotlib_converters()\n",
    "%matplotlib inline"
   ]
  },
  {
   "cell_type": "markdown",
   "id": "cb3450e2",
   "metadata": {},
   "source": [
    "Carregar dados"
   ]
  },
  {
   "cell_type": "code",
   "execution_count": 70,
   "id": "4f7dd4f6",
   "metadata": {},
   "outputs": [],
   "source": [
    "dataset= pd.read_csv('aapl.csv')"
   ]
  },
  {
   "cell_type": "code",
   "execution_count": 71,
   "id": "6b761001",
   "metadata": {},
   "outputs": [
    {
     "data": {
      "text/html": [
       "<div>\n",
       "<style scoped>\n",
       "    .dataframe tbody tr th:only-of-type {\n",
       "        vertical-align: middle;\n",
       "    }\n",
       "\n",
       "    .dataframe tbody tr th {\n",
       "        vertical-align: top;\n",
       "    }\n",
       "\n",
       "    .dataframe thead th {\n",
       "        text-align: right;\n",
       "    }\n",
       "</style>\n",
       "<table border=\"1\" class=\"dataframe\">\n",
       "  <thead>\n",
       "    <tr style=\"text-align: right;\">\n",
       "      <th></th>\n",
       "      <th>Date</th>\n",
       "      <th>Open</th>\n",
       "      <th>High</th>\n",
       "      <th>Low</th>\n",
       "      <th>Close</th>\n",
       "      <th>Adj Close</th>\n",
       "      <th>Volume</th>\n",
       "    </tr>\n",
       "  </thead>\n",
       "  <tbody>\n",
       "    <tr>\n",
       "      <th>0</th>\n",
       "      <td>2008-10-01</td>\n",
       "      <td>3.997143</td>\n",
       "      <td>4.012857</td>\n",
       "      <td>3.835357</td>\n",
       "      <td>3.897143</td>\n",
       "      <td>3.341274</td>\n",
       "      <td>1296484000</td>\n",
       "    </tr>\n",
       "    <tr>\n",
       "      <th>1</th>\n",
       "      <td>2008-10-02</td>\n",
       "      <td>3.857500</td>\n",
       "      <td>3.885357</td>\n",
       "      <td>3.571429</td>\n",
       "      <td>3.575000</td>\n",
       "      <td>3.065081</td>\n",
       "      <td>1609364400</td>\n",
       "    </tr>\n",
       "  </tbody>\n",
       "</table>\n",
       "</div>"
      ],
      "text/plain": [
       "         Date      Open      High       Low     Close  Adj Close      Volume\n",
       "0  2008-10-01  3.997143  4.012857  3.835357  3.897143   3.341274  1296484000\n",
       "1  2008-10-02  3.857500  3.885357  3.571429  3.575000   3.065081  1609364400"
      ]
     },
     "execution_count": 71,
     "metadata": {},
     "output_type": "execute_result"
    }
   ],
   "source": [
    "dataset.head(2)"
   ]
  },
  {
   "cell_type": "markdown",
   "id": "9aa0e2ec",
   "metadata": {},
   "source": [
    "Adicionar coluna com o calculo da media entre 'Low' e 'High'"
   ]
  },
  {
   "cell_type": "code",
   "execution_count": 72,
   "id": "e3a41057",
   "metadata": {},
   "outputs": [
    {
     "data": {
      "text/html": [
       "<div>\n",
       "<style scoped>\n",
       "    .dataframe tbody tr th:only-of-type {\n",
       "        vertical-align: middle;\n",
       "    }\n",
       "\n",
       "    .dataframe tbody tr th {\n",
       "        vertical-align: top;\n",
       "    }\n",
       "\n",
       "    .dataframe thead th {\n",
       "        text-align: right;\n",
       "    }\n",
       "</style>\n",
       "<table border=\"1\" class=\"dataframe\">\n",
       "  <thead>\n",
       "    <tr style=\"text-align: right;\">\n",
       "      <th></th>\n",
       "      <th>Date</th>\n",
       "      <th>Open</th>\n",
       "      <th>High</th>\n",
       "      <th>Low</th>\n",
       "      <th>Close</th>\n",
       "      <th>Adj Close</th>\n",
       "      <th>Volume</th>\n",
       "      <th>Mean</th>\n",
       "    </tr>\n",
       "  </thead>\n",
       "  <tbody>\n",
       "    <tr>\n",
       "      <th>0</th>\n",
       "      <td>2008-10-01</td>\n",
       "      <td>3.997143</td>\n",
       "      <td>4.012857</td>\n",
       "      <td>3.835357</td>\n",
       "      <td>3.897143</td>\n",
       "      <td>3.341274</td>\n",
       "      <td>1296484000</td>\n",
       "      <td>3.924107</td>\n",
       "    </tr>\n",
       "    <tr>\n",
       "      <th>1</th>\n",
       "      <td>2008-10-02</td>\n",
       "      <td>3.857500</td>\n",
       "      <td>3.885357</td>\n",
       "      <td>3.571429</td>\n",
       "      <td>3.575000</td>\n",
       "      <td>3.065081</td>\n",
       "      <td>1609364400</td>\n",
       "      <td>3.728393</td>\n",
       "    </tr>\n",
       "  </tbody>\n",
       "</table>\n",
       "</div>"
      ],
      "text/plain": [
       "         Date      Open      High       Low     Close  Adj Close      Volume  \\\n",
       "0  2008-10-01  3.997143  4.012857  3.835357  3.897143   3.341274  1296484000   \n",
       "1  2008-10-02  3.857500  3.885357  3.571429  3.575000   3.065081  1609364400   \n",
       "\n",
       "       Mean  \n",
       "0  3.924107  \n",
       "1  3.728393  "
      ]
     },
     "execution_count": 72,
     "metadata": {},
     "output_type": "execute_result"
    }
   ],
   "source": [
    "dataset['Mean'] = (dataset['Low'] + dataset['High'])/2\n",
    "dataset.head(2)"
   ]
  },
  {
   "cell_type": "code",
   "execution_count": 73,
   "id": "fb1ab50b",
   "metadata": {},
   "outputs": [
    {
     "name": "stdout",
     "output_type": "stream",
     "text": [
      "<class 'pandas.core.frame.DataFrame'>\n",
      "RangeIndex: 2768 entries, 0 to 2767\n",
      "Data columns (total 8 columns):\n",
      " #   Column     Non-Null Count  Dtype  \n",
      "---  ------     --------------  -----  \n",
      " 0   Date       2768 non-null   object \n",
      " 1   Open       2768 non-null   float64\n",
      " 2   High       2768 non-null   float64\n",
      " 3   Low        2768 non-null   float64\n",
      " 4   Close      2768 non-null   float64\n",
      " 5   Adj Close  2768 non-null   float64\n",
      " 6   Volume     2768 non-null   int64  \n",
      " 7   Mean       2768 non-null   float64\n",
      "dtypes: float64(6), int64(1), object(1)\n",
      "memory usage: 173.1+ KB\n"
     ]
    }
   ],
   "source": [
    "dataset.info()"
   ]
  },
  {
   "cell_type": "code",
   "execution_count": 74,
   "id": "a96851b1",
   "metadata": {},
   "outputs": [
    {
     "data": {
      "text/html": [
       "<div>\n",
       "<style scoped>\n",
       "    .dataframe tbody tr th:only-of-type {\n",
       "        vertical-align: middle;\n",
       "    }\n",
       "\n",
       "    .dataframe tbody tr th {\n",
       "        vertical-align: top;\n",
       "    }\n",
       "\n",
       "    .dataframe thead th {\n",
       "        text-align: right;\n",
       "    }\n",
       "</style>\n",
       "<table border=\"1\" class=\"dataframe\">\n",
       "  <thead>\n",
       "    <tr style=\"text-align: right;\">\n",
       "      <th></th>\n",
       "      <th>Date</th>\n",
       "      <th>Open</th>\n",
       "      <th>High</th>\n",
       "      <th>Low</th>\n",
       "      <th>Close</th>\n",
       "      <th>Adj Close</th>\n",
       "      <th>Volume</th>\n",
       "      <th>Mean</th>\n",
       "      <th>Actual</th>\n",
       "    </tr>\n",
       "  </thead>\n",
       "  <tbody>\n",
       "    <tr>\n",
       "      <th>0</th>\n",
       "      <td>2008-10-01</td>\n",
       "      <td>3.997143</td>\n",
       "      <td>4.012857</td>\n",
       "      <td>3.835357</td>\n",
       "      <td>3.897143</td>\n",
       "      <td>3.341274</td>\n",
       "      <td>1296484000</td>\n",
       "      <td>3.924107</td>\n",
       "      <td>3.728393</td>\n",
       "    </tr>\n",
       "    <tr>\n",
       "      <th>1</th>\n",
       "      <td>2008-10-02</td>\n",
       "      <td>3.857500</td>\n",
       "      <td>3.885357</td>\n",
       "      <td>3.571429</td>\n",
       "      <td>3.575000</td>\n",
       "      <td>3.065081</td>\n",
       "      <td>1609364400</td>\n",
       "      <td>3.728393</td>\n",
       "      <td>3.591964</td>\n",
       "    </tr>\n",
       "    <tr>\n",
       "      <th>2</th>\n",
       "      <td>2008-10-03</td>\n",
       "      <td>3.714286</td>\n",
       "      <td>3.803571</td>\n",
       "      <td>3.380357</td>\n",
       "      <td>3.466786</td>\n",
       "      <td>2.972301</td>\n",
       "      <td>2294398400</td>\n",
       "      <td>3.591964</td>\n",
       "      <td>3.327143</td>\n",
       "    </tr>\n",
       "  </tbody>\n",
       "</table>\n",
       "</div>"
      ],
      "text/plain": [
       "         Date      Open      High       Low     Close  Adj Close      Volume  \\\n",
       "0  2008-10-01  3.997143  4.012857  3.835357  3.897143   3.341274  1296484000   \n",
       "1  2008-10-02  3.857500  3.885357  3.571429  3.575000   3.065081  1609364400   \n",
       "2  2008-10-03  3.714286  3.803571  3.380357  3.466786   2.972301  2294398400   \n",
       "\n",
       "       Mean    Actual  \n",
       "0  3.924107  3.728393  \n",
       "1  3.728393  3.591964  \n",
       "2  3.591964  3.327143  "
      ]
     },
     "execution_count": 74,
     "metadata": {},
     "output_type": "execute_result"
    }
   ],
   "source": [
    "steps=-1\n",
    "dataset_for_prediction= dataset.copy()\n",
    "dataset_for_prediction['Actual']=dataset_for_prediction['Mean'].shift(steps)\n",
    "dataset_for_prediction.head(3)"
   ]
  },
  {
   "cell_type": "markdown",
   "id": "2ca4d01d",
   "metadata": {},
   "source": [
    "Deletar colunas com valores nulos"
   ]
  },
  {
   "cell_type": "code",
   "execution_count": 75,
   "id": "25d097ec",
   "metadata": {},
   "outputs": [],
   "source": [
    "dataset_for_prediction=dataset_for_prediction.dropna()"
   ]
  },
  {
   "cell_type": "markdown",
   "id": "77bab7c0",
   "metadata": {},
   "source": [
    "Criar data como index do DataFrame"
   ]
  },
  {
   "cell_type": "code",
   "execution_count": 76,
   "id": "02e4f503",
   "metadata": {},
   "outputs": [],
   "source": [
    "dataset_for_prediction['Date'] =pd.to_datetime(dataset_for_prediction['Date'])\n",
    "dataset_for_prediction.index= dataset_for_prediction['Date']"
   ]
  },
  {
   "cell_type": "markdown",
   "id": "79e784b4",
   "metadata": {},
   "source": [
    "Gerar gráficos"
   ]
  },
  {
   "cell_type": "code",
   "execution_count": 77,
   "id": "fb01e688",
   "metadata": {},
   "outputs": [
    {
     "data": {
      "text/plain": [
       "Text(0.5, 1.0, ' Tyson Opening Stock Value ')"
      ]
     },
     "execution_count": 77,
     "metadata": {},
     "output_type": "execute_result"
    },
    {
     "data": {
      "image/png": "[encoded data removed]",
      "text/plain": [
       "<Figure size 1080x144 with 1 Axes>"
      ]
     },
     "metadata": {
      "needs_background": "light"
     },
     "output_type": "display_data"
    }
   ],
   "source": [
    "dataset_for_prediction['Mean'].plot(color='green', figsize=(15,2))\n",
    "plt.legend(['Next day value', 'Mean'])\n",
    "plt.title(' Tyson Opening Stock Value ')"
   ]
  },
  {
   "cell_type": "code",
   "execution_count": 78,
   "id": "28394a1a",
   "metadata": {},
   "outputs": [
    {
     "data": {
      "text/plain": [
       "Text(0.5, 1.0, ' Apple Stock Volume')"
      ]
     },
     "execution_count": 78,
     "metadata": {},
     "output_type": "execute_result"
    },
    {
     "data": {
      "image/png": "[encoded data removed]",
      "text/plain": [
       "<Figure size 1080x144 with 1 Axes>"
      ]
     },
     "metadata": {
      "needs_background": "light"
     },
     "output_type": "display_data"
    }
   ],
   "source": [
    "dataset_for_prediction['Volume'].plot(color='blue', figsize=(15,2))\n",
    "plt.title(\" Apple Stock Volume\")"
   ]
  },
  {
   "cell_type": "markdown",
   "id": "82b853e5",
   "metadata": {},
   "source": [
    "Normalizar os dados"
   ]
  },
  {
   "cell_type": "code",
   "execution_count": 79,
   "id": "08cb378e",
   "metadata": {},
   "outputs": [],
   "source": [
    "from sklearn.preprocessing import MinMaxScaler\n",
    "sc_in = MinMaxScaler(feature_range=(0, 1))\n",
    "scaled_input = sc_in.fit_transform(dataset_for_prediction[['Low', 'High','Open', 'Close', 'Volume', 'Adj Close', 'Mean']])\n",
    "scaled_input =pd.DataFrame(scaled_input)\n",
    "X= scaled_input"
   ]
  },
  {
   "cell_type": "code",
   "execution_count": 80,
   "id": "21ae6f6b",
   "metadata": {},
   "outputs": [],
   "source": [
    "sc_out = MinMaxScaler(feature_range=(0, 1))\n",
    "scaler_output = sc_out.fit_transform(dataset_for_prediction[['Actual']])\n",
    "scaler_output =pd.DataFrame(scaler_output)\n",
    "y=scaler_output"
   ]
  },
  {
   "cell_type": "code",
   "execution_count": 81,
   "id": "1a3b6ace",
   "metadata": {},
   "outputs": [
    {
     "data": {
      "text/html": [
       "<div>\n",
       "<style scoped>\n",
       "    .dataframe tbody tr th:only-of-type {\n",
       "        vertical-align: middle;\n",
       "    }\n",
       "\n",
       "    .dataframe tbody tr th {\n",
       "        vertical-align: top;\n",
       "    }\n",
       "\n",
       "    .dataframe thead th {\n",
       "        text-align: right;\n",
       "    }\n",
       "</style>\n",
       "<table border=\"1\" class=\"dataframe\">\n",
       "  <thead>\n",
       "    <tr style=\"text-align: right;\">\n",
       "      <th></th>\n",
       "      <th>Low</th>\n",
       "      <th>High</th>\n",
       "      <th>Open</th>\n",
       "      <th>Close</th>\n",
       "      <th>Volume</th>\n",
       "      <th>Adj Close</th>\n",
       "      <th>Mean</th>\n",
       "    </tr>\n",
       "  </thead>\n",
       "  <tbody>\n",
       "    <tr>\n",
       "      <th>0</th>\n",
       "      <td>0.019075</td>\n",
       "      <td>0.019558</td>\n",
       "      <td>0.021177</td>\n",
       "      <td>0.019996</td>\n",
       "      <td>0.556275</td>\n",
       "      <td>0.01762</td>\n",
       "      <td>0.019318</td>\n",
       "    </tr>\n",
       "    <tr>\n",
       "      <th>1</th>\n",
       "      <td>0.014246</td>\n",
       "      <td>0.017258</td>\n",
       "      <td>0.018632</td>\n",
       "      <td>0.014163</td>\n",
       "      <td>0.695398</td>\n",
       "      <td>0.01248</td>\n",
       "      <td>0.015763</td>\n",
       "    </tr>\n",
       "  </tbody>\n",
       "</table>\n",
       "</div>"
      ],
      "text/plain": [
       "        Low      High      Open     Close    Volume  Adj Close      Mean\n",
       "0  0.019075  0.019558  0.021177  0.019996  0.556275    0.01762  0.019318\n",
       "1  0.014246  0.017258  0.018632  0.014163  0.695398    0.01248  0.015763"
      ]
     },
     "execution_count": 81,
     "metadata": {},
     "output_type": "execute_result"
    }
   ],
   "source": [
    "X.rename(columns={0:'Low', 1:'High', 2:'Open', 3:'Close', 4:'Volume', 5:'Adj Close', 6:'Mean'}, inplace=True)\n",
    "X.head(2)"
   ]
  },
  {
   "cell_type": "code",
   "execution_count": 82,
   "id": "91024ed4",
   "metadata": {},
   "outputs": [
    {
     "data": {
      "text/html": [
       "<div>\n",
       "<style scoped>\n",
       "    .dataframe tbody tr th:only-of-type {\n",
       "        vertical-align: middle;\n",
       "    }\n",
       "\n",
       "    .dataframe tbody tr th {\n",
       "        vertical-align: top;\n",
       "    }\n",
       "\n",
       "    .dataframe thead th {\n",
       "        text-align: right;\n",
       "    }\n",
       "</style>\n",
       "<table border=\"1\" class=\"dataframe\">\n",
       "  <thead>\n",
       "    <tr style=\"text-align: right;\">\n",
       "      <th></th>\n",
       "      <th>Stock Price next day</th>\n",
       "    </tr>\n",
       "  </thead>\n",
       "  <tbody>\n",
       "    <tr>\n",
       "      <th>0</th>\n",
       "      <td>0.015763</td>\n",
       "    </tr>\n",
       "    <tr>\n",
       "      <th>1</th>\n",
       "      <td>0.013284</td>\n",
       "    </tr>\n",
       "  </tbody>\n",
       "</table>\n",
       "</div>"
      ],
      "text/plain": [
       "   Stock Price next day\n",
       "0              0.015763\n",
       "1              0.013284"
      ]
     },
     "execution_count": 82,
     "metadata": {},
     "output_type": "execute_result"
    }
   ],
   "source": [
    "y.rename(columns={0:'Stock Price next day'}, inplace= True)\n",
    "#y.index=dataset_for_prediction.index\n",
    "y.head(2)"
   ]
  },
  {
   "cell_type": "markdown",
   "id": "776ba22e",
   "metadata": {},
   "source": [
    "Dividir os dados em treinamento e teste"
   ]
  },
  {
   "cell_type": "code",
   "execution_count": 83,
   "id": "94b77a98",
   "metadata": {},
   "outputs": [],
   "source": [
    "train_size=int(len(dataset) *0.7)\n",
    "test_size = int(len(dataset)) - train_size\n",
    "train_X, train_y = X[:train_size].dropna(), y[:train_size].dropna()\n",
    "test_X, test_y = X[train_size:].dropna(), y[train_size:].dropna()"
   ]
  },
  {
   "cell_type": "markdown",
   "id": "5a34ef18",
   "metadata": {},
   "source": [
    "Decompor a serie"
   ]
  },
  {
   "cell_type": "code",
   "execution_count": 84,
   "id": "3ab33458",
   "metadata": {},
   "outputs": [
    {
     "data": {
      "image/png": "[encoded data removed]",
      "text/plain": [
       "<Figure size 432x288 with 4 Axes>"
      ]
     },
     "metadata": {
      "needs_background": "light"
     },
     "output_type": "display_data"
    }
   ],
   "source": [
    "import statsmodels.api as sm\n",
    "seas_d=sm.tsa.seasonal_decompose(X['Mean'],model='add',period=365);\n",
    "fig=seas_d.plot()\n",
    "fig.set_figheight(4)\n",
    "plt.show()"
   ]
  },
  {
   "cell_type": "markdown",
   "id": "c44374f1",
   "metadata": {},
   "source": [
    "Checar a estacionaridade com o teste Dickey-Fuller Aumentado (ADF)"
   ]
  },
  {
   "cell_type": "code",
   "execution_count": 85,
   "id": "b4db852f",
   "metadata": {},
   "outputs": [],
   "source": [
    "y_test=y['Stock Price next day'][:train_size].dropna()"
   ]
  },
  {
   "cell_type": "code",
   "execution_count": 86,
   "id": "fa3f779f",
   "metadata": {},
   "outputs": [],
   "source": [
    "dfout={}\n",
    "dftest=sm.tsa.adfuller(y_test.dropna(), autolag='AIC', regression='ct')"
   ]
  },
  {
   "cell_type": "code",
   "execution_count": 87,
   "id": "54e65b87",
   "metadata": {},
   "outputs": [
    {
     "name": "stdout",
     "output_type": "stream",
     "text": [
      "Strong evidence for  Null Hypothesis\n",
      "Accept Null Hypothesis - Data is not Stationary\n",
      "Data is NOT Stationary for  Stock Price\n"
     ]
    }
   ],
   "source": [
    "for key,val in dftest[4].items():\n",
    "        dfout[f'critical value ({key})']=val\n",
    "if dftest[1]<=0.05:\n",
    "        print(\"Strong evidence against Null Hypothesis\")\n",
    "        print(\"Reject Null Hypothesis - Data is Stationary\")\n",
    "        print(\"Data is Stationary\", \" Stock Price\")\n",
    "else:\n",
    "        print(\"Strong evidence for  Null Hypothesis\")\n",
    "        print(\"Accept Null Hypothesis - Data is not Stationary\")\n",
    "        print(\"Data is NOT Stationary for\", \" Stock Price\")"
   ]
  },
  {
   "cell_type": "code",
   "execution_count": 88,
   "id": "95bd3402",
   "metadata": {},
   "outputs": [],
   "source": [
    "dfout={}\n",
    "dftest=sm.tsa.adfuller(y_test.diff().dropna(), autolag='AIC', regression='ct')"
   ]
  },
  {
   "cell_type": "code",
   "execution_count": 89,
   "id": "892d2ebe",
   "metadata": {},
   "outputs": [
    {
     "name": "stdout",
     "output_type": "stream",
     "text": [
      "Strong evidence against Null Hypothesis\n",
      "Reject Null Hypothesis - Data is Stationary\n",
      "Data is Stationary  Stock Price\n"
     ]
    }
   ],
   "source": [
    "for key,val in dftest[4].items():\n",
    "        dfout[f'critical value ({key})']=val\n",
    "if dftest[1]<=0.05:\n",
    "        print(\"Strong evidence against Null Hypothesis\")\n",
    "        print(\"Reject Null Hypothesis - Data is Stationary\")\n",
    "        print(\"Data is Stationary\", \" Stock Price\")\n",
    "else:\n",
    "        print(\"Strong evidence for  Null Hypothesis\")\n",
    "        print(\"Accept Null Hypothesis - Data is not Stationary\")\n",
    "        print(\"Data is NOT Stationary for\", \" Stock Price\")"
   ]
  },
  {
   "cell_type": "markdown",
   "id": "ed2c3f6b",
   "metadata": {},
   "source": [
    "Construir o modelo"
   ]
  },
  {
   "cell_type": "code",
   "execution_count": 90,
   "id": "a416acb6",
   "metadata": {},
   "outputs": [
    {
     "name": "stderr",
     "output_type": "stream",
     "text": [
      "C:\\Users\\55839\\anaconda3\\lib\\site-packages\\statsmodels\\graphics\\tsaplots.py:348: FutureWarning: The default method 'yw' can produce PACF values outside of the [-1,1] interval. After 0.13, the default will change tounadjusted Yule-Walker ('ywm'). You can use this method now by setting method='ywm'.\n",
      "  warnings.warn(\n"
     ]
    },
    {
     "data": {
      "image/png": "[encoded data removed]",
      "text/plain": [
       "<Figure size 720x360 with 2 Axes>"
      ]
     },
     "metadata": {
      "needs_background": "light"
     },
     "output_type": "display_data"
    }
   ],
   "source": [
    "fig,ax= plt.subplots(2,1, figsize=(10,5))\n",
    "fig=sm.tsa.graphics.plot_acf(y_test, lags=50, ax=ax[0])\n",
    "fig=sm.tsa.graphics.plot_pacf(y_test, lags=50, ax=ax[1])\n",
    "plt.show()"
   ]
  },
  {
   "cell_type": "code",
   "execution_count": 91,
   "id": "b7d0539e",
   "metadata": {},
   "outputs": [
    {
     "name": "stdout",
     "output_type": "stream",
     "text": [
      "Performing stepwise search to minimize aic\n",
      " ARIMA(1,1,1)(0,0,0)[0] intercept   : AIC=-15584.602, Time=3.20 sec\n",
      " ARIMA(0,1,0)(0,0,0)[0] intercept   : AIC=-15557.800, Time=0.58 sec\n",
      " ARIMA(1,1,0)(0,0,0)[0] intercept   : AIC=-15572.033, Time=2.21 sec\n",
      " ARIMA(0,1,1)(0,0,0)[0] intercept   : AIC=-15637.032, Time=3.46 sec\n",
      " ARIMA(0,1,0)(0,0,0)[0]             : AIC=-15557.478, Time=1.34 sec\n",
      " ARIMA(0,1,2)(0,0,0)[0] intercept   : AIC=-15569.580, Time=2.15 sec\n",
      " ARIMA(1,1,2)(0,0,0)[0] intercept   : AIC=-15567.723, Time=1.77 sec\n",
      " ARIMA(0,1,1)(0,0,0)[0]             : AIC=-15563.539, Time=1.08 sec\n",
      "\n",
      "Best model:  ARIMA(0,1,1)(0,0,0)[0] intercept\n",
      "Total fit time: 15.801 seconds\n"
     ]
    }
   ],
   "source": [
    "from pmdarima.arima import auto_arima\n",
    "step_wise=auto_arima(train_y, \n",
    " exogenous= train_X,\n",
    " start_p=1, start_q=1, \n",
    " max_p=7, max_q=7, \n",
    " d=1, max_d=7,\n",
    " trace=True, \n",
    " error_action='ignore', \n",
    " suppress_warnings=True, \n",
    " stepwise=True)"
   ]
  },
  {
   "cell_type": "code",
   "execution_count": 92,
   "id": "1fd1d69c",
   "metadata": {},
   "outputs": [
    {
     "data": {
      "text/html": [
       "<table class=\"simpletable\">\n",
       "<caption>SARIMAX Results</caption>\n",
       "<tr>\n",
       "  <th>Dep. Variable:</th>           <td>y</td>        <th>  No. Observations:  </th>    <td>1937</td>   \n",
       "</tr>\n",
       "<tr>\n",
       "  <th>Model:</th>           <td>SARIMAX(0, 1, 1)</td> <th>  Log Likelihood     </th>  <td>7828.516</td> \n",
       "</tr>\n",
       "<tr>\n",
       "  <th>Date:</th>            <td>Thu, 09 Dec 2021</td> <th>  AIC                </th> <td>-15637.032</td>\n",
       "</tr>\n",
       "<tr>\n",
       "  <th>Time:</th>                <td>09:02:18</td>     <th>  BIC                </th> <td>-15581.349</td>\n",
       "</tr>\n",
       "<tr>\n",
       "  <th>Sample:</th>                  <td>0</td>        <th>  HQIC               </th> <td>-15616.553</td>\n",
       "</tr>\n",
       "<tr>\n",
       "  <th></th>                      <td> - 1937</td>     <th>                     </th>      <td> </td>    \n",
       "</tr>\n",
       "<tr>\n",
       "  <th>Covariance Type:</th>        <td>opg</td>       <th>                     </th>      <td> </td>    \n",
       "</tr>\n",
       "</table>\n",
       "<table class=\"simpletable\">\n",
       "<tr>\n",
       "      <td></td>         <th>coef</th>     <th>std err</th>      <th>z</th>      <th>P>|z|</th>  <th>[0.025</th>    <th>0.975]</th>  \n",
       "</tr>\n",
       "<tr>\n",
       "  <th>intercept</th> <td> 6.448e-05</td> <td>    5e-05</td> <td>    1.291</td> <td> 0.197</td> <td>-3.34e-05</td> <td>    0.000</td>\n",
       "</tr>\n",
       "<tr>\n",
       "  <th>Low</th>       <td>   -0.0028</td> <td>    0.027</td> <td>   -0.102</td> <td> 0.919</td> <td>   -0.056</td> <td>    0.050</td>\n",
       "</tr>\n",
       "<tr>\n",
       "  <th>High</th>      <td>   -0.0487</td> <td>    0.030</td> <td>   -1.647</td> <td> 0.100</td> <td>   -0.107</td> <td>    0.009</td>\n",
       "</tr>\n",
       "<tr>\n",
       "  <th>Open</th>      <td>   -0.1455</td> <td>    0.030</td> <td>   -4.845</td> <td> 0.000</td> <td>   -0.204</td> <td>   -0.087</td>\n",
       "</tr>\n",
       "<tr>\n",
       "  <th>Close</th>     <td>    0.8732</td> <td>    0.314</td> <td>    2.781</td> <td> 0.005</td> <td>    0.258</td> <td>    1.489</td>\n",
       "</tr>\n",
       "<tr>\n",
       "  <th>Volume</th>    <td>    0.0010</td> <td>    0.001</td> <td>    0.695</td> <td> 0.487</td> <td>   -0.002</td> <td>    0.004</td>\n",
       "</tr>\n",
       "<tr>\n",
       "  <th>Adj Close</th> <td>    0.0007</td> <td>    0.331</td> <td>    0.002</td> <td> 0.998</td> <td>   -0.647</td> <td>    0.648</td>\n",
       "</tr>\n",
       "<tr>\n",
       "  <th>Mean</th>      <td>   -0.0259</td> <td>    0.021</td> <td>   -1.221</td> <td> 0.222</td> <td>   -0.067</td> <td>    0.016</td>\n",
       "</tr>\n",
       "<tr>\n",
       "  <th>ma.L1</th>     <td>   -0.5375</td> <td>    0.048</td> <td>  -11.196</td> <td> 0.000</td> <td>   -0.632</td> <td>   -0.443</td>\n",
       "</tr>\n",
       "<tr>\n",
       "  <th>sigma2</th>    <td> 1.797e-05</td> <td>  2.2e-07</td> <td>   81.579</td> <td> 0.000</td> <td> 1.75e-05</td> <td> 1.84e-05</td>\n",
       "</tr>\n",
       "</table>\n",
       "<table class=\"simpletable\">\n",
       "<tr>\n",
       "  <th>Ljung-Box (L1) (Q):</th>     <td>4.42</td> <th>  Jarque-Bera (JB):  </th> <td>17160.68</td>\n",
       "</tr>\n",
       "<tr>\n",
       "  <th>Prob(Q):</th>                <td>0.04</td> <th>  Prob(JB):          </th>   <td>0.00</td>  \n",
       "</tr>\n",
       "<tr>\n",
       "  <th>Heteroskedasticity (H):</th> <td>7.45</td> <th>  Skew:              </th>   <td>-0.42</td> \n",
       "</tr>\n",
       "<tr>\n",
       "  <th>Prob(H) (two-sided):</th>    <td>0.00</td> <th>  Kurtosis:          </th>   <td>17.56</td> \n",
       "</tr>\n",
       "</table><br/><br/>Warnings:<br/>[1] Covariance matrix calculated using the outer product of gradients (complex-step).<br/>[2] Covariance matrix is singular or near-singular, with condition number 1.21e+18. Standard errors may be unstable."
      ],
      "text/plain": [
       "<class 'statsmodels.iolib.summary.Summary'>\n",
       "\"\"\"\n",
       "                               SARIMAX Results                                \n",
       "==============================================================================\n",
       "Dep. Variable:                      y   No. Observations:                 1937\n",
       "Model:               SARIMAX(0, 1, 1)   Log Likelihood                7828.516\n",
       "Date:                Thu, 09 Dec 2021   AIC                         -15637.032\n",
       "Time:                        09:02:18   BIC                         -15581.349\n",
       "Sample:                             0   HQIC                        -15616.553\n",
       "                               - 1937                                         \n",
       "Covariance Type:                  opg                                         \n",
       "==============================================================================\n",
       "                 coef    std err          z      P>|z|      [0.025      0.975]\n",
       "------------------------------------------------------------------------------\n",
       "intercept   6.448e-05      5e-05      1.291      0.197   -3.34e-05       0.000\n",
       "Low           -0.0028      0.027     -0.102      0.919      -0.056       0.050\n",
       "High          -0.0487      0.030     -1.647      0.100      -0.107       0.009\n",
       "Open          -0.1455      0.030     -4.845      0.000      -0.204      -0.087\n",
       "Close          0.8732      0.314      2.781      0.005       0.258       1.489\n",
       "Volume         0.0010      0.001      0.695      0.487      -0.002       0.004\n",
       "Adj Close      0.0007      0.331      0.002      0.998      -0.647       0.648\n",
       "Mean          -0.0259      0.021     -1.221      0.222      -0.067       0.016\n",
       "ma.L1         -0.5375      0.048    -11.196      0.000      -0.632      -0.443\n",
       "sigma2      1.797e-05    2.2e-07     81.579      0.000    1.75e-05    1.84e-05\n",
       "===================================================================================\n",
       "Ljung-Box (L1) (Q):                   4.42   Jarque-Bera (JB):             17160.68\n",
       "Prob(Q):                              0.04   Prob(JB):                         0.00\n",
       "Heteroskedasticity (H):               7.45   Skew:                            -0.42\n",
       "Prob(H) (two-sided):                  0.00   Kurtosis:                        17.56\n",
       "===================================================================================\n",
       "\n",
       "Warnings:\n",
       "[1] Covariance matrix calculated using the outer product of gradients (complex-step).\n",
       "[2] Covariance matrix is singular or near-singular, with condition number 1.21e+18. Standard errors may be unstable.\n",
       "\"\"\""
      ]
     },
     "execution_count": 92,
     "metadata": {},
     "output_type": "execute_result"
    }
   ],
   "source": [
    "step_wise.summary()"
   ]
  },
  {
   "cell_type": "markdown",
   "id": "f922e194",
   "metadata": {},
   "source": [
    "Treinar o modelo"
   ]
  },
  {
   "cell_type": "code",
   "execution_count": 93,
   "id": "5c0f49b8",
   "metadata": {},
   "outputs": [],
   "source": [
    "from statsmodels.tsa.statespace.sarimax import SARIMAX\n",
    "\n",
    "model= SARIMAX(train_y, exog=train_X, order=(0,1,1), enforce_invertibility=False, enforce_stationarity=False)"
   ]
  },
  {
   "cell_type": "markdown",
   "id": "33199993",
   "metadata": {},
   "source": [
    "Ajuste"
   ]
  },
  {
   "cell_type": "code",
   "execution_count": 94,
   "id": "88e7c62f",
   "metadata": {},
   "outputs": [
    {
     "name": "stderr",
     "output_type": "stream",
     "text": [
      "C:\\Users\\55839\\anaconda3\\lib\\site-packages\\statsmodels\\base\\model.py:604: ConvergenceWarning: Maximum Likelihood optimization failed to converge. Check mle_retvals\n",
      "  warnings.warn(\"Maximum Likelihood optimization failed to \"\n"
     ]
    }
   ],
   "source": [
    "results= model.fit()"
   ]
  },
  {
   "cell_type": "markdown",
   "id": "c9b63d98",
   "metadata": {},
   "source": [
    "Predizer os resultados"
   ]
  },
  {
   "cell_type": "code",
   "execution_count": 95,
   "id": "6147dc9e",
   "metadata": {},
   "outputs": [],
   "source": [
    "predictions= results.predict(start =train_size, end=train_size+test_size+(steps)-1,exog=test_X)"
   ]
  },
  {
   "cell_type": "code",
   "execution_count": 96,
   "id": "3bc7db19",
   "metadata": {},
   "outputs": [
    {
     "data": {
      "text/plain": [
       "1937    0.389724\n",
       "1938    0.390722\n",
       "1939    0.389074\n",
       "1940    0.391280\n",
       "1941    0.381160\n",
       "          ...   \n",
       "2762    0.924008\n",
       "2763    0.918638\n",
       "2764    0.934721\n",
       "2765    0.929196\n",
       "2766    0.923763\n",
       "Name: predicted_mean, Length: 830, dtype: float64"
      ]
     },
     "execution_count": 96,
     "metadata": {},
     "output_type": "execute_result"
    }
   ],
   "source": [
    "predictions"
   ]
  },
  {
   "cell_type": "code",
   "execution_count": 62,
   "id": "64de0f5b",
   "metadata": {},
   "outputs": [],
   "source": [
    "forecast_1= results.forecast(steps=test_size-1, exog=test_X)"
   ]
  },
  {
   "cell_type": "code",
   "execution_count": 97,
   "id": "a2f5f772",
   "metadata": {},
   "outputs": [
    {
     "data": {
      "text/plain": [
       "1937    0.389724\n",
       "1938    0.390722\n",
       "1939    0.389074\n",
       "1940    0.391280\n",
       "1941    0.381160\n",
       "          ...   \n",
       "2762    0.924008\n",
       "2763    0.918638\n",
       "2764    0.934721\n",
       "2765    0.929196\n",
       "2766    0.923763\n",
       "Name: predicted_mean, Length: 830, dtype: float64"
      ]
     },
     "execution_count": 97,
     "metadata": {},
     "output_type": "execute_result"
    }
   ],
   "source": [
    "forecast_1"
   ]
  },
  {
   "cell_type": "code",
   "execution_count": 98,
   "id": "e493762f",
   "metadata": {},
   "outputs": [
    {
     "data": {
      "text/html": [
       "<div>\n",
       "<style scoped>\n",
       "    .dataframe tbody tr th:only-of-type {\n",
       "        vertical-align: middle;\n",
       "    }\n",
       "\n",
       "    .dataframe tbody tr th {\n",
       "        vertical-align: top;\n",
       "    }\n",
       "\n",
       "    .dataframe thead th {\n",
       "        text-align: right;\n",
       "    }\n",
       "</style>\n",
       "<table border=\"1\" class=\"dataframe\">\n",
       "  <thead>\n",
       "    <tr style=\"text-align: right;\">\n",
       "      <th></th>\n",
       "      <th>Stock Price next day</th>\n",
       "    </tr>\n",
       "  </thead>\n",
       "  <tbody>\n",
       "    <tr>\n",
       "      <th>1937</th>\n",
       "      <td>0.391368</td>\n",
       "    </tr>\n",
       "    <tr>\n",
       "      <th>1938</th>\n",
       "      <td>0.391844</td>\n",
       "    </tr>\n",
       "    <tr>\n",
       "      <th>1939</th>\n",
       "      <td>0.388166</td>\n",
       "    </tr>\n",
       "    <tr>\n",
       "      <th>1940</th>\n",
       "      <td>0.383919</td>\n",
       "    </tr>\n",
       "    <tr>\n",
       "      <th>1941</th>\n",
       "      <td>0.383124</td>\n",
       "    </tr>\n",
       "    <tr>\n",
       "      <th>...</th>\n",
       "      <td>...</td>\n",
       "    </tr>\n",
       "    <tr>\n",
       "      <th>2762</th>\n",
       "      <td>0.946476</td>\n",
       "    </tr>\n",
       "    <tr>\n",
       "      <th>2763</th>\n",
       "      <td>0.944114</td>\n",
       "    </tr>\n",
       "    <tr>\n",
       "      <th>2764</th>\n",
       "      <td>0.946681</td>\n",
       "    </tr>\n",
       "    <tr>\n",
       "      <th>2765</th>\n",
       "      <td>0.943206</td>\n",
       "    </tr>\n",
       "    <tr>\n",
       "      <th>2766</th>\n",
       "      <td>0.959397</td>\n",
       "    </tr>\n",
       "  </tbody>\n",
       "</table>\n",
       "<p>830 rows × 1 columns</p>\n",
       "</div>"
      ],
      "text/plain": [
       "      Stock Price next day\n",
       "1937              0.391368\n",
       "1938              0.391844\n",
       "1939              0.388166\n",
       "1940              0.383919\n",
       "1941              0.383124\n",
       "...                    ...\n",
       "2762              0.946476\n",
       "2763              0.944114\n",
       "2764              0.946681\n",
       "2765              0.943206\n",
       "2766              0.959397\n",
       "\n",
       "[830 rows x 1 columns]"
      ]
     },
     "execution_count": 98,
     "metadata": {},
     "output_type": "execute_result"
    }
   ],
   "source": [
    "act= pd.DataFrame(scaler_output.iloc[train_size:, 0])\n",
    "act"
   ]
  },
  {
   "cell_type": "code",
   "execution_count": 99,
   "id": "ed7fb492",
   "metadata": {},
   "outputs": [
    {
     "data": {
      "text/html": [
       "<div>\n",
       "<style scoped>\n",
       "    .dataframe tbody tr th:only-of-type {\n",
       "        vertical-align: middle;\n",
       "    }\n",
       "\n",
       "    .dataframe tbody tr th {\n",
       "        vertical-align: top;\n",
       "    }\n",
       "\n",
       "    .dataframe thead th {\n",
       "        text-align: right;\n",
       "    }\n",
       "</style>\n",
       "<table border=\"1\" class=\"dataframe\">\n",
       "  <thead>\n",
       "    <tr style=\"text-align: right;\">\n",
       "      <th></th>\n",
       "      <th>predicted_mean</th>\n",
       "    </tr>\n",
       "  </thead>\n",
       "  <tbody>\n",
       "    <tr>\n",
       "      <th>1937</th>\n",
       "      <td>0.389724</td>\n",
       "    </tr>\n",
       "    <tr>\n",
       "      <th>1938</th>\n",
       "      <td>0.390722</td>\n",
       "    </tr>\n",
       "    <tr>\n",
       "      <th>1939</th>\n",
       "      <td>0.389074</td>\n",
       "    </tr>\n",
       "    <tr>\n",
       "      <th>1940</th>\n",
       "      <td>0.391280</td>\n",
       "    </tr>\n",
       "    <tr>\n",
       "      <th>1941</th>\n",
       "      <td>0.381160</td>\n",
       "    </tr>\n",
       "    <tr>\n",
       "      <th>...</th>\n",
       "      <td>...</td>\n",
       "    </tr>\n",
       "    <tr>\n",
       "      <th>2762</th>\n",
       "      <td>0.924008</td>\n",
       "    </tr>\n",
       "    <tr>\n",
       "      <th>2763</th>\n",
       "      <td>0.918638</td>\n",
       "    </tr>\n",
       "    <tr>\n",
       "      <th>2764</th>\n",
       "      <td>0.934721</td>\n",
       "    </tr>\n",
       "    <tr>\n",
       "      <th>2765</th>\n",
       "      <td>0.929196</td>\n",
       "    </tr>\n",
       "    <tr>\n",
       "      <th>2766</th>\n",
       "      <td>0.923763</td>\n",
       "    </tr>\n",
       "  </tbody>\n",
       "</table>\n",
       "<p>830 rows × 1 columns</p>\n",
       "</div>"
      ],
      "text/plain": [
       "      predicted_mean\n",
       "1937        0.389724\n",
       "1938        0.390722\n",
       "1939        0.389074\n",
       "1940        0.391280\n",
       "1941        0.381160\n",
       "...              ...\n",
       "2762        0.924008\n",
       "2763        0.918638\n",
       "2764        0.934721\n",
       "2765        0.929196\n",
       "2766        0.923763\n",
       "\n",
       "[830 rows x 1 columns]"
      ]
     },
     "execution_count": 99,
     "metadata": {},
     "output_type": "execute_result"
    }
   ],
   "source": [
    "predictions=pd.DataFrame(predictions)\n",
    "predictions"
   ]
  },
  {
   "cell_type": "code",
   "execution_count": 100,
   "id": "d55e91f0",
   "metadata": {},
   "outputs": [
    {
     "data": {
      "text/html": [
       "<div>\n",
       "<style scoped>\n",
       "    .dataframe tbody tr th:only-of-type {\n",
       "        vertical-align: middle;\n",
       "    }\n",
       "\n",
       "    .dataframe tbody tr th {\n",
       "        vertical-align: top;\n",
       "    }\n",
       "\n",
       "    .dataframe thead th {\n",
       "        text-align: right;\n",
       "    }\n",
       "</style>\n",
       "<table border=\"1\" class=\"dataframe\">\n",
       "  <thead>\n",
       "    <tr style=\"text-align: right;\">\n",
       "      <th></th>\n",
       "      <th>predicted_mean</th>\n",
       "    </tr>\n",
       "  </thead>\n",
       "  <tbody>\n",
       "    <tr>\n",
       "      <th>0</th>\n",
       "      <td>0.389724</td>\n",
       "    </tr>\n",
       "    <tr>\n",
       "      <th>1</th>\n",
       "      <td>0.390722</td>\n",
       "    </tr>\n",
       "    <tr>\n",
       "      <th>2</th>\n",
       "      <td>0.389074</td>\n",
       "    </tr>\n",
       "    <tr>\n",
       "      <th>3</th>\n",
       "      <td>0.391280</td>\n",
       "    </tr>\n",
       "    <tr>\n",
       "      <th>4</th>\n",
       "      <td>0.381160</td>\n",
       "    </tr>\n",
       "    <tr>\n",
       "      <th>...</th>\n",
       "      <td>...</td>\n",
       "    </tr>\n",
       "    <tr>\n",
       "      <th>825</th>\n",
       "      <td>0.924008</td>\n",
       "    </tr>\n",
       "    <tr>\n",
       "      <th>826</th>\n",
       "      <td>0.918638</td>\n",
       "    </tr>\n",
       "    <tr>\n",
       "      <th>827</th>\n",
       "      <td>0.934721</td>\n",
       "    </tr>\n",
       "    <tr>\n",
       "      <th>828</th>\n",
       "      <td>0.929196</td>\n",
       "    </tr>\n",
       "    <tr>\n",
       "      <th>829</th>\n",
       "      <td>0.923763</td>\n",
       "    </tr>\n",
       "  </tbody>\n",
       "</table>\n",
       "<p>830 rows × 1 columns</p>\n",
       "</div>"
      ],
      "text/plain": [
       "     predicted_mean\n",
       "0          0.389724\n",
       "1          0.390722\n",
       "2          0.389074\n",
       "3          0.391280\n",
       "4          0.381160\n",
       "..              ...\n",
       "825        0.924008\n",
       "826        0.918638\n",
       "827        0.934721\n",
       "828        0.929196\n",
       "829        0.923763\n",
       "\n",
       "[830 rows x 1 columns]"
      ]
     },
     "execution_count": 100,
     "metadata": {},
     "output_type": "execute_result"
    }
   ],
   "source": [
    "predictions.reset_index(drop=True, inplace=True)\n",
    "predictions"
   ]
  },
  {
   "cell_type": "code",
   "execution_count": 101,
   "id": "29adb7fc",
   "metadata": {},
   "outputs": [
    {
     "data": {
      "text/html": [
       "<div>\n",
       "<style scoped>\n",
       "    .dataframe tbody tr th:only-of-type {\n",
       "        vertical-align: middle;\n",
       "    }\n",
       "\n",
       "    .dataframe tbody tr th {\n",
       "        vertical-align: top;\n",
       "    }\n",
       "\n",
       "    .dataframe thead th {\n",
       "        text-align: right;\n",
       "    }\n",
       "</style>\n",
       "<table border=\"1\" class=\"dataframe\">\n",
       "  <thead>\n",
       "    <tr style=\"text-align: right;\">\n",
       "      <th></th>\n",
       "      <th>predicted_mean</th>\n",
       "    </tr>\n",
       "  </thead>\n",
       "  <tbody>\n",
       "    <tr>\n",
       "      <th>1937</th>\n",
       "      <td>0.389724</td>\n",
       "    </tr>\n",
       "    <tr>\n",
       "      <th>1938</th>\n",
       "      <td>0.390722</td>\n",
       "    </tr>\n",
       "    <tr>\n",
       "      <th>1939</th>\n",
       "      <td>0.389074</td>\n",
       "    </tr>\n",
       "    <tr>\n",
       "      <th>1940</th>\n",
       "      <td>0.391280</td>\n",
       "    </tr>\n",
       "    <tr>\n",
       "      <th>1941</th>\n",
       "      <td>0.381160</td>\n",
       "    </tr>\n",
       "    <tr>\n",
       "      <th>...</th>\n",
       "      <td>...</td>\n",
       "    </tr>\n",
       "    <tr>\n",
       "      <th>2762</th>\n",
       "      <td>0.924008</td>\n",
       "    </tr>\n",
       "    <tr>\n",
       "      <th>2763</th>\n",
       "      <td>0.918638</td>\n",
       "    </tr>\n",
       "    <tr>\n",
       "      <th>2764</th>\n",
       "      <td>0.934721</td>\n",
       "    </tr>\n",
       "    <tr>\n",
       "      <th>2765</th>\n",
       "      <td>0.929196</td>\n",
       "    </tr>\n",
       "    <tr>\n",
       "      <th>2766</th>\n",
       "      <td>0.923763</td>\n",
       "    </tr>\n",
       "  </tbody>\n",
       "</table>\n",
       "<p>830 rows × 1 columns</p>\n",
       "</div>"
      ],
      "text/plain": [
       "      predicted_mean\n",
       "1937        0.389724\n",
       "1938        0.390722\n",
       "1939        0.389074\n",
       "1940        0.391280\n",
       "1941        0.381160\n",
       "...              ...\n",
       "2762        0.924008\n",
       "2763        0.918638\n",
       "2764        0.934721\n",
       "2765        0.929196\n",
       "2766        0.923763\n",
       "\n",
       "[830 rows x 1 columns]"
      ]
     },
     "execution_count": 101,
     "metadata": {},
     "output_type": "execute_result"
    }
   ],
   "source": [
    "predictions.index=test_X.index\n",
    "predictions"
   ]
  },
  {
   "cell_type": "code",
   "execution_count": 102,
   "id": "ea6287cb",
   "metadata": {},
   "outputs": [
    {
     "data": {
      "text/html": [
       "<div>\n",
       "<style scoped>\n",
       "    .dataframe tbody tr th:only-of-type {\n",
       "        vertical-align: middle;\n",
       "    }\n",
       "\n",
       "    .dataframe tbody tr th {\n",
       "        vertical-align: top;\n",
       "    }\n",
       "\n",
       "    .dataframe thead th {\n",
       "        text-align: right;\n",
       "    }\n",
       "</style>\n",
       "<table border=\"1\" class=\"dataframe\">\n",
       "  <thead>\n",
       "    <tr style=\"text-align: right;\">\n",
       "      <th></th>\n",
       "      <th>predicted_mean</th>\n",
       "      <th>Actual</th>\n",
       "    </tr>\n",
       "  </thead>\n",
       "  <tbody>\n",
       "    <tr>\n",
       "      <th>1937</th>\n",
       "      <td>0.389724</td>\n",
       "      <td>0.391368</td>\n",
       "    </tr>\n",
       "    <tr>\n",
       "      <th>1938</th>\n",
       "      <td>0.390722</td>\n",
       "      <td>0.391844</td>\n",
       "    </tr>\n",
       "    <tr>\n",
       "      <th>1939</th>\n",
       "      <td>0.389074</td>\n",
       "      <td>0.388166</td>\n",
       "    </tr>\n",
       "    <tr>\n",
       "      <th>1940</th>\n",
       "      <td>0.391280</td>\n",
       "      <td>0.383919</td>\n",
       "    </tr>\n",
       "    <tr>\n",
       "      <th>1941</th>\n",
       "      <td>0.381160</td>\n",
       "      <td>0.383124</td>\n",
       "    </tr>\n",
       "    <tr>\n",
       "      <th>...</th>\n",
       "      <td>...</td>\n",
       "      <td>...</td>\n",
       "    </tr>\n",
       "    <tr>\n",
       "      <th>2762</th>\n",
       "      <td>0.924008</td>\n",
       "      <td>0.946476</td>\n",
       "    </tr>\n",
       "    <tr>\n",
       "      <th>2763</th>\n",
       "      <td>0.918638</td>\n",
       "      <td>0.944114</td>\n",
       "    </tr>\n",
       "    <tr>\n",
       "      <th>2764</th>\n",
       "      <td>0.934721</td>\n",
       "      <td>0.946681</td>\n",
       "    </tr>\n",
       "    <tr>\n",
       "      <th>2765</th>\n",
       "      <td>0.929196</td>\n",
       "      <td>0.943206</td>\n",
       "    </tr>\n",
       "    <tr>\n",
       "      <th>2766</th>\n",
       "      <td>0.923763</td>\n",
       "      <td>0.959397</td>\n",
       "    </tr>\n",
       "  </tbody>\n",
       "</table>\n",
       "<p>830 rows × 2 columns</p>\n",
       "</div>"
      ],
      "text/plain": [
       "      predicted_mean    Actual\n",
       "1937        0.389724  0.391368\n",
       "1938        0.390722  0.391844\n",
       "1939        0.389074  0.388166\n",
       "1940        0.391280  0.383919\n",
       "1941        0.381160  0.383124\n",
       "...              ...       ...\n",
       "2762        0.924008  0.946476\n",
       "2763        0.918638  0.944114\n",
       "2764        0.934721  0.946681\n",
       "2765        0.929196  0.943206\n",
       "2766        0.923763  0.959397\n",
       "\n",
       "[830 rows x 2 columns]"
      ]
     },
     "execution_count": 102,
     "metadata": {},
     "output_type": "execute_result"
    }
   ],
   "source": [
    "predictions['Actual'] = act['Stock Price next day']\n",
    "predictions.rename(columns={0:'Pred'}, inplace=True)\n",
    "predictions"
   ]
  },
  {
   "cell_type": "code",
   "execution_count": 103,
   "id": "870e6228",
   "metadata": {},
   "outputs": [
    {
     "data": {
      "text/plain": [
       "<AxesSubplot:>"
      ]
     },
     "execution_count": 103,
     "metadata": {},
     "output_type": "execute_result"
    },
    {
     "data": {
      "image/png": "[encoded data removed]",
      "text/plain": [
       "<Figure size 1440x576 with 1 Axes>"
      ]
     },
     "metadata": {
      "needs_background": "light"
     },
     "output_type": "display_data"
    }
   ],
   "source": [
    "predictions['Actual'].plot(figsize=(20,8), legend=True, color='blue')\n",
    "predictions['predicted_mean'].plot(legend=True, color='red', figsize=(20,8))"
   ]
  },
  {
   "cell_type": "code",
   "execution_count": 106,
   "id": "30d76581",
   "metadata": {},
   "outputs": [],
   "source": [
    "forecast_apple= pd.DataFrame(forecast_1)\n",
    "forecast_apple.reset_index(drop=True, inplace=True)\n",
    "forecast_apple.index=test_X.index\n",
    "forecast_apple['Actual'] =scaler_output.iloc[train_size:, 0]\n",
    "forecast_apple.rename(columns={0:'Forecast'}, inplace=True)"
   ]
  },
  {
   "cell_type": "code",
   "execution_count": 110,
   "id": "08a8d2ac",
   "metadata": {},
   "outputs": [
    {
     "data": {
      "text/plain": [
       "<AxesSubplot:>"
      ]
     },
     "execution_count": 110,
     "metadata": {},
     "output_type": "execute_result"
    },
    {
     "data": {
      "image/png": "[encoded data removed]",
      "text/plain": [
       "<Figure size 432x288 with 1 Axes>"
      ]
     },
     "metadata": {
      "needs_background": "light"
     },
     "output_type": "display_data"
    }
   ],
   "source": [
    "forecast_apple['predicted_mean'].plot(legend=True)\n",
    "forecast_apple['Actual'].plot(legend=True)"
   ]
  },
  {
   "cell_type": "code",
   "execution_count": 109,
   "id": "2ee9d792",
   "metadata": {},
   "outputs": [
    {
     "data": {
      "text/html": [
       "<div>\n",
       "<style scoped>\n",
       "    .dataframe tbody tr th:only-of-type {\n",
       "        vertical-align: middle;\n",
       "    }\n",
       "\n",
       "    .dataframe tbody tr th {\n",
       "        vertical-align: top;\n",
       "    }\n",
       "\n",
       "    .dataframe thead th {\n",
       "        text-align: right;\n",
       "    }\n",
       "</style>\n",
       "<table border=\"1\" class=\"dataframe\">\n",
       "  <thead>\n",
       "    <tr style=\"text-align: right;\">\n",
       "      <th></th>\n",
       "      <th>predicted_mean</th>\n",
       "      <th>Actual</th>\n",
       "    </tr>\n",
       "  </thead>\n",
       "  <tbody>\n",
       "    <tr>\n",
       "      <th>1937</th>\n",
       "      <td>0.389724</td>\n",
       "      <td>0.391368</td>\n",
       "    </tr>\n",
       "    <tr>\n",
       "      <th>1938</th>\n",
       "      <td>0.390722</td>\n",
       "      <td>0.391844</td>\n",
       "    </tr>\n",
       "    <tr>\n",
       "      <th>1939</th>\n",
       "      <td>0.389074</td>\n",
       "      <td>0.388166</td>\n",
       "    </tr>\n",
       "    <tr>\n",
       "      <th>1940</th>\n",
       "      <td>0.391280</td>\n",
       "      <td>0.383919</td>\n",
       "    </tr>\n",
       "    <tr>\n",
       "      <th>1941</th>\n",
       "      <td>0.381160</td>\n",
       "      <td>0.383124</td>\n",
       "    </tr>\n",
       "    <tr>\n",
       "      <th>...</th>\n",
       "      <td>...</td>\n",
       "      <td>...</td>\n",
       "    </tr>\n",
       "    <tr>\n",
       "      <th>2762</th>\n",
       "      <td>0.924008</td>\n",
       "      <td>0.946476</td>\n",
       "    </tr>\n",
       "    <tr>\n",
       "      <th>2763</th>\n",
       "      <td>0.918638</td>\n",
       "      <td>0.944114</td>\n",
       "    </tr>\n",
       "    <tr>\n",
       "      <th>2764</th>\n",
       "      <td>0.934721</td>\n",
       "      <td>0.946681</td>\n",
       "    </tr>\n",
       "    <tr>\n",
       "      <th>2765</th>\n",
       "      <td>0.929196</td>\n",
       "      <td>0.943206</td>\n",
       "    </tr>\n",
       "    <tr>\n",
       "      <th>2766</th>\n",
       "      <td>0.923763</td>\n",
       "      <td>0.959397</td>\n",
       "    </tr>\n",
       "  </tbody>\n",
       "</table>\n",
       "<p>830 rows × 2 columns</p>\n",
       "</div>"
      ],
      "text/plain": [
       "      predicted_mean    Actual\n",
       "1937        0.389724  0.391368\n",
       "1938        0.390722  0.391844\n",
       "1939        0.389074  0.388166\n",
       "1940        0.391280  0.383919\n",
       "1941        0.381160  0.383124\n",
       "...              ...       ...\n",
       "2762        0.924008  0.946476\n",
       "2763        0.918638  0.944114\n",
       "2764        0.934721  0.946681\n",
       "2765        0.929196  0.943206\n",
       "2766        0.923763  0.959397\n",
       "\n",
       "[830 rows x 2 columns]"
      ]
     },
     "execution_count": 109,
     "metadata": {},
     "output_type": "execute_result"
    }
   ],
   "source": [
    "forecast_apple"
   ]
  },
  {
   "cell_type": "code",
   "execution_count": null,
   "id": "8d1f7728",
   "metadata": {},
   "outputs": [],
   "source": []
  }
 ],
 "metadata": {
  "kernelspec": {
   "display_name": "Python 3 (ipykernel)",
   "language": "python",
   "name": "python3"
  },
  "language_info": {
   "codemirror_mode": {
    "name": "ipython",
    "version": 3
   },
   "file_extension": ".py",
   "mimetype": "text/x-python",
   "name": "python",
   "nbconvert_exporter": "python",
   "pygments_lexer": "ipython3",
   "version": "3.8.8"
  }
 },
 "nbformat": 4,
 "nbformat_minor": 5
}
