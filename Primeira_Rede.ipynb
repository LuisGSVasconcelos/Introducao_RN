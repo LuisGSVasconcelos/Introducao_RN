{
 "cells": [
  {
   "cell_type": "markdown",
   "id": "0809ea7e",
   "metadata": {},
   "source": [
    "# Construir sua primeira rede neural\n",
    "<img src=\"files/produto_interno.png\" width=\"200\" height=\"100\">\n",
    "A primeira etapa é definir o vetor de entrada"
   ]
  },
  {
   "cell_type": "code",
   "execution_count": 5,
   "id": "4dc747d7",
   "metadata": {},
   "outputs": [],
   "source": [
    "input_vector = [1.72, 1.23]"
   ]
  },
  {
   "cell_type": "markdown",
   "id": "2406e45f",
   "metadata": {},
   "source": [
    "A segunda consiste em escolher os pesos"
   ]
  },
  {
   "cell_type": "code",
   "execution_count": 6,
   "id": "966917f0",
   "metadata": {},
   "outputs": [],
   "source": [
    "weights_1 = [1.26, 0]\n",
    "weights_2 = [2.17, 0.32]"
   ]
  },
  {
   "cell_type": "markdown",
   "id": "390a6b69",
   "metadata": {},
   "source": [
    "Calcular o produto interno do vetor de entrada pelo pesos 1"
   ]
  },
  {
   "cell_type": "code",
   "execution_count": 7,
   "id": "add85556",
   "metadata": {},
   "outputs": [],
   "source": [
    "first_indexes_mult = input_vector[0] * weights_1[0]\n",
    "second_indexes_mult = input_vector[1] * weights_1[1]\n",
    "dot_product_1 = first_indexes_mult + second_indexes_mult"
   ]
  },
  {
   "cell_type": "code",
   "execution_count": 8,
   "id": "9b21f022",
   "metadata": {},
   "outputs": [
    {
     "name": "stdout",
     "output_type": "stream",
     "text": [
      "O produto da primeira entrada pelo peseo é: 2.1672\n"
     ]
    }
   ],
   "source": [
    "print(f\"O produto da primeira entrada pelo peseo é: {first_indexes_mult}\")"
   ]
  },
  {
   "cell_type": "code",
   "execution_count": 9,
   "id": "52c89471",
   "metadata": {},
   "outputs": [
    {
     "name": "stdout",
     "output_type": "stream",
     "text": [
      "O produto da primeira entrada pelo peseo é: 0.0\n"
     ]
    }
   ],
   "source": [
    "print(f\"O produto da primeira entrada pelo peseo é: {second_indexes_mult}\")"
   ]
  },
  {
   "cell_type": "code",
   "execution_count": 10,
   "id": "640d3178",
   "metadata": {},
   "outputs": [
    {
     "name": "stdout",
     "output_type": "stream",
     "text": [
      "O produto interno é: 2.1672\n"
     ]
    }
   ],
   "source": [
    "print(f\"O produto interno é: {dot_product_1}\")"
   ]
  },
  {
   "cell_type": "markdown",
   "id": "32e11117",
   "metadata": {},
   "source": [
    "### Repetir as operações usando numpy\n",
    "Importar a biblioteca numpy"
   ]
  },
  {
   "cell_type": "code",
   "execution_count": 11,
   "id": "ec0d2272",
   "metadata": {},
   "outputs": [],
   "source": [
    "import numpy as np"
   ]
  },
  {
   "cell_type": "markdown",
   "id": "8b9114df",
   "metadata": {},
   "source": [
    "Calcular o produto interno do vetor de entrada pelo pesos 1 usando numpy"
   ]
  },
  {
   "cell_type": "code",
   "execution_count": 12,
   "id": "02f3cc00",
   "metadata": {},
   "outputs": [],
   "source": [
    "dot_product_1 = np.dot(input_vector, weights_1)"
   ]
  },
  {
   "cell_type": "code",
   "execution_count": 13,
   "id": "8300df3e",
   "metadata": {},
   "outputs": [
    {
     "name": "stdout",
     "output_type": "stream",
     "text": [
      "O produto interno é: 2.1672\n"
     ]
    }
   ],
   "source": [
    "print(f\"O produto interno é: {dot_product_1}\")"
   ]
  },
  {
   "cell_type": "markdown",
   "id": "aa399170",
   "metadata": {},
   "source": [
    "Calcular o produto interno do vetor de entrada pelo pesos 2 usando numpy\n"
   ]
  },
  {
   "cell_type": "code",
   "execution_count": 14,
   "id": "5f959e4a",
   "metadata": {},
   "outputs": [],
   "source": [
    "dot_product_2 = np.dot(input_vector, weights_2)"
   ]
  },
  {
   "cell_type": "code",
   "execution_count": 15,
   "id": "11345f47",
   "metadata": {},
   "outputs": [
    {
     "name": "stdout",
     "output_type": "stream",
     "text": [
      "O produto interno é: 4.1259999999999994\n"
     ]
    }
   ],
   "source": [
    "print(f\"O produto interno é: {dot_product_2}\")"
   ]
  },
  {
   "cell_type": "markdown",
   "id": "459c6554",
   "metadata": {},
   "source": [
    "# Um problema de classificação\n",
    "\n",
    "| Vetor de Entrada | Alvo |\n",
    "| :- | -: |\n",
    "| [1.66, 1.56] | 1 |\n",
    "|   [2, 1.5]   | 0 |"
   ]
  },
  {
   "cell_type": "markdown",
   "id": "8423beb8",
   "metadata": {},
   "source": [
    "#### Envolvendo os vetores em matrizes NumPy"
   ]
  },
  {
   "cell_type": "code",
   "execution_count": 16,
   "id": "49ccf2b2",
   "metadata": {},
   "outputs": [],
   "source": [
    "input_vector = np.array([1.66, 1.56])\n",
    "weights_1 = np.array([1.45, -0.66])\n",
    "bias = np.array([0.0])"
   ]
  },
  {
   "cell_type": "markdown",
   "id": "d01f52c2",
   "metadata": {},
   "source": [
    "#### Definição da função sigmoide"
   ]
  },
  {
   "cell_type": "code",
   "execution_count": 17,
   "id": "ec583a2d",
   "metadata": {},
   "outputs": [],
   "source": [
    "def sigmoid(x):\n",
    "    return 1 / (1 + np.exp(-x))"
   ]
  },
  {
   "cell_type": "code",
   "execution_count": 18,
   "id": "59025578",
   "metadata": {},
   "outputs": [
    {
     "data": {
      "text/plain": [
       "<function matplotlib.pyplot.show(close=None, block=None)>"
      ]
     },
     "execution_count": 18,
     "metadata": {},
     "output_type": "execute_result"
    },
    {
     "data": {
      "image/png": "[encoded data removed]",
      "text/plain": [
       "<Figure size 432x288 with 1 Axes>"
      ]
     },
     "metadata": {
      "needs_background": "light"
     },
     "output_type": "display_data"
    }
   ],
   "source": [
    "import numpy as np\n",
    "import matplotlib.pyplot as plt\n",
    "x=np.linspace(-10,10,20)\n",
    "y = sigmoid(x)\n",
    "plt.plot(x,y)\n",
    "plt.xlabel('x')\n",
    "plt.ylabel('y')\n",
    "plt.title('Função sigmoide')\n",
    "plt.show"
   ]
  },
  {
   "cell_type": "markdown",
   "id": "0cc0cbc4",
   "metadata": {},
   "source": [
    "#### Definição da função de predição"
   ]
  },
  {
   "cell_type": "code",
   "execution_count": 19,
   "id": "74c5f14d",
   "metadata": {},
   "outputs": [],
   "source": [
    "def make_prediction(input_vector, weights, bias):\n",
    "     layer_1 = np.dot(input_vector, weights) + bias\n",
    "     print(f\"O resultado da saida da camada 1 é: {layer_1}\")\n",
    "     layer_2 = sigmoid(layer_1)\n",
    "     return layer_2"
   ]
  },
  {
   "cell_type": "code",
   "execution_count": 20,
   "id": "1a396cf8",
   "metadata": {},
   "outputs": [
    {
     "name": "stdout",
     "output_type": "stream",
     "text": [
      "O resultado da saida da camada 1 é: [1.3774]\n",
      "O resultado da predição é: [0.7985731]\n"
     ]
    }
   ],
   "source": [
    "prediction = make_prediction(input_vector, weights_1, bias)\n",
    "print(f\"O resultado da predição é: {prediction}\")"
   ]
  },
  {
   "cell_type": "markdown",
   "id": "67737b1d",
   "metadata": {},
   "source": [
    "Modificando o vetor de entrada"
   ]
  },
  {
   "cell_type": "code",
   "execution_count": 21,
   "id": "3a749076",
   "metadata": {},
   "outputs": [],
   "source": [
    "input_vector = np.array([2, 1.5])"
   ]
  },
  {
   "cell_type": "code",
   "execution_count": 22,
   "id": "a7f11cd4",
   "metadata": {},
   "outputs": [
    {
     "name": "stdout",
     "output_type": "stream",
     "text": [
      "O resultado da saida da camada 1 é: [1.91]\n",
      "O resultado da predição é: [0.87101915]\n"
     ]
    }
   ],
   "source": [
    "prediction = make_prediction(input_vector, weights_1, bias)\n",
    "print(f\"O resultado da predição é: {prediction}\")"
   ]
  },
  {
   "cell_type": "markdown",
   "id": "2d7a12c3",
   "metadata": {},
   "source": [
    "| Vetor de Entrada | Alvo | Predito |\n",
    "| :- | -: | -: |\n",
    "| [1.66, 1.56] | 1 | 0.798 |\n",
    "|   [2, 1.5]   | 0 | 0.871 |"
   ]
  },
  {
   "cell_type": "markdown",
   "id": "1ed98189",
   "metadata": {},
   "source": [
    "Treinar sua primeira rede neural:"
   ]
  },
  {
   "cell_type": "code",
   "execution_count": 23,
   "id": "ca2e79e7",
   "metadata": {},
   "outputs": [
    {
     "name": "stdout",
     "output_type": "stream",
     "text": [
      "Predição: [0.87101915]; Erro: [0.75867436]\n"
     ]
    }
   ],
   "source": [
    "target = 0\n",
    "mse = np.square(prediction - target)\n",
    "print(f\"Predição: {prediction}; Erro: {mse}\")"
   ]
  },
  {
   "cell_type": "markdown",
   "id": "448e73d5",
   "metadata": {},
   "source": [
    "Calcular da derivada:"
   ]
  },
  {
   "cell_type": "code",
   "execution_count": 24,
   "id": "9d43a2b0",
   "metadata": {},
   "outputs": [
    {
     "name": "stdout",
     "output_type": "stream",
     "text": [
      "A derivada é [1.7420383]\n"
     ]
    }
   ],
   "source": [
    "derivative = 2 * (prediction - target)\n",
    "print(f\"A derivada é {derivative}\")"
   ]
  },
  {
   "cell_type": "code",
   "execution_count": null,
   "id": "fa3d8712",
   "metadata": {},
   "outputs": [],
   "source": [
    "import numpy as np\n",
    "import matplotlib.pyplot as plt\n",
    "x=np.linspace(-10,10,20)\n",
    "dy = sigmoid(x)\n",
    "plt.plot(x,y)\n",
    "plt.xlabel('x')\n",
    "plt.ylabel('y')\n",
    "plt.title('Função sigmoide')\n",
    "plt.show"
   ]
  },
  {
   "cell_type": "markdown",
   "id": "45275430",
   "metadata": {},
   "source": [
    "Atualizar pesos:"
   ]
  },
  {
   "cell_type": "code",
   "execution_count": 25,
   "id": "5b311c2c",
   "metadata": {},
   "outputs": [
    {
     "name": "stdout",
     "output_type": "stream",
     "text": [
      "O peso anterior é [ 1.45 -0.66]\n",
      "O peso atualizado é [-0.2920383 -2.4020383]\n"
     ]
    }
   ],
   "source": [
    "print(f\"O peso anterior é {weights_1}\")\n",
    "weights_1 = weights_1 - derivative\n",
    "print(f\"O peso atualizado é {weights_1}\")"
   ]
  },
  {
   "cell_type": "markdown",
   "id": "4bf640de",
   "metadata": {},
   "source": [
    "Fazendo uma nova predição:"
   ]
  },
  {
   "cell_type": "code",
   "execution_count": 26,
   "id": "e5cf24d8",
   "metadata": {},
   "outputs": [
    {
     "name": "stdout",
     "output_type": "stream",
     "text": [
      "O resultado da saida da camada 1 é: [-4.18713403]\n",
      "Prediction: [0.01496248]; Error: [0.00022388]\n"
     ]
    }
   ],
   "source": [
    "prediction = make_prediction(input_vector, weights_1, bias)\n",
    "error = (prediction - target) ** 2\n",
    "print(f\"Prediction: {prediction}; Error: {error}\")"
   ]
  },
  {
   "cell_type": "markdown",
   "id": "1f1073d9",
   "metadata": {},
   "source": [
    "| Vetor de Entrada | Alvo | Predito |\n",
    "| :- | -: | -: |\n",
    "| [1.66, 1.56] | 1 | 0.798 |\n",
    "|   [2, 1.5]   | 0 | 0.015 |"
   ]
  },
  {
   "cell_type": "markdown",
   "id": "6790a32c",
   "metadata": {},
   "source": [
    "### Ajustando os parâmetros com retropropagação"
   ]
  },
  {
   "cell_type": "markdown",
   "id": "0cde030d",
   "metadata": {},
   "source": [
    "Construindo a derivada da função sigmoide"
   ]
  },
  {
   "cell_type": "code",
   "execution_count": 27,
   "id": "c6091dac",
   "metadata": {},
   "outputs": [],
   "source": [
    "def sigmoid_deriv(x):\n",
    "    return sigmoid(x) * (1-sigmoid(x))"
   ]
  },
  {
   "cell_type": "code",
   "execution_count": 78,
   "id": "9e18df74",
   "metadata": {},
   "outputs": [
    {
     "data": {
      "text/plain": [
       "<function matplotlib.pyplot.show(close=None, block=None)>"
      ]
     },
     "execution_count": 78,
     "metadata": {},
     "output_type": "execute_result"
    },
    {
     "data": {
      "image/png": "[encoded data removed]",
      "text/plain": [
       "<Figure size 648x432 with 2 Axes>"
      ]
     },
     "metadata": {
      "needs_background": "light"
     },
     "output_type": "display_data"
    }
   ],
   "source": [
    "import numpy as np\n",
    "import matplotlib.pyplot as plt\n",
    "plt.figure(figsize=(9, 6))\n",
    "x=np.linspace(-10,10,20)\n",
    "y = sigmoid(x)\n",
    "plt.subplot(2,1,1)\n",
    "plt.plot(x,y)\n",
    "plt.xlabel('x')\n",
    "plt.ylabel('y')\n",
    "plt.title('Função sigmoide')\n",
    "plt.subplot(2,1,2)\n",
    "dy= sigmoid_deriv(x)\n",
    "plt.plot(x,dy)\n",
    "plt.xlabel('dx')\n",
    "plt.ylabel('y')\n",
    "plt.title('Derivada da sigmoide')\n",
    "plt.show"
   ]
  },
  {
   "cell_type": "markdown",
   "id": "c520333a",
   "metadata": {},
   "source": [
    "Calculando a derivada do erro de predição"
   ]
  },
  {
   "cell_type": "code",
   "execution_count": 28,
   "id": "452ab3bc",
   "metadata": {},
   "outputs": [
    {
     "name": "stdout",
     "output_type": "stream",
     "text": [
      "O valor predito: [0.01496248]\n",
      "O valor do alvo é: 0\n",
      "A derivada do erro de predição é: [0.02992496]\n"
     ]
    }
   ],
   "source": [
    "print(f\"O valor predito: {prediction}\")\n",
    "print(f\"O valor do alvo é: {target}\")\n",
    "derror_dprediction = 2 * (prediction - target)\n",
    "print(f\"A derivada do erro de predição é: {derror_dprediction}\")"
   ]
  },
  {
   "cell_type": "markdown",
   "id": "d4217e13",
   "metadata": {},
   "source": [
    "Calculando o erro na saida da camada 1"
   ]
  },
  {
   "cell_type": "code",
   "execution_count": 29,
   "id": "395cb2e3",
   "metadata": {},
   "outputs": [
    {
     "name": "stdout",
     "output_type": "stream",
     "text": [
      "O vetor de entrada: [2.  1.5]\n",
      "O vetor de pesos na primeira camada: [-0.2920383 -2.4020383]\n",
      "O valor da polarização na primeira camada: [0.]\n",
      "O valor de saida na primeira camada antes da função de ativação: [-4.18713403]\n",
      "O valor de saida na primeira camada apos a função de ativação: [0.0147386]\n",
      "A derivada do erro na saida da primeira camada é: [0.02992496]\n"
     ]
    }
   ],
   "source": [
    "print(f\"O vetor de entrada: {input_vector}\")\n",
    "print(f\"O vetor de pesos na primeira camada: {weights_1}\")\n",
    "print(f\"O valor da polarização na primeira camada: {bias}\")\n",
    "layer_1 = np.dot(input_vector, weights_1) + bias\n",
    "print(f\"O valor de saida na primeira camada antes da função de ativação: {layer_1}\")\n",
    "print(f\"O valor de saida na primeira camada apos a função de ativação: {sigmoid_deriv(layer_1)}\")\n",
    "dprediction_dlayer1 = sigmoid_deriv(layer_1)\n",
    "print(f\"A derivada do erro na saida da primeira camada é: {derror_dprediction}\")"
   ]
  },
  {
   "cell_type": "markdown",
   "id": "6274c425",
   "metadata": {},
   "source": [
    "Criando uma classe de rede neural"
   ]
  },
  {
   "cell_type": "code",
   "execution_count": 30,
   "id": "179d83ad",
   "metadata": {},
   "outputs": [
    {
     "name": "stdout",
     "output_type": "stream",
     "text": [
      "O vetor de peso: [0.14939787 1.2704645 ]\n",
      "O valor da polarização: 1.4508571630989318\n"
     ]
    }
   ],
   "source": [
    "weights = np.array([np.random.randn(), np.random.randn()])\n",
    "print(f\"O vetor de peso: {weights}\")\n",
    "bias = np.random.randn()\n",
    "print(f\"O valor da polarização: {bias}\")"
   ]
  },
  {
   "cell_type": "code",
   "execution_count": 110,
   "id": "abe37bb5",
   "metadata": {},
   "outputs": [],
   "source": [
    "def parametros(learning_rate):\n",
    "        weights = np.array([np.random.randn(), np.random.randn()])\n",
    "        bias = np.random.randn()\n",
    "        learning_rate = learning_rate\n",
    "learning_rate = 0.001\n",
    "inicial = parametros(0.001)"
   ]
  },
  {
   "cell_type": "code",
   "execution_count": 111,
   "id": "36e232e0",
   "metadata": {},
   "outputs": [
    {
     "name": "stdout",
     "output_type": "stream",
     "text": [
      "O vetor de peso é: [0.37710793 0.753833  ]\n",
      "O valor da polarização é: 0.03539325672125101\n",
      "A taxa de aprendizagem é: 0.001\n"
     ]
    }
   ],
   "source": [
    "print(f\"O vetor de peso é: {weights}\")\n",
    "print(f\"O valor da polarização é: {bias}\")\n",
    "print(f\"A taxa de aprendizagem é: {learning_rate}\")"
   ]
  },
  {
   "cell_type": "code",
   "execution_count": 116,
   "id": "87693eac",
   "metadata": {},
   "outputs": [
    {
     "name": "stdout",
     "output_type": "stream",
     "text": [
      "O valor da sigmoide de 2 é: 0.8807970779778823\n"
     ]
    }
   ],
   "source": [
    "def parametros(learning_rate):\n",
    "        weights = np.array([np.random.randn(), np.random.randn()])\n",
    "        bias = np.random.randn()\n",
    "        learning_rate = learning_rate\n",
    "def _sigmoid( x):\n",
    "        return 1 / (1 + np.exp(-x))\n",
    "learning_rate = 0.001\n",
    "sig = inicial._sigmoid(2)\n",
    "print(f\"O valor da sigmoide de 2 é: {sig}\")"
   ]
  },
  {
   "cell_type": "code",
   "execution_count": 117,
   "id": "b0bf0253",
   "metadata": {},
   "outputs": [
    {
     "name": "stdout",
     "output_type": "stream",
     "text": [
      "O valor da derivada da sigmoide de 0.88 é: 0.20722456886192342\n"
     ]
    }
   ],
   "source": [
    "def parametros(learning_rate):\n",
    "        weights = np.array([np.random.randn(), np.random.randn()])\n",
    "        bias = np.random.randn()\n",
    "        learning_rate = learning_rate\n",
    "def _sigmoid(x):\n",
    "        return 1 / (1 + np.exp(-x))\n",
    "def _sigmoid_deriv( x):\n",
    "        return self._sigmoid(x) * (1 - self._sigmoid(x))\n",
    "\n",
    "learning_rate = 0.001\n",
    "der_sig = inicial._sigmoid_deriv(0.88)\n",
    "print(f\"O valor da derivada da sigmoide de 0.88 é: {der_sig}\")"
   ]
  },
  {
   "cell_type": "code",
   "execution_count": 119,
   "id": "406195de",
   "metadata": {},
   "outputs": [
    {
     "name": "stdout",
     "output_type": "stream",
     "text": [
      "Para a entrada: [1.72, 1.23]\n",
      "O valor predito é: 0.8335825697799651\n",
      "O valor dos pesos da camada de entrada é: [0.37710793 0.753833  ]\n",
      "O valor da polaridade da camada de entrada é: 0.03539325672125101\n",
      "O resultado da camada de entrada é: 1.6112334893877136\n",
      "O resultado da camada de saida é: 0.8335825697799651\n"
     ]
    }
   ],
   "source": [
    "def parametros(learning_rate):\n",
    "        weights = np.array([np.random.randn(), np.random.randn()])\n",
    "        bias = np.random.randn()\n",
    "        learning_rate = learning_rate\n",
    "\n",
    "def _sigmoid(x):\n",
    "        return 1 / (1 + np.exp(-x))\n",
    "\n",
    "def _sigmoid_deriv(x):\n",
    "        return self._sigmoid(x) * (1 - _sigmoid(x))\n",
    "\n",
    "def predict(input_vector):\n",
    "        layer_1 = np.dot(input_vector, weights) + bias\n",
    "        layer_2 = sigmoid(layer_1)        \n",
    "        prediction = layer_2\n",
    "        return prediction, layer_1, layer_2\n",
    "input_vector = [1.72, 1.23]\n",
    "pred = predict(input_vector)\n",
    "print(f\"Para a entrada: {input_vector}\")\n",
    "print(f\"O valor predito é: {pred[0]}\")\n",
    "print(f\"O valor dos pesos da camada de entrada é: {weights}\")\n",
    "print(f\"O valor da polaridade da camada de entrada é: {bias}\")\n",
    "print(f\"O resultado da camada de entrada é: {pred[1]}\")\n",
    "print(f\"O resultado da camada de saida é: {pred[2]}\")"
   ]
  },
  {
   "cell_type": "code",
   "execution_count": 124,
   "id": "ab5c3987",
   "metadata": {},
   "outputs": [
    {
     "name": "stdout",
     "output_type": "stream",
     "text": [
      "Para a entrada: [1.72, 1.23]\n",
      "O valor dos pesos da camada de entrada é: [0.37710793 0.753833  ]\n",
      "O valor da polaridade da camada de entrada é: 0.03539325672125101\n",
      "O resultado da camada de entrada é: -1.6070842474967688\n",
      "O resultado da camada de saida é: 0.1669938210942353\n",
      "O valor predito é: 0.1669938210942353\n",
      "O valor de alvo é: 1\n",
      "A derivada do erro de predição é: -1.6660123578115293\n",
      "A derivada do erro de predição na camada de entrada é: 0.13910688481058184\n",
      "A derivada da polarização é: 1\n",
      "A derivada dos pesos são: [1.72 1.23]\n"
     ]
    }
   ],
   "source": [
    "def parametros(learning_rate):\n",
    "        weights = np.array([np.random.randn(), np.random.randn()])\n",
    "        bias = np.random.randn()\n",
    "        learning_rate = learning_rate\n",
    "\n",
    "def _sigmoid(x):\n",
    "        return 1 / (1 + np.exp(-x))\n",
    "\n",
    "def _sigmoid_deriv(x):\n",
    "        return self._sigmoid(x) * (1 - _sigmoid(x))\n",
    "\n",
    "def predict(input_vector):\n",
    "        layer_1 = np.dot(input_vector, weights) + bias\n",
    "        layer_2 = sigmoid(layer_1)        \n",
    "        prediction = layer_2\n",
    "        return prediction, layer_1, layer_2\n",
    "def _compute_gradients(input_vector, target):\n",
    "        layer_1 = np.dot(input_vector, weights) + bias\n",
    "        layer_2 = _sigmoid(layer_1)\n",
    "        prediction = layer_2\n",
    "        \n",
    "        derror_dprediction = 2 * (prediction - target)\n",
    "        dprediction_dlayer1 = _sigmoid_deriv(layer_1)\n",
    "        dlayer1_dbias = 1\n",
    "        dlayer1_dweights = (0 * weights) + (1 * input_vector)\n",
    "        return derror_dprediction, dprediction_dlayer1, dlayer1_dbias, dlayer1_dweights                                 \n",
    "        \n",
    "input_vector = [1.72, 1.23]\n",
    "pred = inicial.predict(input_vector)\n",
    "print(f\"Para a entrada: {input_vector}\")\n",
    "print(f\"O valor dos pesos da camada de entrada é: {weights}\")\n",
    "print(f\"O valor da polaridade da camada de entrada é: {bias}\")\n",
    "print(f\"O resultado da camada de entrada é: {pred[1]}\")\n",
    "print(f\"O resultado da camada de saida é: {pred[2]}\")\n",
    "print(f\"O valor predito é: {pred[0]}\")\n",
    "\n",
    "target = 1 \n",
    "print(f\"O valor de alvo é: {target}\")\n",
    "gradiente = inicial._compute_gradients(input_vector,target)                                               \n",
    "print(f\"A derivada do erro de predição é: {gradiente[0]}\")\n",
    "print(f\"A derivada do erro de predição na camada de entrada é: {gradiente[1]}\")\n",
    "print(f\"A derivada da polarização é: {gradiente[2]}\")\n",
    "print(f\"A derivada dos pesos são: {gradiente[3]}\")"
   ]
  },
  {
   "cell_type": "code",
   "execution_count": 121,
   "id": "3264a91e",
   "metadata": {},
   "outputs": [
    {
     "name": "stdout",
     "output_type": "stream",
     "text": [
      "Para a entrada: [1.72, 1.23]\n",
      "O valor dos pesos da camada de entrada é: [0.37710793 0.753833  ]\n",
      "O valor da polaridade da camada de entrada é: 0.03539325672125101\n",
      "O resultado da camada de entrada é: -1.6081199525542806\n",
      "O resultado da camada de saida é: 0.16684979707631079\n",
      "O valor predito é: 0.16684979707631079\n",
      "O valor de alvo é: 1\n",
      "A derivada do erro de predição é: -1.6663004058473785\n",
      "A derivada do erro de predição na camada de entrada é: 0.1390109422919047\n",
      "A derivada da polarização é: 1\n",
      "A derivada dos pesos são: [1.72 1.23]\n",
      "A derivada do erro em relação a polarização é: -0.2316339895582273\n",
      "A derivada do erro em relação aos pesos são: [-0.39841046 -0.28490981]\n"
     ]
    }
   ],
   "source": [
    "def parametros(learning_rate):\n",
    "        weights = np.array([np.random.randn(), np.random.randn()])\n",
    "        bias = np.random.randn()\n",
    "        learning_rate = learning_rate\n",
    "\n",
    "def _sigmoid(x):\n",
    "        return 1 / (1 + np.exp(-x))\n",
    "\n",
    "def _sigmoid_deriv(x):\n",
    "        return self._sigmoid(x) * (1 - _sigmoid(x))\n",
    "\n",
    "def predict(input_vector):\n",
    "        layer_1 = np.dot(input_vector, weights) + bias\n",
    "        layer_2 = sigmoid(layer_1)        \n",
    "        prediction = layer_2\n",
    "        return prediction, layer_1, layer_2\n",
    "def _compute_gradients(input_vector, target):\n",
    "        layer_1 = np.dot(input_vector, weights) + bias\n",
    "        layer_2 = _sigmoid(layer_1)\n",
    "        prediction = layer_2\n",
    "        \n",
    "        derror_dprediction = 2 * (prediction - target)\n",
    "        dprediction_dlayer1 = _sigmoid_deriv(layer_1)\n",
    "        dlayer1_dbias = 1\n",
    "        dlayer1_dweights = (0 * weights) + (1 * input_vector)\n",
    "                \n",
    "        return derror_dprediction, dprediction_dlayer1, dlayer1_dbias, dlayer1_dweights, derror_dbias, derror_dweights\n",
    "        \n",
    "input_vector = [1.72, 1.23]\n",
    "pred = inicial.predict(input_vector)\n",
    "print(f\"Para a entrada: {input_vector}\")\n",
    "print(f\"O valor dos pesos da camada de entrada é: {weights}\")\n",
    "print(f\"O valor da polaridade da camada de entrada é: {bias}\")\n",
    "print(f\"O resultado da camada de entrada é: {pred[1]}\")\n",
    "print(f\"O resultado da camada de saida é: {pred[2]}\")\n",
    "print(f\"O valor predito é: {pred[0]}\")\n",
    "\n",
    "target = 1 \n",
    "print(f\"O valor de alvo é: {target}\")\n",
    "gradiente = []\n",
    "gradiente = inicial._compute_gradients(input_vector,target)                                               \n",
    "print(f\"A derivada do erro de predição é: {gradiente[0]}\")\n",
    "print(f\"A derivada do erro de predição na camada de entrada é: {gradiente[1]}\")\n",
    "print(f\"A derivada da polarização é: {gradiente[2]}\")\n",
    "print(f\"A derivada dos pesos são: {gradiente[3]}\")\n",
    "print(f\"A derivada do erro em relação a polarização é: {gradiente[4]}\")\n",
    "print(f\"A derivada do erro em relação aos pesos são: {gradiente[5]}\")"
   ]
  },
  {
   "cell_type": "code",
   "execution_count": 138,
   "id": "4f566f8b",
   "metadata": {},
   "outputs": [
    {
     "name": "stdout",
     "output_type": "stream",
     "text": [
      "Para a entrada: [1.72, 1.23]\n",
      "O valor dos pesos da camada de entrada é: [0.37870487 0.754975  ]\n",
      "O valor da polaridade da camada de entrada é: 0.03632170995097921\n",
      "O resultado da camada de entrada é: 1.6163133355435255\n",
      "O resultado da camada de saida é: 0.8342860659765473\n",
      "O valor predito é: 0.8342860659765473\n",
      "O valor de alvo é: 1\n",
      "A derivada do erro de predição é: -0.3314278680469054\n",
      "A derivada do erro de predição na camada de entrada é: 0.13825282609392345\n",
      "A derivada da polarização é: 1\n",
      "A derivada dos pesos são: [1.72 1.23]\n",
      "A derivada do erro em relação a polarização é: -0.23211330743205083\n",
      "A derivada do erro em relação aos pesos são: [-0.39923489 -0.28549937]\n",
      "0.036553823258411264 [0.37910411 0.7552605 ]\n",
      "O valor dos pesos da camada de entrada é: [0.37910411 0.7552605 ]\n",
      "O valor da polaridade da camada de entrada é: 0.036553823258411264\n",
      "---------------------------\n",
      "Calculo da segunda iteração\n",
      "Para a entrada: [1.72, 1.23]\n",
      "O valor dos pesos da camada de entrada é: [0.37910411 0.7552605 ]\n",
      "O valor da polaridade da camada de entrada é: 0.036553823258411264\n",
      "O resultado da camada de entrada é: -1.6039739180065884\n",
      "O resultado da camada de saida é: 0.167426937595467\n",
      "O valor predito é: 0.167426937595467\n"
     ]
    }
   ],
   "source": [
    "def parametros(learning_rate):\n",
    "        weights = np.array([np.random.randn(), np.random.randn()])\n",
    "        bias = np.random.randn()\n",
    "        learning_rate = learning_rate\n",
    "\n",
    "def _sigmoid(x):\n",
    "        return 1 / (1 + np.exp(-x))\n",
    "\n",
    "def _sigmoid_deriv(x):\n",
    "        return _sigmoid(x) * (1 - _sigmoid(x))\n",
    "\n",
    "def predict(input_vector,weights,bias):\n",
    "        layer_1 = np.dot(input_vector, weights) + bias\n",
    "        layer_2 = sigmoid(layer_1)        \n",
    "        prediction = layer_2\n",
    "        return prediction, layer_1, layer_2\n",
    "def _compute_gradients( input_vector, target,weights,bias):\n",
    "        layer_1 = np.dot(input_vector, weights) + bias\n",
    "        layer_2 = _sigmoid(layer_1)\n",
    "        prediction = layer_2\n",
    "        \n",
    "        derror_dprediction = 2 * (prediction - target)\n",
    "        dprediction_dlayer1 = _sigmoid_deriv(layer_1)\n",
    "        dlayer1_dbias = 1\n",
    "        dlayer1_dweights = (0 * weights) + (1 * input_vector)\n",
    "                \n",
    "        return derror_dprediction, dprediction_dlayer1, dlayer1_dbias, dlayer1_dweights, derror_dbias, derror_dweights\n",
    "    \n",
    "def _update_parameters(derror_dbias, derror_dweights,bias,weights,learning_rate):\n",
    "        bias = bias - (derror_dbias * learning_rate)        \n",
    "        weights = weights - (derror_dweights * learning_rate)\n",
    "        print(bias,weights)\n",
    "        return bias, weights\n",
    "        \n",
    "input_vector = [1.72, 1.23]\n",
    "\n",
    "pred = predict(input_vector,weights,bias)\n",
    "print(f\"Para a entrada: {input_vector}\")\n",
    "print(f\"O valor dos pesos da camada de entrada é: {weights}\")\n",
    "print(f\"O valor da polaridade da camada de entrada é: {bias}\")\n",
    "print(f\"O resultado da camada de entrada é: {pred[1]}\")\n",
    "print(f\"O resultado da camada de saida é: {pred[2]}\")\n",
    "print(f\"O valor predito é: {pred[0]}\")\n",
    "\n",
    "target = 1 \n",
    "print(f\"O valor de alvo é: {target}\")\n",
    "\n",
    "gradiente = _compute_gradients(input_vector,target,weights,bias)                                               \n",
    "print(f\"A derivada do erro de predição é: {gradiente[0]}\")\n",
    "print(f\"A derivada do erro de predição na camada de entrada é: {gradiente[1]}\")\n",
    "print(f\"A derivada da polarização é: {gradiente[2]}\")\n",
    "print(f\"A derivada dos pesos são: {gradiente[3]}\")\n",
    "print(f\"A derivada do erro em relação a polarização é: {gradiente[4]}\")\n",
    "print(f\"A derivada do erro em relação aos pesos são: {gradiente[5]}\")\n",
    "\n",
    "derror_dbias= gradiente[4]\n",
    "derror_dweights = gradiente[5]\n",
    "atualiza =_update_parameters(derror_dbias, derror_dweights, bias, weights,learning_rate)\n",
    "bias = atualiza[0]\n",
    "weights = atualiza[1]\n",
    "print(f\"O valor dos pesos da camada de entrada é: {atualiza[1]}\")\n",
    "print(f\"O valor da polaridade da camada de entrada é: {atualiza[0]}\")\n",
    "\n",
    "print('---------------------------')\n",
    "print('Calculo da segunda iteração')\n",
    "\n",
    "pred = inicial.predict(input_vector)\n",
    "print(f\"Para a entrada: {input_vector}\")\n",
    "print(f\"O valor dos pesos da camada de entrada é: {weights}\")\n",
    "print(f\"O valor da polaridade da camada de entrada é: {bias}\")\n",
    "print(f\"O resultado da camada de entrada é: {pred[1]}\")\n",
    "print(f\"O resultado da camada de saida é: {pred[2]}\")\n",
    "print(f\"O valor predito é: {pred[0]}\")"
   ]
  },
  {
   "cell_type": "code",
   "execution_count": 140,
   "id": "f055a3c8",
   "metadata": {},
   "outputs": [
    {
     "name": "stdout",
     "output_type": "stream",
     "text": [
      "Para a entrada: [1.72, 1.23]\n",
      "O valor dos pesos da camada de entrada é: [0.37990258 0.75583149]\n",
      "O valor da polaridade da camada de entrada é: 0.037018049873275366\n",
      "O resultado da camada de entrada é: 1.6201232201603841\n",
      "O resultado da camada de saida é: 0.834812122674346\n",
      "O valor predito é: 0.834812122674346\n",
      "O valor de alvo é: 1\n",
      "A derivada do erro de predição é: -0.330375754651308\n",
      "A derivada do erro de predição na camada de entrada é: 0.1379008425102987\n",
      "A derivada da polarização é: 1\n",
      "A derivada dos pesos são: [1.72 1.23]\n",
      "A derivada do erro em relação a polarização é: -0.23211330743205083\n",
      "A derivada do erro em relação aos pesos são: [-0.39923489 -0.28549937]\n",
      "0.03725016318070742 [0.38030181 0.75611699]\n",
      "O valor dos pesos da camada de entrada é: [0.38030181 0.75611699]\n",
      "O valor da polaridade da camada de entrada é: 0.03725016318070742\n",
      "---------------------------\n",
      "Calculo da segunda iteração\n",
      "Para a entrada: [1.72, 1.23]\n",
      "O valor dos pesos da camada de entrada é: [0.38030181 0.75611699]\n",
      "O valor da polaridade da camada de entrada é: 0.03725016318070742\n",
      "O resultado da camada de entrada é: -1.6039739180065884\n",
      "O resultado da camada de saida é: 0.167426937595467\n",
      "O valor predito é: 0.167426937595467\n",
      "O valor de alvo é: 1\n",
      "A derivada do erro de predição é: -0.3300256460316746\n",
      "A derivada do erro de predição na camada de entrada é: 0.13778359125618125\n",
      "A derivada da polarização é: 1\n",
      "A derivada dos pesos são: [1.72 1.23]\n",
      "A derivada do erro em relação a polarização é: -0.23211330743205083\n",
      "A derivada do erro em relação aos pesos são: [-0.39923489 -0.28549937]\n",
      "0.03748227648813947 [0.38070105 0.75640249]\n",
      "O valor dos pesos da camada de entrada é: [0.38070105 0.75640249]\n",
      "O valor da polaridade da camada de entrada é: 0.03748227648813947\n",
      "---------------------------\n",
      "Calculo da terceira iteração\n",
      "Para a entrada: [1.72, 1.23]\n",
      "O valor dos pesos da camada de entrada é: [0.38070105 0.75640249]\n",
      "O valor da polaridade da camada de entrada é: 0.03748227648813947\n",
      "O resultado da camada de entrada é: -1.6039739180065884\n",
      "O resultado da camada de saida é: 0.167426937595467\n",
      "O valor predito é: 0.167426937595467\n"
     ]
    }
   ],
   "source": [
    "input_vector = [1.72, 1.23]\n",
    "\n",
    "pred = predict(input_vector,weights,bias)\n",
    "print(f\"Para a entrada: {input_vector}\")\n",
    "print(f\"O valor dos pesos da camada de entrada é: {weights}\")\n",
    "print(f\"O valor da polaridade da camada de entrada é: {bias}\")\n",
    "print(f\"O resultado da camada de entrada é: {pred[1]}\")\n",
    "print(f\"O resultado da camada de saida é: {pred[2]}\")\n",
    "print(f\"O valor predito é: {pred[0]}\")\n",
    "\n",
    "target = 1 \n",
    "print(f\"O valor de alvo é: {target}\")\n",
    "\n",
    "gradiente = _compute_gradients(input_vector,target,weights,bias)                                               \n",
    "print(f\"A derivada do erro de predição é: {gradiente[0]}\")\n",
    "print(f\"A derivada do erro de predição na camada de entrada é: {gradiente[1]}\")\n",
    "print(f\"A derivada da polarização é: {gradiente[2]}\")\n",
    "print(f\"A derivada dos pesos são: {gradiente[3]}\")\n",
    "print(f\"A derivada do erro em relação a polarização é: {gradiente[4]}\")\n",
    "print(f\"A derivada do erro em relação aos pesos são: {gradiente[5]}\")\n",
    "\n",
    "derror_dbias= gradiente[4]\n",
    "derror_dweights = gradiente[5]\n",
    "atualiza =_update_parameters(derror_dbias, derror_dweights, bias, weights,learning_rate)\n",
    "bias = atualiza[0]\n",
    "weights = atualiza[1]\n",
    "print(f\"O valor dos pesos da camada de entrada é: {atualiza[1]}\")\n",
    "print(f\"O valor da polaridade da camada de entrada é: {atualiza[0]}\")\n",
    "\n",
    "print('---------------------------')\n",
    "print('Calculo da segunda iteração')\n",
    "\n",
    "pred = inicial.predict(input_vector)\n",
    "print(f\"Para a entrada: {input_vector}\")\n",
    "print(f\"O valor dos pesos da camada de entrada é: {weights}\")\n",
    "print(f\"O valor da polaridade da camada de entrada é: {bias}\")\n",
    "print(f\"O resultado da camada de entrada é: {pred[1]}\")\n",
    "print(f\"O resultado da camada de saida é: {pred[2]}\")\n",
    "print(f\"O valor predito é: {pred[0]}\")\n",
    "\n",
    "target = 1 \n",
    "print(f\"O valor de alvo é: {target}\")\n",
    "\n",
    "gradiente = _compute_gradients(input_vector,target,weights,bias)                                               \n",
    "print(f\"A derivada do erro de predição é: {gradiente[0]}\")\n",
    "print(f\"A derivada do erro de predição na camada de entrada é: {gradiente[1]}\")\n",
    "print(f\"A derivada da polarização é: {gradiente[2]}\")\n",
    "print(f\"A derivada dos pesos são: {gradiente[3]}\")\n",
    "print(f\"A derivada do erro em relação a polarização é: {gradiente[4]}\")\n",
    "print(f\"A derivada do erro em relação aos pesos são: {gradiente[5]}\")\n",
    "\n",
    "derror_dbias= gradiente[4]\n",
    "derror_dweights = gradiente[5]\n",
    "atualiza =_update_parameters(derror_dbias, derror_dweights, bias, weights,learning_rate)\n",
    "bias = atualiza[0]\n",
    "weights = atualiza[1]\n",
    "print(f\"O valor dos pesos da camada de entrada é: {atualiza[1]}\")\n",
    "print(f\"O valor da polaridade da camada de entrada é: {atualiza[0]}\")\n",
    "\n",
    "print('---------------------------')\n",
    "print('Calculo da terceira iteração')\n",
    "\n",
    "pred = inicial.predict(input_vector)\n",
    "print(f\"Para a entrada: {input_vector}\")\n",
    "print(f\"O valor dos pesos da camada de entrada é: {weights}\")\n",
    "print(f\"O valor da polaridade da camada de entrada é: {bias}\")\n",
    "print(f\"O resultado da camada de entrada é: {pred[1]}\")\n",
    "print(f\"O resultado da camada de saida é: {pred[2]}\")\n",
    "print(f\"O valor predito é: {pred[0]}\")"
   ]
  },
  {
   "cell_type": "code",
   "execution_count": null,
   "id": "0736508c",
   "metadata": {},
   "outputs": [],
   "source": []
  }
 ],
 "metadata": {
  "kernelspec": {
   "display_name": "Python 3",
   "language": "python",
   "name": "python3"
  },
  "language_info": {
   "codemirror_mode": {
    "name": "ipython",
    "version": 3
   },
   "file_extension": ".py",
   "mimetype": "text/x-python",
   "name": "python",
   "nbconvert_exporter": "python",
   "pygments_lexer": "ipython3",
   "version": "3.8.8"
  }
 },
 "nbformat": 4,
 "nbformat_minor": 5
}
