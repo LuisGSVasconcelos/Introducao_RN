{
 "cells": [
  {
   "cell_type": "markdown",
   "id": "0809ea7e",
   "metadata": {},
   "source": [
    "# Construir sua primeira rede neural\n",
    "A primeira etapa é definir o vetor de entrada"
   ]
  },
  {
   "cell_type": "code",
   "execution_count": 39,
   "id": "4dc747d7",
   "metadata": {},
   "outputs": [],
   "source": [
    "input_vector = [1.72, 1.23]"
   ]
  },
  {
   "cell_type": "markdown",
   "id": "2406e45f",
   "metadata": {},
   "source": [
    "A segunda consiste em escolher os pesos"
   ]
  },
  {
   "cell_type": "code",
   "execution_count": 40,
   "id": "966917f0",
   "metadata": {},
   "outputs": [],
   "source": [
    "weights_1 = [1.26, 0]\n",
    "weights_2 = [2.17, 0.32]"
   ]
  },
  {
   "cell_type": "markdown",
   "id": "390a6b69",
   "metadata": {},
   "source": [
    "Calcular o produto interno do vetor de entrada pelo pesos 1"
   ]
  },
  {
   "cell_type": "code",
   "execution_count": 41,
   "id": "add85556",
   "metadata": {},
   "outputs": [],
   "source": [
    "first_indexes_mult = input_vector[0] * weights_1[0]\n",
    "second_indexes_mult = input_vector[1] * weights_1[1]\n",
    "dot_product_1 = first_indexes_mult + second_indexes_mult"
   ]
  },
  {
   "cell_type": "code",
   "execution_count": 63,
   "id": "9b21f022",
   "metadata": {},
   "outputs": [
    {
     "name": "stdout",
     "output_type": "stream",
     "text": [
      "O produto da primeira entrada pelo peseo é: 2.1672\n"
     ]
    }
   ],
   "source": [
    "print(f\"O produto da primeira entrada pelo peseo é: {first_indexes_mult}\")"
   ]
  },
  {
   "cell_type": "code",
   "execution_count": 65,
   "id": "52c89471",
   "metadata": {},
   "outputs": [
    {
     "name": "stdout",
     "output_type": "stream",
     "text": [
      "O produto da primeira entrada pelo peseo é: 0.0\n"
     ]
    }
   ],
   "source": [
    "print(f\"O produto da primeira entrada pelo peseo é: {second_indexes_mult}\")"
   ]
  },
  {
   "cell_type": "code",
   "execution_count": 66,
   "id": "640d3178",
   "metadata": {},
   "outputs": [
    {
     "name": "stdout",
     "output_type": "stream",
     "text": [
      "O produto interno é: 2.1672\n"
     ]
    }
   ],
   "source": [
    "print(f\"O produto interno é: {dot_product_1}\")"
   ]
  },
  {
   "cell_type": "markdown",
   "id": "32e11117",
   "metadata": {},
   "source": [
    "### Repetir as operações usando numpy\n",
    "Importar a biblioteca numpy"
   ]
  },
  {
   "cell_type": "code",
   "execution_count": 67,
   "id": "ec0d2272",
   "metadata": {},
   "outputs": [],
   "source": [
    "import numpy as np"
   ]
  },
  {
   "cell_type": "markdown",
   "id": "8b9114df",
   "metadata": {},
   "source": [
    "Calcular o produto interno do vetor de entrada pelo pesos 1 usando numpy"
   ]
  },
  {
   "cell_type": "code",
   "execution_count": 47,
   "id": "02f3cc00",
   "metadata": {},
   "outputs": [],
   "source": [
    "dot_product_1 = np.dot(input_vector, weights_1)"
   ]
  },
  {
   "cell_type": "code",
   "execution_count": 48,
   "id": "8300df3e",
   "metadata": {},
   "outputs": [
    {
     "name": "stdout",
     "output_type": "stream",
     "text": [
      "O produto interno é: 2.1672\n"
     ]
    }
   ],
   "source": [
    "print(f\"O produto interno é: {dot_product_1}\")"
   ]
  },
  {
   "cell_type": "markdown",
   "id": "aa399170",
   "metadata": {},
   "source": [
    "Calcular o produto interno do vetor de entrada pelo pesos 2 usando numpy\n"
   ]
  },
  {
   "cell_type": "code",
   "execution_count": 49,
   "id": "5f959e4a",
   "metadata": {},
   "outputs": [],
   "source": [
    "dot_product_2 = np.dot(input_vector, weights_2)"
   ]
  },
  {
   "cell_type": "code",
   "execution_count": 50,
   "id": "11345f47",
   "metadata": {},
   "outputs": [
    {
     "name": "stdout",
     "output_type": "stream",
     "text": [
      "O produto interno é: 4.1259999999999994\n"
     ]
    }
   ],
   "source": [
    "print(f\"O produto interno é: {dot_product_2}\")"
   ]
  },
  {
   "cell_type": "markdown",
   "id": "459c6554",
   "metadata": {},
   "source": [
    "# Um problema de classificação\n",
    "\n",
    "| Vetor de Entrada | Alvo |\n",
    "| :- | -: |\n",
    "| [1.66, 1.56] | 1 |\n",
    "|   [2, 1.5]   | 0 |"
   ]
  },
  {
   "cell_type": "markdown",
   "id": "8423beb8",
   "metadata": {},
   "source": [
    "#### Envolvendo os vetores em matrizes NumPy"
   ]
  },
  {
   "cell_type": "code",
   "execution_count": 51,
   "id": "49ccf2b2",
   "metadata": {},
   "outputs": [],
   "source": [
    "input_vector = np.array([1.66, 1.56])\n",
    "weights_1 = np.array([1.45, -0.66])\n",
    "bias = np.array([0.0])"
   ]
  },
  {
   "cell_type": "markdown",
   "id": "d01f52c2",
   "metadata": {},
   "source": [
    "#### Definição da função sigmoide"
   ]
  },
  {
   "cell_type": "code",
   "execution_count": 52,
   "id": "ec583a2d",
   "metadata": {},
   "outputs": [],
   "source": [
    "def sigmoid(x):\n",
    "    return 1 / (1 + np.exp(-x))"
   ]
  },
  {
   "cell_type": "markdown",
   "id": "0cc0cbc4",
   "metadata": {},
   "source": [
    "#### Definição da função de predição"
   ]
  },
  {
   "cell_type": "code",
   "execution_count": 53,
   "id": "74c5f14d",
   "metadata": {},
   "outputs": [],
   "source": [
    "def make_prediction(input_vector, weights, bias):\n",
    "     layer_1 = np.dot(input_vector, weights) + bias\n",
    "     layer_2 = sigmoid(layer_1)\n",
    "     return layer_2"
   ]
  },
  {
   "cell_type": "code",
   "execution_count": 54,
   "id": "1a396cf8",
   "metadata": {},
   "outputs": [
    {
     "name": "stdout",
     "output_type": "stream",
     "text": [
      "O resultado da predição é: [0.7985731]\n"
     ]
    }
   ],
   "source": [
    "prediction = make_prediction(input_vector, weights_1, bias)\n",
    "print(f\"O resultado da predição é: {prediction}\")"
   ]
  },
  {
   "cell_type": "markdown",
   "id": "67737b1d",
   "metadata": {},
   "source": [
    "Modificando o vetor de entrada"
   ]
  },
  {
   "cell_type": "code",
   "execution_count": 55,
   "id": "3a749076",
   "metadata": {},
   "outputs": [],
   "source": [
    "input_vector = np.array([2, 1.5])"
   ]
  },
  {
   "cell_type": "code",
   "execution_count": 56,
   "id": "a7f11cd4",
   "metadata": {},
   "outputs": [
    {
     "name": "stdout",
     "output_type": "stream",
     "text": [
      "O resultado da predição é: [0.87101915]\n"
     ]
    }
   ],
   "source": [
    "prediction = make_prediction(input_vector, weights_1, bias)\n",
    "print(f\"O resultado da predição é: {prediction}\")"
   ]
  },
  {
   "cell_type": "markdown",
   "id": "2d7a12c3",
   "metadata": {},
   "source": [
    "| Vetor de Entrada | Alvo | Predito |\n",
    "| :- | -: | -: |\n",
    "| [1.66, 1.56] | 1 | 0.798 |\n",
    "|   [2, 1.5]   | 0 | 0.871 |"
   ]
  },
  {
   "cell_type": "markdown",
   "id": "1ed98189",
   "metadata": {},
   "source": [
    "Treinar sua primeira rede neural:"
   ]
  },
  {
   "cell_type": "code",
   "execution_count": 57,
   "id": "ca2e79e7",
   "metadata": {},
   "outputs": [
    {
     "name": "stdout",
     "output_type": "stream",
     "text": [
      "Predição: [0.87101915]; Erro: [0.75867436]\n"
     ]
    }
   ],
   "source": [
    "target = 0\n",
    "mse = np.square(prediction - target)\n",
    "print(f\"Predição: {prediction}; Erro: {mse}\")"
   ]
  },
  {
   "cell_type": "markdown",
   "id": "448e73d5",
   "metadata": {},
   "source": [
    "Calcular da derivada:"
   ]
  },
  {
   "cell_type": "code",
   "execution_count": 58,
   "id": "9d43a2b0",
   "metadata": {},
   "outputs": [
    {
     "name": "stdout",
     "output_type": "stream",
     "text": [
      "A derivada é [1.7420383]\n"
     ]
    }
   ],
   "source": [
    "derivative = 2 * (prediction - target)\n",
    "print(f\"A derivada é {derivative}\")"
   ]
  },
  {
   "cell_type": "markdown",
   "id": "45275430",
   "metadata": {},
   "source": [
    "Atualizar pesos:"
   ]
  },
  {
   "cell_type": "code",
   "execution_count": 68,
   "id": "5b311c2c",
   "metadata": {},
   "outputs": [
    {
     "name": "stdout",
     "output_type": "stream",
     "text": [
      "O peso anterior é [-2.03407659 -4.14407659]\n",
      "O peso atualizado é [-3.77611489 -5.88611489]\n"
     ]
    }
   ],
   "source": [
    "print(f\"O peso anterior é {weights_1}\")\n",
    "weights_1 = weights_1 - derivative\n",
    "print(f\"O peso atualizado é {weights_1}\")"
   ]
  },
  {
   "cell_type": "markdown",
   "id": "4bf640de",
   "metadata": {},
   "source": [
    "Fazendo uma nova predição:"
   ]
  },
  {
   "cell_type": "code",
   "execution_count": 69,
   "id": "e5cf24d8",
   "metadata": {},
   "outputs": [
    {
     "name": "stdout",
     "output_type": "stream",
     "text": [
      "Prediction: [7.6850629e-08]; Error: [5.90601918e-15]\n"
     ]
    }
   ],
   "source": [
    "prediction = make_prediction(input_vector, weights_1, bias)\n",
    "error = (prediction - target) ** 2\n",
    "print(f\"Prediction: {prediction}; Error: {error}\")"
   ]
  },
  {
   "cell_type": "code",
   "execution_count": null,
   "id": "a04b011d",
   "metadata": {},
   "outputs": [],
   "source": []
  }
 ],
 "metadata": {
  "kernelspec": {
   "display_name": "Python 3",
   "language": "python",
   "name": "python3"
  },
  "language_info": {
   "codemirror_mode": {
    "name": "ipython",
    "version": 3
   },
   "file_extension": ".py",
   "mimetype": "text/x-python",
   "name": "python",
   "nbconvert_exporter": "python",
   "pygments_lexer": "ipython3",
   "version": "3.8.8"
  }
 },
 "nbformat": 4,
 "nbformat_minor": 5
}
